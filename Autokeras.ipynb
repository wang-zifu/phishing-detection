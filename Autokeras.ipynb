{
 "cells": [
  {
   "cell_type": "code",
   "execution_count": 1,
   "metadata": {},
   "outputs": [],
   "source": [
    "import numpy as np\n",
    "import pandas as pd\n",
    "\n",
    "import autokeras as ak\n",
    "from sklearn.model_selection import train_test_split"
   ]
  },
  {
   "cell_type": "code",
   "execution_count": 2,
   "metadata": {},
   "outputs": [],
   "source": [
    "X_train = pd.read_csv('dataset/url_legitimates.csv').dropna()[:40000]\n",
    "y_train = pd.Series(np.zeros((len(X_train),)), dtype=np.int)\n",
    "\n",
    "X_train = pd.concat([X_train, pd.read_csv('dataset/domain_legitimates.csv').dropna()[:40000]]).reset_index(drop=True)\n",
    "y_train = pd.concat([y_train, pd.Series(np.zeros((len(X_train) - len(y_train),)), dtype=np.int)], ignore_index=True)\n",
    "\n",
    "X_train = pd.concat([X_train, pd.read_csv('dataset/url_phishings.csv').dropna()[:40000]]).reset_index(drop=True)\n",
    "y_train = pd.concat([y_train, pd.Series(np.ones((len(X_train) - len(y_train),)), dtype=np.int)], ignore_index=True)\n",
    "\n",
    "X_train = pd.concat([X_train, pd.read_csv('dataset/domain_phishings.csv').dropna()[:40000]]).reset_index(drop=True)\n",
    "y_train = pd.concat([y_train, pd.Series(np.ones((len(X_train) - len(y_train),)), dtype=np.int)], ignore_index=True)"
   ]
  },
  {
   "cell_type": "code",
   "execution_count": 3,
   "metadata": {},
   "outputs": [],
   "source": [
    "bool_cols = ['domain_is_ip', 'path_percent20_in', 'path_single_char_dir_in', 'path_upper_dir_in']\n",
    "for col in bool_cols:\n",
    "    X_train[col] = X_train[col].astype(np.int)"
   ]
  },
  {
   "cell_type": "code",
   "execution_count": 4,
   "metadata": {},
   "outputs": [],
   "source": [
    "X_train, X_test, y_train, y_test = train_test_split(X_train.to_numpy(), y_train.to_numpy())"
   ]
  },
  {
   "cell_type": "code",
   "execution_count": 5,
   "metadata": {},
   "outputs": [],
   "source": [
    "def text_to_int_sequence_classification(X_train, X_test, y_train, y_test):\n",
    "    input_node = ak.TextInput()\n",
    "    output_node = ak.TextToIntSequence()(input_node)\n",
    "    output_node = ak.Embedding(max_features=20001)(output_node)\n",
    "    output_node = ak.ConvBlock(separable=True)(output_node)\n",
    "    output_node = ak.SpatialReduction()(output_node)\n",
    "    output_node = ak.DenseBlock()(output_node)\n",
    "    output_node = ak.ClassificationHead()(output_node)\n",
    "    return ak.AutoModel(inputs=input_node, outputs=output_node)\n",
    "\n",
    "def text_to_ngram_vector_classicfication(X_train, X_test, y_train, y_test):\n",
    "    input_node = ak.TextInput()\n",
    "    output_node = ak.TextToNgramVector()(input_node)\n",
    "    #output_node = ak.ConvBlock(separable=True)(output_node)\n",
    "    output_node = ak.DenseBlock()(output_node)\n",
    "    output_node = ak.ClassificationHead()(output_node)\n",
    "    return ak.AutoModel(inputs=input_node, outputs=output_node)"
   ]
  },
  {
   "cell_type": "code",
   "execution_count": 6,
   "metadata": {},
   "outputs": [
    {
     "name": "stdout",
     "output_type": "stream",
     "text": [
      "Train for 3000 steps, validate for 750 steps\n",
      "Epoch 1/1000\n",
      "3000/3000 - 34s - loss: 1.6300 - accuracy: 0.6257 - val_loss: 0.6238 - val_accuracy: 0.7150\n",
      "Epoch 2/1000\n",
      "3000/3000 - 32s - loss: 0.7244 - accuracy: 0.6717 - val_loss: 0.5960 - val_accuracy: 0.7165\n",
      "Epoch 3/1000\n",
      "3000/3000 - 31s - loss: 0.6545 - accuracy: 0.6863 - val_loss: 0.6335 - val_accuracy: 0.7039\n",
      "Epoch 4/1000\n",
      "3000/3000 - 32s - loss: 0.6139 - accuracy: 0.6968 - val_loss: 0.5422 - val_accuracy: 0.7243\n",
      "Epoch 5/1000\n",
      "3000/3000 - 32s - loss: 0.5783 - accuracy: 0.7146 - val_loss: 0.5599 - val_accuracy: 0.7289\n",
      "Epoch 6/1000\n",
      "3000/3000 - 32s - loss: 0.5477 - accuracy: 0.7312 - val_loss: 0.6625 - val_accuracy: 0.6800\n",
      "Epoch 7/1000\n",
      "3000/3000 - 33s - loss: 0.5248 - accuracy: 0.7427 - val_loss: 0.5125 - val_accuracy: 0.7512\n",
      "Epoch 8/1000\n",
      "3000/3000 - 31s - loss: 0.5120 - accuracy: 0.7483 - val_loss: 0.5085 - val_accuracy: 0.7396\n",
      "Epoch 9/1000\n",
      "3000/3000 - 32s - loss: 0.4967 - accuracy: 0.7566 - val_loss: 0.4767 - val_accuracy: 0.7729\n",
      "Epoch 10/1000\n",
      "3000/3000 - 31s - loss: 0.4852 - accuracy: 0.7644 - val_loss: 0.4805 - val_accuracy: 0.7689\n",
      "Epoch 11/1000\n",
      "3000/3000 - 32s - loss: 0.4752 - accuracy: 0.7703 - val_loss: 0.4661 - val_accuracy: 0.7804\n",
      "Epoch 12/1000\n",
      "3000/3000 - 32s - loss: 0.4661 - accuracy: 0.7755 - val_loss: 0.4578 - val_accuracy: 0.7867\n",
      "Epoch 13/1000\n",
      "3000/3000 - 31s - loss: 0.4578 - accuracy: 0.7802 - val_loss: 0.4757 - val_accuracy: 0.7660\n",
      "Epoch 14/1000\n",
      "3000/3000 - 31s - loss: 0.4510 - accuracy: 0.7833 - val_loss: 0.4509 - val_accuracy: 0.7829\n",
      "Epoch 15/1000\n",
      "3000/3000 - 32s - loss: 0.4445 - accuracy: 0.7873 - val_loss: 0.4531 - val_accuracy: 0.7816\n",
      "Epoch 16/1000\n",
      "3000/3000 - 33s - loss: 0.4405 - accuracy: 0.7902 - val_loss: 0.4356 - val_accuracy: 0.7937\n",
      "Epoch 17/1000\n",
      "3000/3000 - 31s - loss: 0.4343 - accuracy: 0.7933 - val_loss: 0.4247 - val_accuracy: 0.7952\n",
      "Epoch 18/1000\n",
      "3000/3000 - 28s - loss: 0.4341 - accuracy: 0.7924 - val_loss: 0.4572 - val_accuracy: 0.7775\n",
      "Epoch 19/1000\n",
      "3000/3000 - 26s - loss: 0.4299 - accuracy: 0.7943 - val_loss: 0.4233 - val_accuracy: 0.8009\n",
      "Epoch 20/1000\n",
      "3000/3000 - 25s - loss: 0.4241 - accuracy: 0.7979 - val_loss: 0.4228 - val_accuracy: 0.7998\n",
      "Epoch 21/1000\n",
      "3000/3000 - 25s - loss: 0.4290 - accuracy: 0.7965 - val_loss: 0.4294 - val_accuracy: 0.8004\n",
      "Epoch 22/1000\n",
      "3000/3000 - 29s - loss: 0.4331 - accuracy: 0.7928 - val_loss: 0.4099 - val_accuracy: 0.8108\n",
      "Epoch 23/1000\n",
      "3000/3000 - 32s - loss: 0.4154 - accuracy: 0.8043 - val_loss: 0.4031 - val_accuracy: 0.8160\n",
      "Epoch 24/1000\n",
      "3000/3000 - 31s - loss: 0.4131 - accuracy: 0.8057 - val_loss: 0.4099 - val_accuracy: 0.8144\n",
      "Epoch 25/1000\n",
      "3000/3000 - 31s - loss: 0.4078 - accuracy: 0.8097 - val_loss: 0.4021 - val_accuracy: 0.8131\n",
      "Epoch 26/1000\n",
      "3000/3000 - 31s - loss: 0.4078 - accuracy: 0.8107 - val_loss: 0.4005 - val_accuracy: 0.8174\n",
      "Epoch 27/1000\n",
      "3000/3000 - 31s - loss: 0.4045 - accuracy: 0.8118 - val_loss: 0.3980 - val_accuracy: 0.8175\n",
      "Epoch 28/1000\n",
      "3000/3000 - 31s - loss: 0.4029 - accuracy: 0.8135 - val_loss: 0.4175 - val_accuracy: 0.8070\n",
      "Epoch 29/1000\n",
      "3000/3000 - 31s - loss: 0.4005 - accuracy: 0.8156 - val_loss: 0.3939 - val_accuracy: 0.8210\n",
      "Epoch 30/1000\n",
      "3000/3000 - 31s - loss: 0.4004 - accuracy: 0.8153 - val_loss: 0.3932 - val_accuracy: 0.8187\n",
      "Epoch 31/1000\n",
      "3000/3000 - 31s - loss: 0.3972 - accuracy: 0.8176 - val_loss: 0.3945 - val_accuracy: 0.8230\n",
      "Epoch 32/1000\n",
      "3000/3000 - 32s - loss: 0.3978 - accuracy: 0.8172 - val_loss: 0.3897 - val_accuracy: 0.8252\n",
      "Epoch 33/1000\n",
      "3000/3000 - 31s - loss: 0.3965 - accuracy: 0.8181 - val_loss: 0.3911 - val_accuracy: 0.8261\n",
      "Epoch 34/1000\n",
      "3000/3000 - 30s - loss: 0.3945 - accuracy: 0.8190 - val_loss: 0.3923 - val_accuracy: 0.8224\n",
      "Epoch 35/1000\n",
      "3000/3000 - 30s - loss: 0.3931 - accuracy: 0.8199 - val_loss: 0.3969 - val_accuracy: 0.8240\n",
      "Epoch 36/1000\n",
      "3000/3000 - 31s - loss: 0.3933 - accuracy: 0.8206 - val_loss: 0.3856 - val_accuracy: 0.8227\n",
      "Epoch 37/1000\n",
      "3000/3000 - 31s - loss: 0.3911 - accuracy: 0.8222 - val_loss: 0.3865 - val_accuracy: 0.8249\n",
      "Epoch 38/1000\n",
      "3000/3000 - 31s - loss: 0.3895 - accuracy: 0.8238 - val_loss: 0.3842 - val_accuracy: 0.8307\n",
      "Epoch 39/1000\n",
      "3000/3000 - 30s - loss: 0.3885 - accuracy: 0.8239 - val_loss: 0.3899 - val_accuracy: 0.8279\n",
      "Epoch 40/1000\n",
      "3000/3000 - 30s - loss: 0.3883 - accuracy: 0.8239 - val_loss: 0.3880 - val_accuracy: 0.8260\n",
      "Epoch 41/1000\n",
      "3000/3000 - 30s - loss: 0.3871 - accuracy: 0.8246 - val_loss: 0.3892 - val_accuracy: 0.8221\n",
      "Epoch 42/1000\n",
      "3000/3000 - 30s - loss: 0.3868 - accuracy: 0.8252 - val_loss: 0.3794 - val_accuracy: 0.8292\n",
      "Epoch 43/1000\n",
      "3000/3000 - 28s - loss: 0.3871 - accuracy: 0.8244 - val_loss: 0.3822 - val_accuracy: 0.8244\n",
      "Epoch 44/1000\n",
      "3000/3000 - 28s - loss: 0.3851 - accuracy: 0.8259 - val_loss: 0.3836 - val_accuracy: 0.8158\n",
      "Epoch 45/1000\n",
      "3000/3000 - 29s - loss: 0.3853 - accuracy: 0.8260 - val_loss: 0.3796 - val_accuracy: 0.8271\n",
      "Epoch 46/1000\n",
      "3000/3000 - 28s - loss: 0.3830 - accuracy: 0.8276 - val_loss: 0.3832 - val_accuracy: 0.8277\n",
      "Epoch 47/1000\n",
      "3000/3000 - 31s - loss: 0.3828 - accuracy: 0.8275 - val_loss: 0.3849 - val_accuracy: 0.8207\n",
      "Epoch 48/1000\n",
      "3000/3000 - 31s - loss: 0.3821 - accuracy: 0.8276 - val_loss: 0.3777 - val_accuracy: 0.8277\n",
      "Epoch 49/1000\n",
      "3000/3000 - 32s - loss: 0.3809 - accuracy: 0.8284 - val_loss: 0.3923 - val_accuracy: 0.8113\n",
      "Epoch 50/1000\n",
      "3000/3000 - 32s - loss: 0.3806 - accuracy: 0.8287 - val_loss: 0.3760 - val_accuracy: 0.8257\n",
      "Epoch 51/1000\n",
      "3000/3000 - 32s - loss: 0.3800 - accuracy: 0.8295 - val_loss: 0.3755 - val_accuracy: 0.8264\n",
      "Epoch 52/1000\n",
      "3000/3000 - 31s - loss: 0.3793 - accuracy: 0.8302 - val_loss: 0.3831 - val_accuracy: 0.8194\n",
      "Epoch 53/1000\n",
      "3000/3000 - 31s - loss: 0.3792 - accuracy: 0.8302 - val_loss: 0.3853 - val_accuracy: 0.8184\n",
      "Epoch 54/1000\n",
      "3000/3000 - 31s - loss: 0.3787 - accuracy: 0.8311 - val_loss: 0.3850 - val_accuracy: 0.8163\n",
      "Epoch 55/1000\n",
      "3000/3000 - 31s - loss: 0.3777 - accuracy: 0.8322 - val_loss: 0.3720 - val_accuracy: 0.8302\n",
      "Epoch 56/1000\n",
      "3000/3000 - 31s - loss: 0.3770 - accuracy: 0.8308 - val_loss: 0.3873 - val_accuracy: 0.8138\n",
      "Epoch 57/1000\n",
      "3000/3000 - 31s - loss: 0.3785 - accuracy: 0.8313 - val_loss: 0.3801 - val_accuracy: 0.8183\n",
      "Epoch 58/1000\n",
      "3000/3000 - 31s - loss: 0.3770 - accuracy: 0.8318 - val_loss: 0.3809 - val_accuracy: 0.8246\n",
      "Epoch 59/1000\n",
      "3000/3000 - 32s - loss: 0.3762 - accuracy: 0.8323 - val_loss: 0.3683 - val_accuracy: 0.8326\n",
      "Epoch 60/1000\n",
      "3000/3000 - 31s - loss: 0.3756 - accuracy: 0.8325 - val_loss: 0.3813 - val_accuracy: 0.8185\n",
      "Epoch 61/1000\n",
      "3000/3000 - 31s - loss: 0.3762 - accuracy: 0.8322 - val_loss: 0.3842 - val_accuracy: 0.8210\n",
      "Epoch 62/1000\n",
      "3000/3000 - 31s - loss: 0.3756 - accuracy: 0.8331 - val_loss: 0.3746 - val_accuracy: 0.8303\n",
      "Epoch 63/1000\n",
      "3000/3000 - 31s - loss: 0.3748 - accuracy: 0.8327 - val_loss: 0.3806 - val_accuracy: 0.8232\n",
      "Epoch 64/1000\n",
      "3000/3000 - 29s - loss: 0.3752 - accuracy: 0.8329 - val_loss: 0.3797 - val_accuracy: 0.8241\n",
      "Epoch 65/1000\n",
      "3000/3000 - 29s - loss: 0.3745 - accuracy: 0.8333 - val_loss: 0.3797 - val_accuracy: 0.8253\n",
      "Epoch 66/1000\n",
      "3000/3000 - 30s - loss: 0.3735 - accuracy: 0.8342 - val_loss: 0.3878 - val_accuracy: 0.8181\n",
      "Epoch 67/1000\n",
      "3000/3000 - 26s - loss: 0.3747 - accuracy: 0.8334 - val_loss: 0.3865 - val_accuracy: 0.8193\n",
      "Epoch 68/1000\n",
      "3000/3000 - 26s - loss: 0.3729 - accuracy: 0.8342 - val_loss: 0.3898 - val_accuracy: 0.8148\n",
      "Epoch 69/1000\n",
      "3000/3000 - 31s - loss: 0.3723 - accuracy: 0.8339 - val_loss: 0.3735 - val_accuracy: 0.8316\n"
     ]
    },
    {
     "data": {
      "text/html": [
       "<span style=\"color:#4527A0\"><h1 style=\"font-size:18px\">Trial complete</h1></span>"
      ],
      "text/plain": [
       "<IPython.core.display.HTML object>"
      ]
     },
     "metadata": {},
     "output_type": "display_data"
    },
    {
     "data": {
      "text/html": [
       "<span style=\"color:#4527A0\"><h1 style=\"font-size:18px\">Trial summary</h1></span>"
      ],
      "text/plain": [
       "<IPython.core.display.HTML object>"
      ]
     },
     "metadata": {},
     "output_type": "display_data"
    },
    {
     "data": {
      "text/html": [
       "<span style=\"color:cyan\"> |-Trial ID: caf5dbda60bba14cf786965ee5d9a8cc</span>"
      ],
      "text/plain": [
       "<IPython.core.display.HTML object>"
      ]
     },
     "metadata": {},
     "output_type": "display_data"
    },
    {
     "data": {
      "text/html": [
       "<span style=\"color:cyan\"> |-Score: 0.8326249718666077</span>"
      ],
      "text/plain": [
       "<IPython.core.display.HTML object>"
      ]
     },
     "metadata": {},
     "output_type": "display_data"
    },
    {
     "data": {
      "text/html": [
       "<span style=\"color:cyan\"> |-Best step: 0</span>"
      ],
      "text/plain": [
       "<IPython.core.display.HTML object>"
      ]
     },
     "metadata": {},
     "output_type": "display_data"
    },
    {
     "data": {
      "text/html": [
       "<span style=\"color:#7E57C2\"><h2 style=\"font-size:16px\">Hyperparameters:</h2></span>"
      ],
      "text/plain": [
       "<IPython.core.display.HTML object>"
      ]
     },
     "metadata": {},
     "output_type": "display_data"
    },
    {
     "data": {
      "text/html": [
       "<span style=\"color:cyan\"> |-classification_head_1/dropout_rate: 0</span>"
      ],
      "text/plain": [
       "<IPython.core.display.HTML object>"
      ]
     },
     "metadata": {},
     "output_type": "display_data"
    },
    {
     "data": {
      "text/html": [
       "<span style=\"color:blue\"> |-optimizer: adam</span>"
      ],
      "text/plain": [
       "<IPython.core.display.HTML object>"
      ]
     },
     "metadata": {},
     "output_type": "display_data"
    },
    {
     "data": {
      "text/html": [
       "<span style=\"color:cyan\"> |-structured_data_block_1/dense_block_1/dropout_rate: 0</span>"
      ],
      "text/plain": [
       "<IPython.core.display.HTML object>"
      ]
     },
     "metadata": {},
     "output_type": "display_data"
    },
    {
     "data": {
      "text/html": [
       "<span style=\"color:blue\"> |-structured_data_block_1/dense_block_1/num_layers: 2</span>"
      ],
      "text/plain": [
       "<IPython.core.display.HTML object>"
      ]
     },
     "metadata": {},
     "output_type": "display_data"
    },
    {
     "data": {
      "text/html": [
       "<span style=\"color:cyan\"> |-structured_data_block_1/dense_block_1/units_0: 32</span>"
      ],
      "text/plain": [
       "<IPython.core.display.HTML object>"
      ]
     },
     "metadata": {},
     "output_type": "display_data"
    },
    {
     "data": {
      "text/html": [
       "<span style=\"color:blue\"> |-structured_data_block_1/dense_block_1/units_1: 32</span>"
      ],
      "text/plain": [
       "<IPython.core.display.HTML object>"
      ]
     },
     "metadata": {},
     "output_type": "display_data"
    },
    {
     "data": {
      "text/html": [
       "<span style=\"color:cyan\"> |-structured_data_block_1/dense_block_1/use_batchnorm: False</span>"
      ],
      "text/plain": [
       "<IPython.core.display.HTML object>"
      ]
     },
     "metadata": {},
     "output_type": "display_data"
    },
    {
     "name": "stdout",
     "output_type": "stream",
     "text": [
      "Train for 3000 steps, validate for 750 steps\n",
      "Epoch 1/1000\n",
      "3000/3000 - 34s - loss: 52.5221 - accuracy: 0.4778 - val_loss: 42.3346 - val_accuracy: 0.4904\n",
      "Epoch 2/1000\n",
      "3000/3000 - 32s - loss: 34.0202 - accuracy: 0.5047 - val_loss: 28.9405 - val_accuracy: 0.5139\n",
      "Epoch 3/1000\n",
      "3000/3000 - 32s - loss: 24.2482 - accuracy: 0.5205 - val_loss: 22.1653 - val_accuracy: 0.5200\n",
      "Epoch 4/1000\n",
      "3000/3000 - 32s - loss: 19.3034 - accuracy: 0.5280 - val_loss: 18.4052 - val_accuracy: 0.5266\n",
      "Epoch 5/1000\n",
      "3000/3000 - 31s - loss: 16.2562 - accuracy: 0.5307 - val_loss: 15.8612 - val_accuracy: 0.5256\n",
      "Epoch 6/1000\n",
      "3000/3000 - 32s - loss: 14.0903 - accuracy: 0.5290 - val_loss: 13.9117 - val_accuracy: 0.5280\n",
      "Epoch 7/1000\n",
      "3000/3000 - 32s - loss: 12.3878 - accuracy: 0.5366 - val_loss: 12.3503 - val_accuracy: 0.5403\n",
      "Epoch 8/1000\n",
      "3000/3000 - 32s - loss: 11.0462 - accuracy: 0.5476 - val_loss: 11.1202 - val_accuracy: 0.5487\n",
      "Epoch 9/1000\n",
      "3000/3000 - 32s - loss: 10.0056 - accuracy: 0.5549 - val_loss: 10.1625 - val_accuracy: 0.5557\n",
      "Epoch 10/1000\n",
      "3000/3000 - 31s - loss: 9.2015 - accuracy: 0.5583 - val_loss: 9.4170 - val_accuracy: 0.5548\n",
      "Epoch 11/1000\n",
      "3000/3000 - 32s - loss: 8.5822 - accuracy: 0.5606 - val_loss: 8.8283 - val_accuracy: 0.5586\n",
      "Epoch 12/1000\n",
      "3000/3000 - 31s - loss: 8.0925 - accuracy: 0.5623 - val_loss: 8.3547 - val_accuracy: 0.5630\n",
      "Epoch 13/1000\n",
      "3000/3000 - 30s - loss: 7.6989 - accuracy: 0.5633 - val_loss: 7.9664 - val_accuracy: 0.5663\n",
      "Epoch 14/1000\n",
      "3000/3000 - 28s - loss: 7.3690 - accuracy: 0.5642 - val_loss: 7.6382 - val_accuracy: 0.5685\n",
      "Epoch 15/1000\n",
      "3000/3000 - 26s - loss: 7.0870 - accuracy: 0.5673 - val_loss: 7.3583 - val_accuracy: 0.5690\n",
      "Epoch 16/1000\n",
      "3000/3000 - 26s - loss: 6.8429 - accuracy: 0.5691 - val_loss: 7.1088 - val_accuracy: 0.5711\n",
      "Epoch 17/1000\n",
      "3000/3000 - 26s - loss: 6.6229 - accuracy: 0.5706 - val_loss: 6.8834 - val_accuracy: 0.5752\n",
      "Epoch 18/1000\n",
      "3000/3000 - 30s - loss: 6.4228 - accuracy: 0.5721 - val_loss: 6.6775 - val_accuracy: 0.5766\n",
      "Epoch 19/1000\n",
      "3000/3000 - 31s - loss: 6.2367 - accuracy: 0.5749 - val_loss: 6.4832 - val_accuracy: 0.5767\n",
      "Epoch 20/1000\n",
      "3000/3000 - 31s - loss: 6.0598 - accuracy: 0.5765 - val_loss: 6.2992 - val_accuracy: 0.5767\n",
      "Epoch 21/1000\n",
      "3000/3000 - 32s - loss: 5.8917 - accuracy: 0.5780 - val_loss: 6.1239 - val_accuracy: 0.5788\n",
      "Epoch 22/1000\n",
      "3000/3000 - 32s - loss: 5.7307 - accuracy: 0.5788 - val_loss: 5.9559 - val_accuracy: 0.5798\n",
      "Epoch 23/1000\n",
      "3000/3000 - 32s - loss: 5.5760 - accuracy: 0.5788 - val_loss: 5.7956 - val_accuracy: 0.5798\n",
      "Epoch 24/1000\n",
      "3000/3000 - 32s - loss: 5.4275 - accuracy: 0.5800 - val_loss: 5.6414 - val_accuracy: 0.5803\n",
      "Epoch 25/1000\n",
      "3000/3000 - 32s - loss: 5.2839 - accuracy: 0.5818 - val_loss: 5.4923 - val_accuracy: 0.5814\n",
      "Epoch 26/1000\n",
      "3000/3000 - 32s - loss: 5.1438 - accuracy: 0.5836 - val_loss: 5.3479 - val_accuracy: 0.5834\n",
      "Epoch 27/1000\n",
      "3000/3000 - 32s - loss: 5.0078 - accuracy: 0.5853 - val_loss: 5.2072 - val_accuracy: 0.5854\n",
      "Epoch 28/1000\n",
      "3000/3000 - 32s - loss: 4.8743 - accuracy: 0.5867 - val_loss: 5.0688 - val_accuracy: 0.5870\n",
      "Epoch 29/1000\n",
      "3000/3000 - 32s - loss: 4.7442 - accuracy: 0.5886 - val_loss: 4.9344 - val_accuracy: 0.5881\n",
      "Epoch 30/1000\n",
      "3000/3000 - 32s - loss: 4.6182 - accuracy: 0.5896 - val_loss: 4.8032 - val_accuracy: 0.5899\n",
      "Epoch 31/1000\n",
      "3000/3000 - 33s - loss: 4.4950 - accuracy: 0.5905 - val_loss: 4.6738 - val_accuracy: 0.5905\n",
      "Epoch 32/1000\n",
      "3000/3000 - 32s - loss: 4.3732 - accuracy: 0.5920 - val_loss: 4.5472 - val_accuracy: 0.5940\n",
      "Epoch 33/1000\n",
      "3000/3000 - 30s - loss: 4.2553 - accuracy: 0.5934 - val_loss: 4.4246 - val_accuracy: 0.5949\n",
      "Epoch 34/1000\n",
      "3000/3000 - 28s - loss: 4.1413 - accuracy: 0.5941 - val_loss: 4.3054 - val_accuracy: 0.5955\n",
      "Epoch 35/1000\n",
      "3000/3000 - 28s - loss: 4.0314 - accuracy: 0.5958 - val_loss: 4.1901 - val_accuracy: 0.5970\n",
      "Epoch 36/1000\n",
      "3000/3000 - 28s - loss: 3.9233 - accuracy: 0.5978 - val_loss: 4.0765 - val_accuracy: 0.6013\n",
      "Epoch 37/1000\n",
      "3000/3000 - 31s - loss: 3.8172 - accuracy: 0.6001 - val_loss: 3.9654 - val_accuracy: 0.6029\n",
      "Epoch 38/1000\n",
      "3000/3000 - 32s - loss: 3.7144 - accuracy: 0.6014 - val_loss: 3.8588 - val_accuracy: 0.6036\n",
      "Epoch 39/1000\n",
      "3000/3000 - 32s - loss: 3.6146 - accuracy: 0.6032 - val_loss: 3.7552 - val_accuracy: 0.6048\n",
      "Epoch 40/1000\n",
      "3000/3000 - 32s - loss: 3.5174 - accuracy: 0.6045 - val_loss: 3.6550 - val_accuracy: 0.6059\n",
      "Epoch 41/1000\n",
      "3000/3000 - 32s - loss: 3.4235 - accuracy: 0.6053 - val_loss: 3.5593 - val_accuracy: 0.6076\n",
      "Epoch 42/1000\n",
      "3000/3000 - 32s - loss: 3.3344 - accuracy: 0.6060 - val_loss: 3.4694 - val_accuracy: 0.6090\n",
      "Epoch 43/1000\n",
      "3000/3000 - 31s - loss: 3.2500 - accuracy: 0.6058 - val_loss: 3.3842 - val_accuracy: 0.6093\n",
      "Epoch 44/1000\n",
      "3000/3000 - 32s - loss: 3.1699 - accuracy: 0.6083 - val_loss: 3.3019 - val_accuracy: 0.6118\n",
      "Epoch 45/1000\n",
      "3000/3000 - 32s - loss: 3.0924 - accuracy: 0.6095 - val_loss: 3.2212 - val_accuracy: 0.6125\n",
      "Epoch 46/1000\n",
      "3000/3000 - 32s - loss: 3.0165 - accuracy: 0.6111 - val_loss: 3.1412 - val_accuracy: 0.6138\n",
      "Epoch 47/1000\n",
      "3000/3000 - 33s - loss: 2.9411 - accuracy: 0.6122 - val_loss: 3.0628 - val_accuracy: 0.6154\n",
      "Epoch 48/1000\n",
      "3000/3000 - 33s - loss: 2.8685 - accuracy: 0.6132 - val_loss: 2.9875 - val_accuracy: 0.6196\n",
      "Epoch 49/1000\n",
      "3000/3000 - 33s - loss: 2.7979 - accuracy: 0.6145 - val_loss: 2.9139 - val_accuracy: 0.6220\n",
      "Epoch 50/1000\n",
      "3000/3000 - 34s - loss: 2.7290 - accuracy: 0.6171 - val_loss: 2.8426 - val_accuracy: 0.6229\n",
      "Epoch 51/1000\n",
      "3000/3000 - 33s - loss: 2.6631 - accuracy: 0.6190 - val_loss: 2.7744 - val_accuracy: 0.6233\n",
      "Epoch 52/1000\n",
      "3000/3000 - 33s - loss: 2.5992 - accuracy: 0.6195 - val_loss: 2.7072 - val_accuracy: 0.6243\n",
      "Epoch 53/1000\n",
      "3000/3000 - 31s - loss: 2.5375 - accuracy: 0.6207 - val_loss: 2.6428 - val_accuracy: 0.6271\n",
      "Epoch 54/1000\n",
      "3000/3000 - 31s - loss: 2.4781 - accuracy: 0.6217 - val_loss: 2.5809 - val_accuracy: 0.6279\n",
      "Epoch 55/1000\n",
      "3000/3000 - 31s - loss: 2.4212 - accuracy: 0.6223 - val_loss: 2.5223 - val_accuracy: 0.6283\n",
      "Epoch 56/1000\n",
      "3000/3000 - 30s - loss: 2.3675 - accuracy: 0.6226 - val_loss: 2.4673 - val_accuracy: 0.6276\n",
      "Epoch 57/1000\n",
      "3000/3000 - 29s - loss: 2.3171 - accuracy: 0.6238 - val_loss: 2.4158 - val_accuracy: 0.6281\n",
      "Epoch 58/1000\n",
      "3000/3000 - 26s - loss: 2.2690 - accuracy: 0.6246 - val_loss: 2.3665 - val_accuracy: 0.6295\n",
      "Epoch 59/1000\n",
      "3000/3000 - 27s - loss: 2.2228 - accuracy: 0.6259 - val_loss: 2.3198 - val_accuracy: 0.6321\n",
      "Epoch 60/1000\n",
      "3000/3000 - 26s - loss: 2.1798 - accuracy: 0.6274 - val_loss: 2.2766 - val_accuracy: 0.6313\n",
      "Epoch 61/1000\n",
      "3000/3000 - 26s - loss: 2.1393 - accuracy: 0.6281 - val_loss: 2.2359 - val_accuracy: 0.6305\n",
      "Epoch 62/1000\n",
      "3000/3000 - 25s - loss: 2.1013 - accuracy: 0.6284 - val_loss: 2.1974 - val_accuracy: 0.6317\n",
      "Epoch 63/1000\n",
      "3000/3000 - 25s - loss: 2.0654 - accuracy: 0.6297 - val_loss: 2.1608 - val_accuracy: 0.6343\n",
      "Epoch 64/1000\n",
      "3000/3000 - 27s - loss: 2.0311 - accuracy: 0.6306 - val_loss: 2.1258 - val_accuracy: 0.6345\n",
      "Epoch 65/1000\n",
      "3000/3000 - 26s - loss: 1.9984 - accuracy: 0.6316 - val_loss: 2.0923 - val_accuracy: 0.6341\n",
      "Epoch 66/1000\n",
      "3000/3000 - 26s - loss: 1.9669 - accuracy: 0.6327 - val_loss: 2.0604 - val_accuracy: 0.6352\n",
      "Epoch 67/1000\n",
      "3000/3000 - 26s - loss: 1.9369 - accuracy: 0.6339 - val_loss: 2.0300 - val_accuracy: 0.6364\n",
      "Epoch 68/1000\n",
      "3000/3000 - 26s - loss: 1.9079 - accuracy: 0.6355 - val_loss: 2.0008 - val_accuracy: 0.6387\n",
      "Epoch 69/1000\n",
      "3000/3000 - 26s - loss: 1.8801 - accuracy: 0.6371 - val_loss: 1.9725 - val_accuracy: 0.6389\n",
      "Epoch 70/1000\n",
      "3000/3000 - 25s - loss: 1.8532 - accuracy: 0.6380 - val_loss: 1.9456 - val_accuracy: 0.6377\n",
      "Epoch 71/1000\n",
      "3000/3000 - 27s - loss: 1.8277 - accuracy: 0.6394 - val_loss: 1.9198 - val_accuracy: 0.6397\n",
      "Epoch 72/1000\n",
      "3000/3000 - 30s - loss: 1.8031 - accuracy: 0.6411 - val_loss: 1.8944 - val_accuracy: 0.6435\n",
      "Epoch 73/1000\n",
      "3000/3000 - 33s - loss: 1.7788 - accuracy: 0.6440 - val_loss: 1.8694 - val_accuracy: 0.6474\n",
      "Epoch 74/1000\n",
      "3000/3000 - 32s - loss: 1.7551 - accuracy: 0.6453 - val_loss: 1.8449 - val_accuracy: 0.6484\n",
      "Epoch 75/1000\n",
      "3000/3000 - 32s - loss: 1.7321 - accuracy: 0.6467 - val_loss: 1.8214 - val_accuracy: 0.6493\n",
      "Epoch 76/1000\n",
      "3000/3000 - 32s - loss: 1.7102 - accuracy: 0.6480 - val_loss: 1.7986 - val_accuracy: 0.6505\n",
      "Epoch 77/1000\n",
      "3000/3000 - 32s - loss: 1.6884 - accuracy: 0.6499 - val_loss: 1.7762 - val_accuracy: 0.6518\n",
      "Epoch 78/1000\n",
      "3000/3000 - 33s - loss: 1.6673 - accuracy: 0.6516 - val_loss: 1.7546 - val_accuracy: 0.6539\n",
      "Epoch 79/1000\n",
      "3000/3000 - 32s - loss: 1.6472 - accuracy: 0.6531 - val_loss: 1.7342 - val_accuracy: 0.6547\n",
      "Epoch 80/1000\n",
      "3000/3000 - 33s - loss: 1.6283 - accuracy: 0.6538 - val_loss: 1.7150 - val_accuracy: 0.6540\n",
      "Epoch 81/1000\n",
      "3000/3000 - 33s - loss: 1.6104 - accuracy: 0.6549 - val_loss: 1.6965 - val_accuracy: 0.6556\n",
      "Epoch 82/1000\n",
      "3000/3000 - 32s - loss: 1.5932 - accuracy: 0.6561 - val_loss: 1.6786 - val_accuracy: 0.6571\n",
      "Epoch 83/1000\n",
      "3000/3000 - 30s - loss: 1.5767 - accuracy: 0.6572 - val_loss: 1.6614 - val_accuracy: 0.6568\n",
      "Epoch 84/1000\n",
      "3000/3000 - 31s - loss: 1.5608 - accuracy: 0.6580 - val_loss: 1.6452 - val_accuracy: 0.6577\n",
      "Epoch 85/1000\n",
      "3000/3000 - 32s - loss: 1.5456 - accuracy: 0.6591 - val_loss: 1.6297 - val_accuracy: 0.6584\n",
      "Epoch 86/1000\n",
      "3000/3000 - 31s - loss: 1.5307 - accuracy: 0.6596 - val_loss: 1.6146 - val_accuracy: 0.6588\n",
      "Epoch 87/1000\n",
      "3000/3000 - 31s - loss: 1.5163 - accuracy: 0.6601 - val_loss: 1.6002 - val_accuracy: 0.6594\n",
      "Epoch 88/1000\n",
      "3000/3000 - 30s - loss: 1.5023 - accuracy: 0.6604 - val_loss: 1.5862 - val_accuracy: 0.6610\n",
      "Epoch 89/1000\n",
      "3000/3000 - 29s - loss: 1.4887 - accuracy: 0.6610 - val_loss: 1.5725 - val_accuracy: 0.6618\n",
      "Epoch 90/1000\n",
      "3000/3000 - 29s - loss: 1.4755 - accuracy: 0.6617 - val_loss: 1.5591 - val_accuracy: 0.6618\n",
      "Epoch 91/1000\n",
      "3000/3000 - 29s - loss: 1.4626 - accuracy: 0.6624 - val_loss: 1.5459 - val_accuracy: 0.6647\n",
      "Epoch 92/1000\n",
      "3000/3000 - 33s - loss: 1.4500 - accuracy: 0.6629 - val_loss: 1.5329 - val_accuracy: 0.6662\n",
      "Epoch 93/1000\n",
      "3000/3000 - 33s - loss: 1.4378 - accuracy: 0.6636 - val_loss: 1.5204 - val_accuracy: 0.6668\n",
      "Epoch 94/1000\n",
      "3000/3000 - 33s - loss: 1.4260 - accuracy: 0.6643 - val_loss: 1.5083 - val_accuracy: 0.6675\n",
      "Epoch 95/1000\n",
      "3000/3000 - 33s - loss: 1.4145 - accuracy: 0.6647 - val_loss: 1.4963 - val_accuracy: 0.6680\n",
      "Epoch 96/1000\n",
      "3000/3000 - 32s - loss: 1.4033 - accuracy: 0.6650 - val_loss: 1.4847 - val_accuracy: 0.6679\n",
      "Epoch 97/1000\n",
      "3000/3000 - 32s - loss: 1.3926 - accuracy: 0.6654 - val_loss: 1.4735 - val_accuracy: 0.6685\n",
      "Epoch 98/1000\n",
      "3000/3000 - 32s - loss: 1.3822 - accuracy: 0.6661 - val_loss: 1.4626 - val_accuracy: 0.6696\n",
      "Epoch 99/1000\n",
      "3000/3000 - 32s - loss: 1.3720 - accuracy: 0.6668 - val_loss: 1.4519 - val_accuracy: 0.6701\n",
      "Epoch 100/1000\n",
      "3000/3000 - 33s - loss: 1.3620 - accuracy: 0.6673 - val_loss: 1.4415 - val_accuracy: 0.6702\n",
      "Epoch 101/1000\n",
      "3000/3000 - 34s - loss: 1.3523 - accuracy: 0.6679 - val_loss: 1.4313 - val_accuracy: 0.6709\n",
      "Epoch 102/1000\n",
      "3000/3000 - 32s - loss: 1.3427 - accuracy: 0.6682 - val_loss: 1.4213 - val_accuracy: 0.6702\n",
      "Epoch 103/1000\n",
      "3000/3000 - 33s - loss: 1.3332 - accuracy: 0.6687 - val_loss: 1.4113 - val_accuracy: 0.6725\n",
      "Epoch 104/1000\n",
      "3000/3000 - 33s - loss: 1.3238 - accuracy: 0.6692 - val_loss: 1.4016 - val_accuracy: 0.6737\n",
      "Epoch 105/1000\n",
      "3000/3000 - 33s - loss: 1.3146 - accuracy: 0.6699 - val_loss: 1.3922 - val_accuracy: 0.6739\n",
      "Epoch 106/1000\n",
      "3000/3000 - 32s - loss: 1.3056 - accuracy: 0.6704 - val_loss: 1.3828 - val_accuracy: 0.6743\n",
      "Epoch 107/1000\n",
      "3000/3000 - 34s - loss: 1.2968 - accuracy: 0.6713 - val_loss: 1.3737 - val_accuracy: 0.6745\n",
      "Epoch 108/1000\n",
      "3000/3000 - 33s - loss: 1.2883 - accuracy: 0.6719 - val_loss: 1.3648 - val_accuracy: 0.6744\n",
      "Epoch 109/1000\n",
      "3000/3000 - 33s - loss: 1.2799 - accuracy: 0.6725 - val_loss: 1.3560 - val_accuracy: 0.6751\n",
      "Epoch 110/1000\n",
      "3000/3000 - 32s - loss: 1.2718 - accuracy: 0.6732 - val_loss: 1.3476 - val_accuracy: 0.6755\n",
      "Epoch 111/1000\n",
      "3000/3000 - 31s - loss: 1.2638 - accuracy: 0.6735 - val_loss: 1.3394 - val_accuracy: 0.6756\n",
      "Epoch 112/1000\n",
      "3000/3000 - 31s - loss: 1.2561 - accuracy: 0.6741 - val_loss: 1.3314 - val_accuracy: 0.6763\n",
      "Epoch 113/1000\n",
      "3000/3000 - 31s - loss: 1.2485 - accuracy: 0.6747 - val_loss: 1.3235 - val_accuracy: 0.6766\n",
      "Epoch 114/1000\n",
      "3000/3000 - 32s - loss: 1.2411 - accuracy: 0.6751 - val_loss: 1.3158 - val_accuracy: 0.6769\n",
      "Epoch 115/1000\n",
      "3000/3000 - 29s - loss: 1.2338 - accuracy: 0.6756 - val_loss: 1.3083 - val_accuracy: 0.6795\n",
      "Epoch 116/1000\n",
      "3000/3000 - 28s - loss: 1.2267 - accuracy: 0.6759 - val_loss: 1.3010 - val_accuracy: 0.6790\n",
      "Epoch 117/1000\n",
      "3000/3000 - 28s - loss: 1.2198 - accuracy: 0.6762 - val_loss: 1.2938 - val_accuracy: 0.6795\n",
      "Epoch 118/1000\n",
      "3000/3000 - 27s - loss: 1.2131 - accuracy: 0.6766 - val_loss: 1.2868 - val_accuracy: 0.6796\n",
      "Epoch 119/1000\n",
      "3000/3000 - 27s - loss: 1.2065 - accuracy: 0.6774 - val_loss: 1.2798 - val_accuracy: 0.6799\n",
      "Epoch 120/1000\n",
      "3000/3000 - 29s - loss: 1.2000 - accuracy: 0.6780 - val_loss: 1.2731 - val_accuracy: 0.6806\n",
      "Epoch 121/1000\n",
      "3000/3000 - 32s - loss: 1.1935 - accuracy: 0.6784 - val_loss: 1.2664 - val_accuracy: 0.6814\n",
      "Epoch 122/1000\n",
      "3000/3000 - 32s - loss: 1.1872 - accuracy: 0.6789 - val_loss: 1.2599 - val_accuracy: 0.6815\n",
      "Epoch 123/1000\n",
      "3000/3000 - 33s - loss: 1.1810 - accuracy: 0.6793 - val_loss: 1.2534 - val_accuracy: 0.6816\n",
      "Epoch 124/1000\n",
      "3000/3000 - 32s - loss: 1.1749 - accuracy: 0.6797 - val_loss: 1.2471 - val_accuracy: 0.6821\n",
      "Epoch 125/1000\n",
      "3000/3000 - 31s - loss: 1.1689 - accuracy: 0.6801 - val_loss: 1.2408 - val_accuracy: 0.6824\n",
      "Epoch 126/1000\n",
      "3000/3000 - 31s - loss: 1.1629 - accuracy: 0.6804 - val_loss: 1.2347 - val_accuracy: 0.6826\n",
      "Epoch 127/1000\n",
      "3000/3000 - 31s - loss: 1.1571 - accuracy: 0.6807 - val_loss: 1.2287 - val_accuracy: 0.6827\n",
      "Epoch 128/1000\n",
      "3000/3000 - 31s - loss: 1.1514 - accuracy: 0.6812 - val_loss: 1.2229 - val_accuracy: 0.6834\n",
      "Epoch 129/1000\n",
      "3000/3000 - 31s - loss: 1.1458 - accuracy: 0.6815 - val_loss: 1.2171 - val_accuracy: 0.6834\n",
      "Epoch 130/1000\n",
      "3000/3000 - 32s - loss: 1.1403 - accuracy: 0.6819 - val_loss: 1.2114 - val_accuracy: 0.6837\n",
      "Epoch 131/1000\n",
      "3000/3000 - 31s - loss: 1.1349 - accuracy: 0.6823 - val_loss: 1.2058 - val_accuracy: 0.6840\n",
      "Epoch 132/1000\n",
      "3000/3000 - 32s - loss: 1.1295 - accuracy: 0.6828 - val_loss: 1.2003 - val_accuracy: 0.6843\n",
      "Epoch 133/1000\n",
      "3000/3000 - 32s - loss: 1.1242 - accuracy: 0.6833 - val_loss: 1.1949 - val_accuracy: 0.6847\n",
      "Epoch 134/1000\n",
      "3000/3000 - 32s - loss: 1.1191 - accuracy: 0.6838 - val_loss: 1.1896 - val_accuracy: 0.6851\n",
      "Epoch 135/1000\n",
      "3000/3000 - 31s - loss: 1.1140 - accuracy: 0.6841 - val_loss: 1.1843 - val_accuracy: 0.6851\n",
      "Epoch 136/1000\n",
      "3000/3000 - 32s - loss: 1.1090 - accuracy: 0.6846 - val_loss: 1.1792 - val_accuracy: 0.6856\n",
      "Epoch 137/1000\n",
      "3000/3000 - 33s - loss: 1.1041 - accuracy: 0.6849 - val_loss: 1.1741 - val_accuracy: 0.6864\n",
      "Epoch 138/1000\n",
      "3000/3000 - 32s - loss: 1.0993 - accuracy: 0.6853 - val_loss: 1.1691 - val_accuracy: 0.6867\n",
      "Epoch 139/1000\n",
      "3000/3000 - 28s - loss: 1.0945 - accuracy: 0.6857 - val_loss: 1.1642 - val_accuracy: 0.6865\n",
      "Epoch 140/1000\n",
      "3000/3000 - 27s - loss: 1.0899 - accuracy: 0.6864 - val_loss: 1.1594 - val_accuracy: 0.6868\n",
      "Epoch 141/1000\n",
      "3000/3000 - 28s - loss: 1.0853 - accuracy: 0.6868 - val_loss: 1.1546 - val_accuracy: 0.6873\n",
      "Epoch 142/1000\n",
      "3000/3000 - 28s - loss: 1.0808 - accuracy: 0.6874 - val_loss: 1.1499 - val_accuracy: 0.6879\n",
      "Epoch 143/1000\n",
      "3000/3000 - 29s - loss: 1.0764 - accuracy: 0.6877 - val_loss: 1.1453 - val_accuracy: 0.6886\n",
      "Epoch 144/1000\n",
      "WARNING:tensorflow:Early stopping conditioned on metric `val_loss` which is not available. Available metrics are: loss,accuracy\n",
      "WARNING:tensorflow:Can save best model only with val_accuracy available, skipping.\n"
     ]
    },
    {
     "ename": "KeyboardInterrupt",
     "evalue": "",
     "output_type": "error",
     "traceback": [
      "\u001b[1;31m---------------------------------------------------------------------------\u001b[0m",
      "\u001b[1;31mKeyboardInterrupt\u001b[0m                         Traceback (most recent call last)",
      "\u001b[1;32m<ipython-input-6-fd087258b11f>\u001b[0m in \u001b[0;36m<module>\u001b[1;34m\u001b[0m\n\u001b[0;32m      1\u001b[0m \u001b[0mclf\u001b[0m \u001b[1;33m=\u001b[0m \u001b[0mak\u001b[0m\u001b[1;33m.\u001b[0m\u001b[0mStructuredDataClassifier\u001b[0m\u001b[1;33m(\u001b[0m\u001b[1;33m)\u001b[0m\u001b[1;33m\u001b[0m\u001b[1;33m\u001b[0m\u001b[0m\n\u001b[1;32m----> 2\u001b[1;33m \u001b[0mclf\u001b[0m\u001b[1;33m.\u001b[0m\u001b[0mfit\u001b[0m\u001b[1;33m(\u001b[0m\u001b[0mX_train\u001b[0m\u001b[1;33m,\u001b[0m \u001b[0my_train\u001b[0m\u001b[1;33m,\u001b[0m \u001b[0mverbose\u001b[0m\u001b[1;33m=\u001b[0m\u001b[1;36m2\u001b[0m\u001b[1;33m)\u001b[0m\u001b[1;33m\u001b[0m\u001b[1;33m\u001b[0m\u001b[0m\n\u001b[0m\u001b[0;32m      3\u001b[0m \u001b[1;33m\u001b[0m\u001b[0m\n\u001b[0;32m      4\u001b[0m \u001b[0mclf\u001b[0m\u001b[1;33m.\u001b[0m\u001b[0mevaluate\u001b[0m\u001b[1;33m(\u001b[0m\u001b[0mX_test\u001b[0m\u001b[1;33m,\u001b[0m \u001b[0my_test\u001b[0m\u001b[1;33m)\u001b[0m\u001b[1;33m\u001b[0m\u001b[1;33m\u001b[0m\u001b[0m\n",
      "\u001b[1;32mc:\\python37\\lib\\site-packages\\autokeras\\tasks\\structured_data.py\u001b[0m in \u001b[0;36mfit\u001b[1;34m(self, x, y, epochs, callbacks, validation_split, validation_data, **kwargs)\u001b[0m\n\u001b[0;32m    250\u001b[0m                     \u001b[0mvalidation_split\u001b[0m\u001b[1;33m=\u001b[0m\u001b[0mvalidation_split\u001b[0m\u001b[1;33m,\u001b[0m\u001b[1;33m\u001b[0m\u001b[1;33m\u001b[0m\u001b[0m\n\u001b[0;32m    251\u001b[0m                     \u001b[0mvalidation_data\u001b[0m\u001b[1;33m=\u001b[0m\u001b[0mvalidation_data\u001b[0m\u001b[1;33m,\u001b[0m\u001b[1;33m\u001b[0m\u001b[1;33m\u001b[0m\u001b[0m\n\u001b[1;32m--> 252\u001b[1;33m                     **kwargs)\n\u001b[0m\u001b[0;32m    253\u001b[0m \u001b[1;33m\u001b[0m\u001b[0m\n\u001b[0;32m    254\u001b[0m \u001b[1;33m\u001b[0m\u001b[0m\n",
      "\u001b[1;32mc:\\python37\\lib\\site-packages\\autokeras\\tasks\\structured_data.py\u001b[0m in \u001b[0;36mfit\u001b[1;34m(self, x, y, epochs, callbacks, validation_split, validation_data, **kwargs)\u001b[0m\n\u001b[0;32m     93\u001b[0m                     \u001b[0mvalidation_split\u001b[0m\u001b[1;33m=\u001b[0m\u001b[0mvalidation_split\u001b[0m\u001b[1;33m,\u001b[0m\u001b[1;33m\u001b[0m\u001b[1;33m\u001b[0m\u001b[0m\n\u001b[0;32m     94\u001b[0m                     \u001b[0mvalidation_data\u001b[0m\u001b[1;33m=\u001b[0m\u001b[0mvalidation_data\u001b[0m\u001b[1;33m,\u001b[0m\u001b[1;33m\u001b[0m\u001b[1;33m\u001b[0m\u001b[0m\n\u001b[1;32m---> 95\u001b[1;33m                     **kwargs)\n\u001b[0m\u001b[0;32m     96\u001b[0m \u001b[1;33m\u001b[0m\u001b[0m\n\u001b[0;32m     97\u001b[0m     \u001b[1;32mdef\u001b[0m \u001b[0mpredict\u001b[0m\u001b[1;33m(\u001b[0m\u001b[0mself\u001b[0m\u001b[1;33m,\u001b[0m \u001b[0mx\u001b[0m\u001b[1;33m,\u001b[0m \u001b[0mbatch_size\u001b[0m\u001b[1;33m=\u001b[0m\u001b[1;36m32\u001b[0m\u001b[1;33m,\u001b[0m \u001b[1;33m**\u001b[0m\u001b[0mkwargs\u001b[0m\u001b[1;33m)\u001b[0m\u001b[1;33m:\u001b[0m\u001b[1;33m\u001b[0m\u001b[1;33m\u001b[0m\u001b[0m\n",
      "\u001b[1;32mc:\\python37\\lib\\site-packages\\autokeras\\auto_model.py\u001b[0m in \u001b[0;36mfit\u001b[1;34m(self, x, y, batch_size, epochs, callbacks, validation_split, validation_data, **kwargs)\u001b[0m\n\u001b[0;32m    256\u001b[0m                           \u001b[0mvalidation_data\u001b[0m\u001b[1;33m=\u001b[0m\u001b[0mvalidation_data\u001b[0m\u001b[1;33m,\u001b[0m\u001b[1;33m\u001b[0m\u001b[1;33m\u001b[0m\u001b[0m\n\u001b[0;32m    257\u001b[0m                           \u001b[0mfit_on_val_data\u001b[0m\u001b[1;33m=\u001b[0m\u001b[0mself\u001b[0m\u001b[1;33m.\u001b[0m\u001b[0m_split_dataset\u001b[0m\u001b[1;33m,\u001b[0m\u001b[1;33m\u001b[0m\u001b[1;33m\u001b[0m\u001b[0m\n\u001b[1;32m--> 258\u001b[1;33m                           **kwargs)\n\u001b[0m\u001b[0;32m    259\u001b[0m \u001b[1;33m\u001b[0m\u001b[0m\n\u001b[0;32m    260\u001b[0m     \u001b[1;32mdef\u001b[0m \u001b[0m_process_x\u001b[0m\u001b[1;33m(\u001b[0m\u001b[0mself\u001b[0m\u001b[1;33m,\u001b[0m \u001b[0mx\u001b[0m\u001b[1;33m,\u001b[0m \u001b[0mfit\u001b[0m\u001b[1;33m)\u001b[0m\u001b[1;33m:\u001b[0m\u001b[1;33m\u001b[0m\u001b[1;33m\u001b[0m\u001b[0m\n",
      "\u001b[1;32mc:\\python37\\lib\\site-packages\\autokeras\\engine\\tuner.py\u001b[0m in \u001b[0;36msearch\u001b[1;34m(self, callbacks, fit_on_val_data, **fit_kwargs)\u001b[0m\n\u001b[0;32m    112\u001b[0m             \u001b[0mnew_callbacks\u001b[0m\u001b[1;33m.\u001b[0m\u001b[0mappend\u001b[0m\u001b[1;33m(\u001b[0m\u001b[0mtf\u001b[0m\u001b[1;33m.\u001b[0m\u001b[0mkeras\u001b[0m\u001b[1;33m.\u001b[0m\u001b[0mcallbacks\u001b[0m\u001b[1;33m.\u001b[0m\u001b[0mEarlyStopping\u001b[0m\u001b[1;33m(\u001b[0m\u001b[0mpatience\u001b[0m\u001b[1;33m=\u001b[0m\u001b[1;36m10\u001b[0m\u001b[1;33m)\u001b[0m\u001b[1;33m)\u001b[0m\u001b[1;33m\u001b[0m\u001b[1;33m\u001b[0m\u001b[0m\n\u001b[0;32m    113\u001b[0m \u001b[1;33m\u001b[0m\u001b[0m\n\u001b[1;32m--> 114\u001b[1;33m         \u001b[0msuper\u001b[0m\u001b[1;33m(\u001b[0m\u001b[1;33m)\u001b[0m\u001b[1;33m.\u001b[0m\u001b[0msearch\u001b[0m\u001b[1;33m(\u001b[0m\u001b[0mcallbacks\u001b[0m\u001b[1;33m=\u001b[0m\u001b[0mnew_callbacks\u001b[0m\u001b[1;33m,\u001b[0m \u001b[1;33m**\u001b[0m\u001b[0mfit_kwargs\u001b[0m\u001b[1;33m)\u001b[0m\u001b[1;33m\u001b[0m\u001b[1;33m\u001b[0m\u001b[0m\n\u001b[0m\u001b[0;32m    115\u001b[0m \u001b[1;33m\u001b[0m\u001b[0m\n\u001b[0;32m    116\u001b[0m         \u001b[1;31m# Fully train the best model with original callbacks.\u001b[0m\u001b[1;33m\u001b[0m\u001b[1;33m\u001b[0m\u001b[1;33m\u001b[0m\u001b[0m\n",
      "\u001b[1;32mc:\\python37\\lib\\site-packages\\kerastuner\\engine\\base_tuner.py\u001b[0m in \u001b[0;36msearch\u001b[1;34m(self, *fit_args, **fit_kwargs)\u001b[0m\n\u001b[0;32m    128\u001b[0m \u001b[1;33m\u001b[0m\u001b[0m\n\u001b[0;32m    129\u001b[0m             \u001b[0mself\u001b[0m\u001b[1;33m.\u001b[0m\u001b[0mon_trial_begin\u001b[0m\u001b[1;33m(\u001b[0m\u001b[0mtrial\u001b[0m\u001b[1;33m)\u001b[0m\u001b[1;33m\u001b[0m\u001b[1;33m\u001b[0m\u001b[0m\n\u001b[1;32m--> 130\u001b[1;33m             \u001b[0mself\u001b[0m\u001b[1;33m.\u001b[0m\u001b[0mrun_trial\u001b[0m\u001b[1;33m(\u001b[0m\u001b[0mtrial\u001b[0m\u001b[1;33m,\u001b[0m \u001b[1;33m*\u001b[0m\u001b[0mfit_args\u001b[0m\u001b[1;33m,\u001b[0m \u001b[1;33m**\u001b[0m\u001b[0mfit_kwargs\u001b[0m\u001b[1;33m)\u001b[0m\u001b[1;33m\u001b[0m\u001b[1;33m\u001b[0m\u001b[0m\n\u001b[0m\u001b[0;32m    131\u001b[0m             \u001b[0mself\u001b[0m\u001b[1;33m.\u001b[0m\u001b[0mon_trial_end\u001b[0m\u001b[1;33m(\u001b[0m\u001b[0mtrial\u001b[0m\u001b[1;33m)\u001b[0m\u001b[1;33m\u001b[0m\u001b[1;33m\u001b[0m\u001b[0m\n\u001b[0;32m    132\u001b[0m         \u001b[0mself\u001b[0m\u001b[1;33m.\u001b[0m\u001b[0mon_search_end\u001b[0m\u001b[1;33m(\u001b[0m\u001b[1;33m)\u001b[0m\u001b[1;33m\u001b[0m\u001b[1;33m\u001b[0m\u001b[0m\n",
      "\u001b[1;32mc:\\python37\\lib\\site-packages\\autokeras\\engine\\tuner.py\u001b[0m in \u001b[0;36mrun_trial\u001b[1;34m(self, trial, x, *fit_args, **fit_kwargs)\u001b[0m\n\u001b[0;32m     69\u001b[0m             \u001b[0mmodel\u001b[0m \u001b[1;33m=\u001b[0m \u001b[0mself\u001b[0m\u001b[1;33m.\u001b[0m\u001b[0mhypermodel\u001b[0m\u001b[1;33m.\u001b[0m\u001b[0mbuild\u001b[0m\u001b[1;33m(\u001b[0m\u001b[0mtrial\u001b[0m\u001b[1;33m.\u001b[0m\u001b[0mhyperparameters\u001b[0m\u001b[1;33m)\u001b[0m\u001b[1;33m\u001b[0m\u001b[1;33m\u001b[0m\u001b[0m\n\u001b[0;32m     70\u001b[0m             \u001b[0mutils\u001b[0m\u001b[1;33m.\u001b[0m\u001b[0madapt_model\u001b[0m\u001b[1;33m(\u001b[0m\u001b[0mmodel\u001b[0m\u001b[1;33m,\u001b[0m \u001b[0mx\u001b[0m\u001b[1;33m)\u001b[0m\u001b[1;33m\u001b[0m\u001b[1;33m\u001b[0m\u001b[0m\n\u001b[1;32m---> 71\u001b[1;33m             \u001b[0mhistory\u001b[0m \u001b[1;33m=\u001b[0m \u001b[0mmodel\u001b[0m\u001b[1;33m.\u001b[0m\u001b[0mfit\u001b[0m\u001b[1;33m(\u001b[0m\u001b[0mx\u001b[0m\u001b[1;33m,\u001b[0m \u001b[1;33m*\u001b[0m\u001b[0mfit_args\u001b[0m\u001b[1;33m,\u001b[0m \u001b[1;33m**\u001b[0m\u001b[0mcopied_fit_kwargs\u001b[0m\u001b[1;33m)\u001b[0m\u001b[1;33m\u001b[0m\u001b[1;33m\u001b[0m\u001b[0m\n\u001b[0m\u001b[0;32m     72\u001b[0m             \u001b[1;32mfor\u001b[0m \u001b[0mmetric\u001b[0m\u001b[1;33m,\u001b[0m \u001b[0mepoch_values\u001b[0m \u001b[1;32min\u001b[0m \u001b[0mhistory\u001b[0m\u001b[1;33m.\u001b[0m\u001b[0mhistory\u001b[0m\u001b[1;33m.\u001b[0m\u001b[0mitems\u001b[0m\u001b[1;33m(\u001b[0m\u001b[1;33m)\u001b[0m\u001b[1;33m:\u001b[0m\u001b[1;33m\u001b[0m\u001b[1;33m\u001b[0m\u001b[0m\n\u001b[0;32m     73\u001b[0m                 \u001b[1;32mif\u001b[0m \u001b[0mself\u001b[0m\u001b[1;33m.\u001b[0m\u001b[0moracle\u001b[0m\u001b[1;33m.\u001b[0m\u001b[0mobjective\u001b[0m\u001b[1;33m.\u001b[0m\u001b[0mdirection\u001b[0m \u001b[1;33m==\u001b[0m \u001b[1;34m'min'\u001b[0m\u001b[1;33m:\u001b[0m\u001b[1;33m\u001b[0m\u001b[1;33m\u001b[0m\u001b[0m\n",
      "\u001b[1;32mc:\\python37\\lib\\site-packages\\tensorflow_core\\python\\keras\\engine\\training.py\u001b[0m in \u001b[0;36mfit\u001b[1;34m(self, x, y, batch_size, epochs, verbose, callbacks, validation_split, validation_data, shuffle, class_weight, sample_weight, initial_epoch, steps_per_epoch, validation_steps, validation_freq, max_queue_size, workers, use_multiprocessing, **kwargs)\u001b[0m\n\u001b[0;32m    817\u001b[0m         \u001b[0mmax_queue_size\u001b[0m\u001b[1;33m=\u001b[0m\u001b[0mmax_queue_size\u001b[0m\u001b[1;33m,\u001b[0m\u001b[1;33m\u001b[0m\u001b[1;33m\u001b[0m\u001b[0m\n\u001b[0;32m    818\u001b[0m         \u001b[0mworkers\u001b[0m\u001b[1;33m=\u001b[0m\u001b[0mworkers\u001b[0m\u001b[1;33m,\u001b[0m\u001b[1;33m\u001b[0m\u001b[1;33m\u001b[0m\u001b[0m\n\u001b[1;32m--> 819\u001b[1;33m         use_multiprocessing=use_multiprocessing)\n\u001b[0m\u001b[0;32m    820\u001b[0m \u001b[1;33m\u001b[0m\u001b[0m\n\u001b[0;32m    821\u001b[0m   def evaluate(self,\n",
      "\u001b[1;32mc:\\python37\\lib\\site-packages\\tensorflow_core\\python\\keras\\engine\\training_v2.py\u001b[0m in \u001b[0;36mfit\u001b[1;34m(self, model, x, y, batch_size, epochs, verbose, callbacks, validation_split, validation_data, shuffle, class_weight, sample_weight, initial_epoch, steps_per_epoch, validation_steps, validation_freq, max_queue_size, workers, use_multiprocessing, **kwargs)\u001b[0m\n\u001b[0;32m    340\u001b[0m                 \u001b[0mmode\u001b[0m\u001b[1;33m=\u001b[0m\u001b[0mModeKeys\u001b[0m\u001b[1;33m.\u001b[0m\u001b[0mTRAIN\u001b[0m\u001b[1;33m,\u001b[0m\u001b[1;33m\u001b[0m\u001b[1;33m\u001b[0m\u001b[0m\n\u001b[0;32m    341\u001b[0m                 \u001b[0mtraining_context\u001b[0m\u001b[1;33m=\u001b[0m\u001b[0mtraining_context\u001b[0m\u001b[1;33m,\u001b[0m\u001b[1;33m\u001b[0m\u001b[1;33m\u001b[0m\u001b[0m\n\u001b[1;32m--> 342\u001b[1;33m                 total_epochs=epochs)\n\u001b[0m\u001b[0;32m    343\u001b[0m             \u001b[0mcbks\u001b[0m\u001b[1;33m.\u001b[0m\u001b[0mmake_logs\u001b[0m\u001b[1;33m(\u001b[0m\u001b[0mmodel\u001b[0m\u001b[1;33m,\u001b[0m \u001b[0mepoch_logs\u001b[0m\u001b[1;33m,\u001b[0m \u001b[0mtraining_result\u001b[0m\u001b[1;33m,\u001b[0m \u001b[0mModeKeys\u001b[0m\u001b[1;33m.\u001b[0m\u001b[0mTRAIN\u001b[0m\u001b[1;33m)\u001b[0m\u001b[1;33m\u001b[0m\u001b[1;33m\u001b[0m\u001b[0m\n\u001b[0;32m    344\u001b[0m \u001b[1;33m\u001b[0m\u001b[0m\n",
      "\u001b[1;32mc:\\python37\\lib\\site-packages\\tensorflow_core\\python\\keras\\engine\\training_v2.py\u001b[0m in \u001b[0;36mrun_one_epoch\u001b[1;34m(model, iterator, execution_function, dataset_size, batch_size, strategy, steps_per_epoch, num_samples, mode, training_context, total_epochs)\u001b[0m\n\u001b[0;32m    126\u001b[0m         step=step, mode=mode, size=current_batch_size) as batch_logs:\n\u001b[0;32m    127\u001b[0m       \u001b[1;32mtry\u001b[0m\u001b[1;33m:\u001b[0m\u001b[1;33m\u001b[0m\u001b[1;33m\u001b[0m\u001b[0m\n\u001b[1;32m--> 128\u001b[1;33m         \u001b[0mbatch_outs\u001b[0m \u001b[1;33m=\u001b[0m \u001b[0mexecution_function\u001b[0m\u001b[1;33m(\u001b[0m\u001b[0miterator\u001b[0m\u001b[1;33m)\u001b[0m\u001b[1;33m\u001b[0m\u001b[1;33m\u001b[0m\u001b[0m\n\u001b[0m\u001b[0;32m    129\u001b[0m       \u001b[1;32mexcept\u001b[0m \u001b[1;33m(\u001b[0m\u001b[0mStopIteration\u001b[0m\u001b[1;33m,\u001b[0m \u001b[0merrors\u001b[0m\u001b[1;33m.\u001b[0m\u001b[0mOutOfRangeError\u001b[0m\u001b[1;33m)\u001b[0m\u001b[1;33m:\u001b[0m\u001b[1;33m\u001b[0m\u001b[1;33m\u001b[0m\u001b[0m\n\u001b[0;32m    130\u001b[0m         \u001b[1;31m# TODO(kaftan): File bug about tf function and errors.OutOfRangeError?\u001b[0m\u001b[1;33m\u001b[0m\u001b[1;33m\u001b[0m\u001b[1;33m\u001b[0m\u001b[0m\n",
      "\u001b[1;32mc:\\python37\\lib\\site-packages\\tensorflow_core\\python\\keras\\engine\\training_v2_utils.py\u001b[0m in \u001b[0;36mexecution_function\u001b[1;34m(input_fn)\u001b[0m\n\u001b[0;32m     96\u001b[0m     \u001b[1;31m# `numpy` translates Tensors to values in Eager mode.\u001b[0m\u001b[1;33m\u001b[0m\u001b[1;33m\u001b[0m\u001b[1;33m\u001b[0m\u001b[0m\n\u001b[0;32m     97\u001b[0m     return nest.map_structure(_non_none_constant_value,\n\u001b[1;32m---> 98\u001b[1;33m                               distributed_function(input_fn))\n\u001b[0m\u001b[0;32m     99\u001b[0m \u001b[1;33m\u001b[0m\u001b[0m\n\u001b[0;32m    100\u001b[0m   \u001b[1;32mreturn\u001b[0m \u001b[0mexecution_function\u001b[0m\u001b[1;33m\u001b[0m\u001b[1;33m\u001b[0m\u001b[0m\n",
      "\u001b[1;32mc:\\python37\\lib\\site-packages\\tensorflow_core\\python\\eager\\def_function.py\u001b[0m in \u001b[0;36m__call__\u001b[1;34m(self, *args, **kwds)\u001b[0m\n\u001b[0;32m    566\u001b[0m         \u001b[0mxla_context\u001b[0m\u001b[1;33m.\u001b[0m\u001b[0mExit\u001b[0m\u001b[1;33m(\u001b[0m\u001b[1;33m)\u001b[0m\u001b[1;33m\u001b[0m\u001b[1;33m\u001b[0m\u001b[0m\n\u001b[0;32m    567\u001b[0m     \u001b[1;32melse\u001b[0m\u001b[1;33m:\u001b[0m\u001b[1;33m\u001b[0m\u001b[1;33m\u001b[0m\u001b[0m\n\u001b[1;32m--> 568\u001b[1;33m       \u001b[0mresult\u001b[0m \u001b[1;33m=\u001b[0m \u001b[0mself\u001b[0m\u001b[1;33m.\u001b[0m\u001b[0m_call\u001b[0m\u001b[1;33m(\u001b[0m\u001b[1;33m*\u001b[0m\u001b[0margs\u001b[0m\u001b[1;33m,\u001b[0m \u001b[1;33m**\u001b[0m\u001b[0mkwds\u001b[0m\u001b[1;33m)\u001b[0m\u001b[1;33m\u001b[0m\u001b[1;33m\u001b[0m\u001b[0m\n\u001b[0m\u001b[0;32m    569\u001b[0m \u001b[1;33m\u001b[0m\u001b[0m\n\u001b[0;32m    570\u001b[0m     \u001b[1;32mif\u001b[0m \u001b[0mtracing_count\u001b[0m \u001b[1;33m==\u001b[0m \u001b[0mself\u001b[0m\u001b[1;33m.\u001b[0m\u001b[0m_get_tracing_count\u001b[0m\u001b[1;33m(\u001b[0m\u001b[1;33m)\u001b[0m\u001b[1;33m:\u001b[0m\u001b[1;33m\u001b[0m\u001b[1;33m\u001b[0m\u001b[0m\n",
      "\u001b[1;32mc:\\python37\\lib\\site-packages\\tensorflow_core\\python\\eager\\def_function.py\u001b[0m in \u001b[0;36m_call\u001b[1;34m(self, *args, **kwds)\u001b[0m\n\u001b[0;32m    597\u001b[0m       \u001b[1;31m# In this case we have created variables on the first call, so we run the\u001b[0m\u001b[1;33m\u001b[0m\u001b[1;33m\u001b[0m\u001b[1;33m\u001b[0m\u001b[0m\n\u001b[0;32m    598\u001b[0m       \u001b[1;31m# defunned version which is guaranteed to never create variables.\u001b[0m\u001b[1;33m\u001b[0m\u001b[1;33m\u001b[0m\u001b[1;33m\u001b[0m\u001b[0m\n\u001b[1;32m--> 599\u001b[1;33m       \u001b[1;32mreturn\u001b[0m \u001b[0mself\u001b[0m\u001b[1;33m.\u001b[0m\u001b[0m_stateless_fn\u001b[0m\u001b[1;33m(\u001b[0m\u001b[1;33m*\u001b[0m\u001b[0margs\u001b[0m\u001b[1;33m,\u001b[0m \u001b[1;33m**\u001b[0m\u001b[0mkwds\u001b[0m\u001b[1;33m)\u001b[0m  \u001b[1;31m# pylint: disable=not-callable\u001b[0m\u001b[1;33m\u001b[0m\u001b[1;33m\u001b[0m\u001b[0m\n\u001b[0m\u001b[0;32m    600\u001b[0m     \u001b[1;32melif\u001b[0m \u001b[0mself\u001b[0m\u001b[1;33m.\u001b[0m\u001b[0m_stateful_fn\u001b[0m \u001b[1;32mis\u001b[0m \u001b[1;32mnot\u001b[0m \u001b[1;32mNone\u001b[0m\u001b[1;33m:\u001b[0m\u001b[1;33m\u001b[0m\u001b[1;33m\u001b[0m\u001b[0m\n\u001b[0;32m    601\u001b[0m       \u001b[1;31m# Release the lock early so that multiple threads can perform the call\u001b[0m\u001b[1;33m\u001b[0m\u001b[1;33m\u001b[0m\u001b[1;33m\u001b[0m\u001b[0m\n",
      "\u001b[1;32mc:\\python37\\lib\\site-packages\\tensorflow_core\\python\\eager\\function.py\u001b[0m in \u001b[0;36m__call__\u001b[1;34m(self, *args, **kwargs)\u001b[0m\n\u001b[0;32m   2361\u001b[0m     \u001b[1;32mwith\u001b[0m \u001b[0mself\u001b[0m\u001b[1;33m.\u001b[0m\u001b[0m_lock\u001b[0m\u001b[1;33m:\u001b[0m\u001b[1;33m\u001b[0m\u001b[1;33m\u001b[0m\u001b[0m\n\u001b[0;32m   2362\u001b[0m       \u001b[0mgraph_function\u001b[0m\u001b[1;33m,\u001b[0m \u001b[0margs\u001b[0m\u001b[1;33m,\u001b[0m \u001b[0mkwargs\u001b[0m \u001b[1;33m=\u001b[0m \u001b[0mself\u001b[0m\u001b[1;33m.\u001b[0m\u001b[0m_maybe_define_function\u001b[0m\u001b[1;33m(\u001b[0m\u001b[0margs\u001b[0m\u001b[1;33m,\u001b[0m \u001b[0mkwargs\u001b[0m\u001b[1;33m)\u001b[0m\u001b[1;33m\u001b[0m\u001b[1;33m\u001b[0m\u001b[0m\n\u001b[1;32m-> 2363\u001b[1;33m     \u001b[1;32mreturn\u001b[0m \u001b[0mgraph_function\u001b[0m\u001b[1;33m.\u001b[0m\u001b[0m_filtered_call\u001b[0m\u001b[1;33m(\u001b[0m\u001b[0margs\u001b[0m\u001b[1;33m,\u001b[0m \u001b[0mkwargs\u001b[0m\u001b[1;33m)\u001b[0m  \u001b[1;31m# pylint: disable=protected-access\u001b[0m\u001b[1;33m\u001b[0m\u001b[1;33m\u001b[0m\u001b[0m\n\u001b[0m\u001b[0;32m   2364\u001b[0m \u001b[1;33m\u001b[0m\u001b[0m\n\u001b[0;32m   2365\u001b[0m   \u001b[1;33m@\u001b[0m\u001b[0mproperty\u001b[0m\u001b[1;33m\u001b[0m\u001b[1;33m\u001b[0m\u001b[0m\n",
      "\u001b[1;32mc:\\python37\\lib\\site-packages\\tensorflow_core\\python\\eager\\function.py\u001b[0m in \u001b[0;36m_filtered_call\u001b[1;34m(self, args, kwargs)\u001b[0m\n\u001b[0;32m   1609\u001b[0m          if isinstance(t, (ops.Tensor,\n\u001b[0;32m   1610\u001b[0m                            resource_variable_ops.BaseResourceVariable))),\n\u001b[1;32m-> 1611\u001b[1;33m         self.captured_inputs)\n\u001b[0m\u001b[0;32m   1612\u001b[0m \u001b[1;33m\u001b[0m\u001b[0m\n\u001b[0;32m   1613\u001b[0m   \u001b[1;32mdef\u001b[0m \u001b[0m_call_flat\u001b[0m\u001b[1;33m(\u001b[0m\u001b[0mself\u001b[0m\u001b[1;33m,\u001b[0m \u001b[0margs\u001b[0m\u001b[1;33m,\u001b[0m \u001b[0mcaptured_inputs\u001b[0m\u001b[1;33m,\u001b[0m \u001b[0mcancellation_manager\u001b[0m\u001b[1;33m=\u001b[0m\u001b[1;32mNone\u001b[0m\u001b[1;33m)\u001b[0m\u001b[1;33m:\u001b[0m\u001b[1;33m\u001b[0m\u001b[1;33m\u001b[0m\u001b[0m\n",
      "\u001b[1;32mc:\\python37\\lib\\site-packages\\tensorflow_core\\python\\eager\\function.py\u001b[0m in \u001b[0;36m_call_flat\u001b[1;34m(self, args, captured_inputs, cancellation_manager)\u001b[0m\n\u001b[0;32m   1690\u001b[0m       \u001b[1;31m# No tape is watching; skip to running the function.\u001b[0m\u001b[1;33m\u001b[0m\u001b[1;33m\u001b[0m\u001b[1;33m\u001b[0m\u001b[0m\n\u001b[0;32m   1691\u001b[0m       return self._build_call_outputs(self._inference_function.call(\n\u001b[1;32m-> 1692\u001b[1;33m           ctx, args, cancellation_manager=cancellation_manager))\n\u001b[0m\u001b[0;32m   1693\u001b[0m     forward_backward = self._select_forward_and_backward_functions(\n\u001b[0;32m   1694\u001b[0m         \u001b[0margs\u001b[0m\u001b[1;33m,\u001b[0m\u001b[1;33m\u001b[0m\u001b[1;33m\u001b[0m\u001b[0m\n",
      "\u001b[1;32mc:\\python37\\lib\\site-packages\\tensorflow_core\\python\\eager\\function.py\u001b[0m in \u001b[0;36mcall\u001b[1;34m(self, ctx, args, cancellation_manager)\u001b[0m\n\u001b[0;32m    543\u001b[0m               \u001b[0minputs\u001b[0m\u001b[1;33m=\u001b[0m\u001b[0margs\u001b[0m\u001b[1;33m,\u001b[0m\u001b[1;33m\u001b[0m\u001b[1;33m\u001b[0m\u001b[0m\n\u001b[0;32m    544\u001b[0m               \u001b[0mattrs\u001b[0m\u001b[1;33m=\u001b[0m\u001b[1;33m(\u001b[0m\u001b[1;34m\"executor_type\"\u001b[0m\u001b[1;33m,\u001b[0m \u001b[0mexecutor_type\u001b[0m\u001b[1;33m,\u001b[0m \u001b[1;34m\"config_proto\"\u001b[0m\u001b[1;33m,\u001b[0m \u001b[0mconfig\u001b[0m\u001b[1;33m)\u001b[0m\u001b[1;33m,\u001b[0m\u001b[1;33m\u001b[0m\u001b[1;33m\u001b[0m\u001b[0m\n\u001b[1;32m--> 545\u001b[1;33m               ctx=ctx)\n\u001b[0m\u001b[0;32m    546\u001b[0m         \u001b[1;32melse\u001b[0m\u001b[1;33m:\u001b[0m\u001b[1;33m\u001b[0m\u001b[1;33m\u001b[0m\u001b[0m\n\u001b[0;32m    547\u001b[0m           outputs = execute.execute_with_cancellation(\n",
      "\u001b[1;32mc:\\python37\\lib\\site-packages\\tensorflow_core\\python\\eager\\execute.py\u001b[0m in \u001b[0;36mquick_execute\u001b[1;34m(op_name, num_outputs, inputs, attrs, ctx, name)\u001b[0m\n\u001b[0;32m     59\u001b[0m     tensors = pywrap_tensorflow.TFE_Py_Execute(ctx._handle, device_name,\n\u001b[0;32m     60\u001b[0m                                                \u001b[0mop_name\u001b[0m\u001b[1;33m,\u001b[0m \u001b[0minputs\u001b[0m\u001b[1;33m,\u001b[0m \u001b[0mattrs\u001b[0m\u001b[1;33m,\u001b[0m\u001b[1;33m\u001b[0m\u001b[1;33m\u001b[0m\u001b[0m\n\u001b[1;32m---> 61\u001b[1;33m                                                num_outputs)\n\u001b[0m\u001b[0;32m     62\u001b[0m   \u001b[1;32mexcept\u001b[0m \u001b[0mcore\u001b[0m\u001b[1;33m.\u001b[0m\u001b[0m_NotOkStatusException\u001b[0m \u001b[1;32mas\u001b[0m \u001b[0me\u001b[0m\u001b[1;33m:\u001b[0m\u001b[1;33m\u001b[0m\u001b[1;33m\u001b[0m\u001b[0m\n\u001b[0;32m     63\u001b[0m     \u001b[1;32mif\u001b[0m \u001b[0mname\u001b[0m \u001b[1;32mis\u001b[0m \u001b[1;32mnot\u001b[0m \u001b[1;32mNone\u001b[0m\u001b[1;33m:\u001b[0m\u001b[1;33m\u001b[0m\u001b[1;33m\u001b[0m\u001b[0m\n",
      "\u001b[1;31mKeyboardInterrupt\u001b[0m: "
     ]
    }
   ],
   "source": [
    "clf = ak.StructuredDataClassifier(max_trials=10)\n",
    "clf.fit(X_train, y_train, verbose=2)\n",
    "\n",
    "clf.evaluate(X_test, y_test)"
   ]
  },
  {
   "cell_type": "code",
   "execution_count": null,
   "metadata": {},
   "outputs": [],
   "source": []
  }
 ],
 "metadata": {
  "kernelspec": {
   "display_name": "Python 3",
   "language": "python",
   "name": "python3"
  },
  "language_info": {
   "codemirror_mode": {
    "name": "ipython",
    "version": 3
   },
   "file_extension": ".py",
   "mimetype": "text/x-python",
   "name": "python",
   "nbconvert_exporter": "python",
   "pygments_lexer": "ipython3",
   "version": "3.7.6"
  }
 },
 "nbformat": 4,
 "nbformat_minor": 4
}
