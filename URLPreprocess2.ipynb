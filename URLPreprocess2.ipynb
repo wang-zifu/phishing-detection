{
 "cells": [
  {
   "cell_type": "code",
   "execution_count": 1,
   "metadata": {},
   "outputs": [],
   "source": [
    "import numpy as np\n",
    "import pandas as pd\n",
    "from sklearn.model_selection import train_test_split"
   ]
  },
  {
   "cell_type": "code",
   "execution_count": 2,
   "metadata": {},
   "outputs": [],
   "source": [
    "def get_row(i,url, label):\n",
    "    url = url.strip()\n",
    "    if '\"' in url:\n",
    "        url = url.replace('\"', '\"\"')\n",
    "    if '\"' in url or ',' in url:\n",
    "        url = '\"%s\"' % url\n",
    "    return '%d,%s,%s\\n' % (i, url, label)"
   ]
  },
  {
   "cell_type": "markdown",
   "metadata": {},
   "source": [
    "## URL Only"
   ]
  },
  {
   "cell_type": "code",
   "execution_count": 3,
   "metadata": {},
   "outputs": [],
   "source": [
    "N_URL_L = 2832720\n",
    "N_URL_P = 2171070"
   ]
  },
  {
   "cell_type": "code",
   "execution_count": 4,
   "metadata": {},
   "outputs": [],
   "source": [
    "with open('data/ebubekirbbr/url_%d.csv' % (N_URL_L + N_URL_P), 'w') as f:\n",
    "    names = 'index,text,label\\n'\n",
    "    f.write(names)\n",
    "    \n",
    "    for i, url in enumerate(open('data/ebubekirbbr/raw/url_legitimates.txt').readlines()):\n",
    "        row = get_row(i, url, 'legitimate')\n",
    "        f.write(row)\n",
    "    \n",
    "    for i, url in enumerate(open('data/ebubekirbbr/raw/url_phishings.txt').readlines(), start=N_URL_L):\n",
    "        row = get_row(i, url, 'phishing')\n",
    "        f.write(row)"
   ]
  },
  {
   "cell_type": "markdown",
   "metadata": {},
   "source": [
    "## Domain Only"
   ]
  },
  {
   "cell_type": "code",
   "execution_count": 5,
   "metadata": {},
   "outputs": [],
   "source": [
    "N_DOMAIN_L = 49228\n",
    "N_DOMAIN_P = 149808"
   ]
  },
  {
   "cell_type": "code",
   "execution_count": 6,
   "metadata": {},
   "outputs": [],
   "source": [
    "with open('data/ebubekirbbr/domain_%d.csv' % (N_DOMAIN_L + N_DOMAIN_P), 'w') as f:\n",
    "    names = 'index,text,label\\n'\n",
    "    f.write(names)\n",
    "    \n",
    "    for i, url in enumerate(open('data/ebubekirbbr/raw/domain_legitimates.txt').readlines()):\n",
    "        row = get_row(i, url, 'legitimate')\n",
    "        f.write(row)\n",
    "    \n",
    "    for i, url in enumerate(open('data/ebubekirbbr/raw/domain_phishings.txt').readlines(), start=N_DOMAIN_L):\n",
    "        row = get_row(i, url, 'phishing')\n",
    "        f.write(row)"
   ]
  },
  {
   "cell_type": "markdown",
   "metadata": {},
   "source": [
    "## URL402,000 + DOMAIN98,000"
   ]
  },
  {
   "cell_type": "code",
   "execution_count": 7,
   "metadata": {},
   "outputs": [],
   "source": [
    "N_URL = 201000\n",
    "N_DOMAIN = 49000\n",
    "N_URL_DOMAIN = N_URL + N_DOMAIN"
   ]
  },
  {
   "cell_type": "code",
   "execution_count": 8,
   "metadata": {},
   "outputs": [
    {
     "data": {
      "text/plain": [
       "499995                 http://application-jagex.totalh.com/\n",
       "499996          http://servicesrunescapelogin.megabyet.net/\n",
       "499997    http://us.blizzard.com.login.en.forum-password...\n",
       "499998                                 http://b2bu3.t35.com\n",
       "499999    http://www.services-runescape-free-level-135-0...\n",
       "dtype: object"
      ]
     },
     "execution_count": 8,
     "metadata": {},
     "output_type": "execute_result"
    }
   ],
   "source": [
    "urls = [x.strip() for x in\n",
    "        open('data/ebubekirbbr/raw/url_legitimates.txt').readlines()[:N_URL] +\n",
    "        open('data/ebubekirbbr/raw/domain_legitimates.txt').readlines()[:N_DOMAIN] +\n",
    "        open('data/ebubekirbbr/raw/url_phishings.txt').readlines()[:N_URL] +\n",
    "        open('data/ebubekirbbr/raw/domain_phishings.txt').readlines()[:N_DOMAIN]]\n",
    "urls = pd.Series(urls, dtype=str)\n",
    "urls.tail()"
   ]
  },
  {
   "cell_type": "code",
   "execution_count": 9,
   "metadata": {},
   "outputs": [
    {
     "data": {
      "text/plain": [
       "499995    phishing\n",
       "499996    phishing\n",
       "499997    phishing\n",
       "499998    phishing\n",
       "499999    phishing\n",
       "dtype: category\n",
       "Categories (2, object): [legitimate, phishing]"
      ]
     },
     "execution_count": 9,
     "metadata": {},
     "output_type": "execute_result"
    }
   ],
   "source": [
    "labels = ['legitimate'] * N_URL_DOMAIN + ['phishing'] * N_URL_DOMAIN\n",
    "labels = pd.Series(labels, dtype='category')\n",
    "labels.tail()"
   ]
  },
  {
   "cell_type": "code",
   "execution_count": 10,
   "metadata": {},
   "outputs": [
    {
     "data": {
      "text/html": [
       "<div>\n",
       "<style scoped>\n",
       "    .dataframe tbody tr th:only-of-type {\n",
       "        vertical-align: middle;\n",
       "    }\n",
       "\n",
       "    .dataframe tbody tr th {\n",
       "        vertical-align: top;\n",
       "    }\n",
       "\n",
       "    .dataframe thead th {\n",
       "        text-align: right;\n",
       "    }\n",
       "</style>\n",
       "<table border=\"1\" class=\"dataframe\">\n",
       "  <thead>\n",
       "    <tr style=\"text-align: right;\">\n",
       "      <th></th>\n",
       "      <th>text</th>\n",
       "      <th>label</th>\n",
       "    </tr>\n",
       "  </thead>\n",
       "  <tbody>\n",
       "    <tr>\n",
       "      <th>0</th>\n",
       "      <td>https://www.factset.com/services/portfolio-dat...</td>\n",
       "      <td>legitimate</td>\n",
       "    </tr>\n",
       "    <tr>\n",
       "      <th>1</th>\n",
       "      <td>https://www.factset.com/news/2018/9/18/factset...</td>\n",
       "      <td>legitimate</td>\n",
       "    </tr>\n",
       "    <tr>\n",
       "      <th>2</th>\n",
       "      <td>http://www.factset.com/insight/2016/08/resolve...</td>\n",
       "      <td>legitimate</td>\n",
       "    </tr>\n",
       "    <tr>\n",
       "      <th>3</th>\n",
       "      <td>https://www.factset.com/hubfs/resources%20sect...</td>\n",
       "      <td>legitimate</td>\n",
       "    </tr>\n",
       "    <tr>\n",
       "      <th>4</th>\n",
       "      <td>http://www.factset.com/careers/join-our-team/e...</td>\n",
       "      <td>legitimate</td>\n",
       "    </tr>\n",
       "    <tr>\n",
       "      <th>...</th>\n",
       "      <td>...</td>\n",
       "      <td>...</td>\n",
       "    </tr>\n",
       "    <tr>\n",
       "      <th>499995</th>\n",
       "      <td>http://application-jagex.totalh.com/</td>\n",
       "      <td>phishing</td>\n",
       "    </tr>\n",
       "    <tr>\n",
       "      <th>499996</th>\n",
       "      <td>http://servicesrunescapelogin.megabyet.net/</td>\n",
       "      <td>phishing</td>\n",
       "    </tr>\n",
       "    <tr>\n",
       "      <th>499997</th>\n",
       "      <td>http://us.blizzard.com.login.en.forum-password...</td>\n",
       "      <td>phishing</td>\n",
       "    </tr>\n",
       "    <tr>\n",
       "      <th>499998</th>\n",
       "      <td>http://b2bu3.t35.com</td>\n",
       "      <td>phishing</td>\n",
       "    </tr>\n",
       "    <tr>\n",
       "      <th>499999</th>\n",
       "      <td>http://www.services-runescape-free-level-135-0...</td>\n",
       "      <td>phishing</td>\n",
       "    </tr>\n",
       "  </tbody>\n",
       "</table>\n",
       "<p>500000 rows × 2 columns</p>\n",
       "</div>"
      ],
      "text/plain": [
       "                                                     text       label\n",
       "0       https://www.factset.com/services/portfolio-dat...  legitimate\n",
       "1       https://www.factset.com/news/2018/9/18/factset...  legitimate\n",
       "2       http://www.factset.com/insight/2016/08/resolve...  legitimate\n",
       "3       https://www.factset.com/hubfs/resources%20sect...  legitimate\n",
       "4       http://www.factset.com/careers/join-our-team/e...  legitimate\n",
       "...                                                   ...         ...\n",
       "499995               http://application-jagex.totalh.com/    phishing\n",
       "499996        http://servicesrunescapelogin.megabyet.net/    phishing\n",
       "499997  http://us.blizzard.com.login.en.forum-password...    phishing\n",
       "499998                               http://b2bu3.t35.com    phishing\n",
       "499999  http://www.services-runescape-free-level-135-0...    phishing\n",
       "\n",
       "[500000 rows x 2 columns]"
      ]
     },
     "execution_count": 10,
     "metadata": {},
     "output_type": "execute_result"
    }
   ],
   "source": [
    "df = pd.DataFrame()\n",
    "df['text'] = urls\n",
    "df['label'] = labels\n",
    "df.tail()"
   ]
  },
  {
   "cell_type": "code",
   "execution_count": 11,
   "metadata": {},
   "outputs": [],
   "source": [
    "df.to_csv('data/url_%d_domain_%d.csv' % (N_URL * 2, N_DOMAIN * 2))"
   ]
  },
  {
   "cell_type": "markdown",
   "metadata": {},
   "source": [
    "## URL(802,000) + Domain(198,000)"
   ]
  },
  {
   "cell_type": "code",
   "execution_count": 12,
   "metadata": {},
   "outputs": [],
   "source": [
    "N_URL = 401000\n",
    "N_DOMAIN_L = 49000\n",
    "N_DOMAIN_P = 149000"
   ]
  },
  {
   "cell_type": "code",
   "execution_count": 13,
   "metadata": {},
   "outputs": [],
   "source": [
    "with open('data/ebubekirbbr/url_%d_domain_%d.csv' % (N_URL * 2, N_DOMAIN_L + N_DOMAIN_P), 'w') as f:\n",
    "    names = 'index,text,label\\n'\n",
    "    f.write(names)\n",
    "    \n",
    "    for i, url in enumerate(open('data/ebubekirbbr/raw/url_legitimates.txt').readlines()[:N_URL]):\n",
    "        row = get_row(i, url, 'legitimate')\n",
    "        f.write(row)\n",
    "    \n",
    "    for i, url in enumerate(open('data/ebubekirbbr/raw/domain_legitimates.txt').readlines()[:N_DOMAIN_L], start=N_URL):\n",
    "        row = get_row(i, url, 'legitimate')\n",
    "        f.write(row)\n",
    "    \n",
    "    for i, url in enumerate(open('data/ebubekirbbr/raw/url_phishings.txt').readlines()[:N_URL], start=N_URL + N_DOMAIN_L):\n",
    "        row = get_row(i, url, 'phishing')\n",
    "        f.write(row)\n",
    "    \n",
    "    for i, url in enumerate(open('data/ebubekirbbr/raw/domain_phishings.txt').readlines()[:N_DOMAIN_P], start=N_URL * 2 + N_DOMAIN_L):\n",
    "        row = get_row(i, url, 'phishing')\n",
    "        f.write(row)"
   ]
  },
  {
   "cell_type": "markdown",
   "metadata": {},
   "source": [
    "## URL(1,802,000) + Domain(198,000)(L49,000 + P149,000)"
   ]
  },
  {
   "cell_type": "code",
   "execution_count": 14,
   "metadata": {},
   "outputs": [],
   "source": [
    "N_URL = 901000\n",
    "N_DOMAIN_L = 49000\n",
    "N_DOMAIN_P = 149000"
   ]
  },
  {
   "cell_type": "code",
   "execution_count": 15,
   "metadata": {},
   "outputs": [],
   "source": [
    "with open('data/ebubekirbbr/url_%d_domain_%d.csv' % (N_URL * 2, N_DOMAIN_L + N_DOMAIN_P), 'w') as f:\n",
    "    names = 'index,text,label\\n'\n",
    "    f.write(names)\n",
    "    \n",
    "    for i, url in enumerate(open('data/ebubekirbbr/raw/url_legitimates.txt').readlines()[:N_URL]):\n",
    "        row = get_row(i, url, 'legitimate')\n",
    "        f.write(row)\n",
    "    \n",
    "    for i, url in enumerate(open('data/ebubekirbbr/raw/domain_legitimates.txt').readlines()[:N_DOMAIN_L], start=N_URL):\n",
    "        row = get_row(i, url, 'legitimate')\n",
    "        f.write(row)\n",
    "    \n",
    "    for i, url in enumerate(open('data/ebubekirbbr/raw/url_phishings.txt').readlines()[:N_URL], start=N_URL + N_DOMAIN_L):\n",
    "        row = get_row(i, url, 'phishing')\n",
    "        f.write(row)\n",
    "    \n",
    "    for i, url in enumerate(open('data/ebubekirbbr/raw/domain_phishings.txt').readlines()[:N_DOMAIN_P], start=N_URL * 2 + N_DOMAIN_L):\n",
    "        row = get_row(i, url, 'phishing')\n",
    "        f.write(row)"
   ]
  },
  {
   "cell_type": "markdown",
   "metadata": {},
   "source": [
    "## URL(5,003,790)(2,832,720+2,171,070) + Domain(199,036)(49,228+149,808)"
   ]
  },
  {
   "cell_type": "code",
   "execution_count": 1,
   "metadata": {},
   "outputs": [],
   "source": [
    "N_URL_L = 2832720\n",
    "N_URL_P = 2171070\n",
    "N_DOMAIN_L = 49228\n",
    "N_DOMAIN_P = 149808"
   ]
  },
  {
   "cell_type": "code",
   "execution_count": 4,
   "metadata": {},
   "outputs": [],
   "source": [
    "with open('data/ebubekirbbr/url_%d_domain_%d.csv' % (N_URL_L+N_URL_P, N_DOMAIN_L+N_DOMAIN_P), 'w') as f:\n",
    "    names = 'index,text,label\\n'\n",
    "    f.write(names)\n",
    "    \n",
    "    for i, url in enumerate(open('data/ebubekirbbr/raw/url_legitimates.txt').readlines()):\n",
    "        row = get_row(i, url, 'legitimate')\n",
    "        f.write(row)\n",
    "    \n",
    "    for i, url in enumerate(open('data/ebubekirbbr/raw/domain_legitimates.txt').readlines(), start=N_URL_L):\n",
    "        row = get_row(i, url, 'legitimate')\n",
    "        f.write(row)\n",
    "    \n",
    "    for i, url in enumerate(open('data/ebubekirbbr/raw/url_phishings.txt').readlines(), start=N_URL_L + N_DOMAIN_L):\n",
    "        row = get_row(i, url, 'phishing')\n",
    "        f.write(row)\n",
    "    \n",
    "    for i, url in enumerate(open('data/ebubekirbbr/raw/domain_phishings.txt').readlines(), start=N_URL_L + N_DOMAIN_L + N_URL_P):\n",
    "        row = get_row(i, url, 'phishing')\n",
    "        f.write(row)"
   ]
  },
  {
   "cell_type": "markdown",
   "metadata": {},
   "source": [
    "## Split Train Test"
   ]
  },
  {
   "cell_type": "markdown",
   "metadata": {},
   "source": [
    "### URL Only"
   ]
  },
  {
   "cell_type": "code",
   "execution_count": 7,
   "metadata": {},
   "outputs": [
    {
     "name": "stdout",
     "output_type": "stream",
     "text": [
      "5003790\n"
     ]
    }
   ],
   "source": [
    "X_train = pd.read_csv('data/ebubekirbbr/url_5003790.csv', dtype={'text': str, 'label': 'category'})\n",
    "print(len(X_train))\n",
    "X_train, X_test = train_test_split(X_train, test_size=0.1, random_state=119)\n",
    "X_train.to_csv('data/ebubekirbbr/splited/train_url_%d.csv' % len(X_train), index=False)\n",
    "X_test.to_csv('data/ebubekirbbr/splited/val_url_%d.csv' % len(X_test), index=False)"
   ]
  },
  {
   "cell_type": "markdown",
   "metadata": {},
   "source": [
    "### Domain Only"
   ]
  },
  {
   "cell_type": "code",
   "execution_count": 8,
   "metadata": {},
   "outputs": [
    {
     "name": "stdout",
     "output_type": "stream",
     "text": [
      "199036\n"
     ]
    }
   ],
   "source": [
    "X_train = pd.read_csv('data/ebubekirbbr/domain_199036.csv', dtype={'text': str, 'label': 'category'})\n",
    "print(len(X_train))\n",
    "X_train, X_test = train_test_split(X_train, test_size=0.2, random_state=119)\n",
    "X_train.to_csv('data/ebubekirbbr/splited/train_domain_%d.csv' % len(X_train), index=False)\n",
    "X_test.to_csv('data/ebubekirbbr/splited/val_domain_%d.csv' % len(X_test), index=False)"
   ]
  },
  {
   "cell_type": "markdown",
   "metadata": {},
   "source": [
    "### URL + Domain"
   ]
  },
  {
   "cell_type": "code",
   "execution_count": 4,
   "metadata": {},
   "outputs": [
    {
     "name": "stdout",
     "output_type": "stream",
     "text": [
      "500000\n"
     ]
    }
   ],
   "source": [
    "X_train = pd.read_csv('data/ebubekirbbr/url_402000_domain_98000.csv', dtype={'text': str, 'label': 'category'})\n",
    "print(len(X_train))\n",
    "X_train, X_test = train_test_split(X_train, test_size=0.1, random_state=119)\n",
    "X_train.to_csv('data/ebubekirbbr/splited/train_%d.csv' % len(X_train), index=False)\n",
    "X_test.to_csv('data/ebubekirbbr/splited/val_%d.csv' % len(X_test), index=False)"
   ]
  },
  {
   "cell_type": "code",
   "execution_count": 5,
   "metadata": {},
   "outputs": [
    {
     "name": "stdout",
     "output_type": "stream",
     "text": [
      "1000000\n"
     ]
    }
   ],
   "source": [
    "X_train = pd.read_csv('data/ebubekirbbr/url_802000_domain_198000.csv', dtype={'text': str, 'label': 'category'})\n",
    "print(len(X_train))\n",
    "X_train, X_test = train_test_split(X_train, test_size=0.1, random_state=119)\n",
    "X_train.to_csv('data/ebubekirbbr/splited/train_%d.csv' % len(X_train), index=False)\n",
    "X_test.to_csv('data/ebubekirbbr/splited/val_%d.csv' % len(X_test), index=False)"
   ]
  },
  {
   "cell_type": "code",
   "execution_count": 6,
   "metadata": {},
   "outputs": [
    {
     "name": "stdout",
     "output_type": "stream",
     "text": [
      "2000000\n"
     ]
    }
   ],
   "source": [
    "X_train = pd.read_csv('data/ebubekirbbr/url_1802000_domain_198000.csv', dtype={'text': str, 'label': 'category'})\n",
    "print(len(X_train))\n",
    "X_train, X_test = train_test_split(X_train, test_size=0.1, random_state=119)\n",
    "X_train.to_csv('data/ebubekirbbr/splited/train_%d.csv' % len(X_train), index=False)\n",
    "X_test.to_csv('data/ebubekirbbr/splited/val_%d.csv' % len(X_test), index=False)"
   ]
  },
  {
   "cell_type": "code",
   "execution_count": 5,
   "metadata": {},
   "outputs": [
    {
     "name": "stdout",
     "output_type": "stream",
     "text": [
      "5202826\n"
     ]
    }
   ],
   "source": [
    "X_train = pd.read_csv('data/ebubekirbbr/url_5003790_domain_199036.csv', dtype={'text': str, 'label': 'category'})\n",
    "print(len(X_train))\n",
    "X_train, X_test = train_test_split(X_train, test_size=0.1, random_state=119)\n",
    "X_train.to_csv('data/ebubekirbbr/splited/train_%d.csv' % len(X_train), index=False)\n",
    "X_test.to_csv('data/ebubekirbbr/splited/val_%d.csv' % len(X_test), index=False)"
   ]
  },
  {
   "cell_type": "code",
   "execution_count": null,
   "metadata": {},
   "outputs": [],
   "source": []
  }
 ],
 "metadata": {
  "kernelspec": {
   "display_name": "Python 3",
   "language": "python",
   "name": "python3"
  },
  "language_info": {
   "codemirror_mode": {
    "name": "ipython",
    "version": 3
   },
   "file_extension": ".py",
   "mimetype": "text/x-python",
   "name": "python",
   "nbconvert_exporter": "python",
   "pygments_lexer": "ipython3",
   "version": "3.6.9"
  }
 },
 "nbformat": 4,
 "nbformat_minor": 4
}
