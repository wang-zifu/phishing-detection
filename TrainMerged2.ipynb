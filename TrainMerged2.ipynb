{
 "cells": [
  {
   "cell_type": "code",
   "execution_count": 1,
   "metadata": {},
   "outputs": [
    {
     "name": "stdout",
     "output_type": "stream",
     "text": [
      "Requirement already up-to-date: imbalanced-learn in /usr/local/lib/python3.6/dist-packages (0.6.2)\n",
      "Requirement already satisfied, skipping upgrade: joblib>=0.11 in /usr/local/lib/python3.6/dist-packages (from imbalanced-learn) (0.14.1)\n",
      "Requirement already satisfied, skipping upgrade: scipy>=0.17 in /usr/local/lib/python3.6/dist-packages (from imbalanced-learn) (1.4.1)\n",
      "Requirement already satisfied, skipping upgrade: numpy>=1.11 in /usr/local/lib/python3.6/dist-packages (from imbalanced-learn) (1.18.1)\n",
      "Requirement already satisfied, skipping upgrade: scikit-learn>=0.22 in /usr/local/lib/python3.6/dist-packages (from imbalanced-learn) (0.22.2.post1)\n"
     ]
    }
   ],
   "source": [
    "!pip install -U imbalanced-learn"
   ]
  },
  {
   "cell_type": "markdown",
   "metadata": {},
   "source": [
    "### Read dataset"
   ]
  },
  {
   "cell_type": "code",
   "execution_count": 2,
   "metadata": {},
   "outputs": [],
   "source": [
    "from pathlib import Path\n",
    "\n",
    "import numpy as np\n",
    "import pandas as pd"
   ]
  },
  {
   "cell_type": "code",
   "execution_count": 3,
   "metadata": {},
   "outputs": [],
   "source": [
    "data_path = Path('data/merged/')"
   ]
  },
  {
   "cell_type": "code",
   "execution_count": 4,
   "metadata": {},
   "outputs": [
    {
     "data": {
      "text/plain": [
       "(6152013, 304285, 2041031)"
      ]
     },
     "execution_count": 4,
     "metadata": {},
     "output_type": "execute_result"
    }
   ],
   "source": [
    "df_benign = pd.read_csv(data_path / 'benign.csv')\n",
    "df_malware = pd.read_csv(data_path / 'malware.csv')\n",
    "df_phishing = pd.read_csv(data_path / 'phishing.csv')\n",
    "len(df_benign), len(df_malware), len(df_phishing)"
   ]
  },
  {
   "cell_type": "markdown",
   "metadata": {},
   "source": [
    "### Sampling, Split"
   ]
  },
  {
   "cell_type": "code",
   "execution_count": 5,
   "metadata": {},
   "outputs": [],
   "source": [
    "from sklearn.model_selection import train_test_split"
   ]
  },
  {
   "cell_type": "code",
   "execution_count": 6,
   "metadata": {},
   "outputs": [],
   "source": [
    "df_benign = df_benign.sample(n=300000, random_state=119)\n",
    "df_malware = df_malware.sample(n=30000, random_state=119)\n",
    "df_phishing = df_phishing.sample(n=100000, random_state=119)"
   ]
  },
  {
   "cell_type": "code",
   "execution_count": 7,
   "metadata": {},
   "outputs": [],
   "source": [
    "df_benign['CLASS_LABEL'] = np.asarray([0] * len(df_benign))\n",
    "df_malware['CLASS_LABEL'] = np.asarray([1] * len(df_malware))\n",
    "df_phishing['CLASS_LABEL'] = np.asarray([2] * len(df_phishing))"
   ]
  },
  {
   "cell_type": "code",
   "execution_count": 8,
   "metadata": {},
   "outputs": [],
   "source": [
    "X_train = pd.concat([df_benign, df_malware, df_phishing], ignore_index=True)\n",
    "y_train = X_train.pop('CLASS_LABEL')\n",
    "X_train = X_train['url']"
   ]
  },
  {
   "cell_type": "code",
   "execution_count": 9,
   "metadata": {},
   "outputs": [],
   "source": [
    "X_train, X_test, y_train, y_test = train_test_split(X_train, y_train, test_size=0.1, random_state=119)"
   ]
  },
  {
   "cell_type": "code",
   "execution_count": 10,
   "metadata": {},
   "outputs": [],
   "source": [
    "del df_benign, df_malware, df_phishing"
   ]
  },
  {
   "cell_type": "markdown",
   "metadata": {},
   "source": [
    "### Extract Features"
   ]
  },
  {
   "cell_type": "code",
   "execution_count": 11,
   "metadata": {},
   "outputs": [],
   "source": [
    "from sklearn.feature_extraction.text import TfidfVectorizer\n",
    "from sklearn.pipeline import Pipeline"
   ]
  },
  {
   "cell_type": "code",
   "execution_count": 12,
   "metadata": {},
   "outputs": [],
   "source": [
    "tfidf = TfidfVectorizer(max_features=500, min_df=2)\n",
    "X_train = tfidf.fit_transform(X_train)\n",
    "X_test = tfidf.transform(X_test)"
   ]
  },
  {
   "cell_type": "code",
   "execution_count": 13,
   "metadata": {},
   "outputs": [],
   "source": [
    "X_train = X_train.toarray()\n",
    "X_test = X_test.toarray()"
   ]
  },
  {
   "cell_type": "markdown",
   "metadata": {},
   "source": [
    "### Train Model"
   ]
  },
  {
   "cell_type": "code",
   "execution_count": 14,
   "metadata": {},
   "outputs": [],
   "source": [
    "from tpot import TPOTClassifier\n",
    "from tpot.config import classifier_config_dict"
   ]
  },
  {
   "cell_type": "code",
   "execution_count": 15,
   "metadata": {},
   "outputs": [
    {
     "data": {
      "text/plain": [
       "{'xgboost.XGBClassifier': {'n_estimators': [100],\n",
       "  'max_depth': range(1, 11),\n",
       "  'learning_rate': [0.001, 0.01, 0.1, 0.5, 1.0],\n",
       "  'subsample': array([0.05, 0.1 , 0.15, 0.2 , 0.25, 0.3 , 0.35, 0.4 , 0.45, 0.5 , 0.55,\n",
       "         0.6 , 0.65, 0.7 , 0.75, 0.8 , 0.85, 0.9 , 0.95, 1.  ]),\n",
       "  'min_child_weight': range(1, 21),\n",
       "  'nthread': [1]},\n",
       " 'sklearn.preprocessing.Binarizer': {'threshold': array([0.  , 0.05, 0.1 , 0.15, 0.2 , 0.25, 0.3 , 0.35, 0.4 , 0.45, 0.5 ,\n",
       "         0.55, 0.6 , 0.65, 0.7 , 0.75, 0.8 , 0.85, 0.9 , 0.95, 1.  ])},\n",
       " 'sklearn.decomposition.FastICA': {'tol': array([0.  , 0.05, 0.1 , 0.15, 0.2 , 0.25, 0.3 , 0.35, 0.4 , 0.45, 0.5 ,\n",
       "         0.55, 0.6 , 0.65, 0.7 , 0.75, 0.8 , 0.85, 0.9 , 0.95, 1.  ])},\n",
       " 'sklearn.cluster.FeatureAgglomeration': {'linkage': ['ward',\n",
       "   'complete',\n",
       "   'average'],\n",
       "  'affinity': ['euclidean', 'l1', 'l2', 'manhattan', 'cosine']},\n",
       " 'sklearn.preprocessing.MaxAbsScaler': {},\n",
       " 'sklearn.preprocessing.MinMaxScaler': {},\n",
       " 'sklearn.preprocessing.Normalizer': {'norm': ['l1', 'l2', 'max']},\n",
       " 'sklearn.kernel_approximation.Nystroem': {'kernel': ['rbf',\n",
       "   'cosine',\n",
       "   'chi2',\n",
       "   'laplacian',\n",
       "   'polynomial',\n",
       "   'poly',\n",
       "   'linear',\n",
       "   'additive_chi2',\n",
       "   'sigmoid'],\n",
       "  'gamma': array([0.  , 0.05, 0.1 , 0.15, 0.2 , 0.25, 0.3 , 0.35, 0.4 , 0.45, 0.5 ,\n",
       "         0.55, 0.6 , 0.65, 0.7 , 0.75, 0.8 , 0.85, 0.9 , 0.95, 1.  ]),\n",
       "  'n_components': range(1, 11)},\n",
       " 'sklearn.decomposition.PCA': {'svd_solver': ['randomized'],\n",
       "  'iterated_power': range(1, 11)},\n",
       " 'sklearn.preprocessing.PolynomialFeatures': {'degree': [2],\n",
       "  'include_bias': [False],\n",
       "  'interaction_only': [False]},\n",
       " 'sklearn.kernel_approximation.RBFSampler': {'gamma': array([0.  , 0.05, 0.1 , 0.15, 0.2 , 0.25, 0.3 , 0.35, 0.4 , 0.45, 0.5 ,\n",
       "         0.55, 0.6 , 0.65, 0.7 , 0.75, 0.8 , 0.85, 0.9 , 0.95, 1.  ])},\n",
       " 'sklearn.preprocessing.RobustScaler': {},\n",
       " 'sklearn.preprocessing.StandardScaler': {},\n",
       " 'tpot.builtins.ZeroCount': {},\n",
       " 'tpot.builtins.OneHotEncoder': {'minimum_fraction': [0.05,\n",
       "   0.1,\n",
       "   0.15,\n",
       "   0.2,\n",
       "   0.25],\n",
       "  'sparse': [False],\n",
       "  'threshold': [10]},\n",
       " 'sklearn.feature_selection.SelectFwe': {'alpha': array([0.   , 0.001, 0.002, 0.003, 0.004, 0.005, 0.006, 0.007, 0.008,\n",
       "         0.009, 0.01 , 0.011, 0.012, 0.013, 0.014, 0.015, 0.016, 0.017,\n",
       "         0.018, 0.019, 0.02 , 0.021, 0.022, 0.023, 0.024, 0.025, 0.026,\n",
       "         0.027, 0.028, 0.029, 0.03 , 0.031, 0.032, 0.033, 0.034, 0.035,\n",
       "         0.036, 0.037, 0.038, 0.039, 0.04 , 0.041, 0.042, 0.043, 0.044,\n",
       "         0.045, 0.046, 0.047, 0.048, 0.049]),\n",
       "  'score_func': {'sklearn.feature_selection.f_classif': None}},\n",
       " 'sklearn.feature_selection.SelectPercentile': {'percentile': range(1, 100),\n",
       "  'score_func': {'sklearn.feature_selection.f_classif': None}},\n",
       " 'sklearn.feature_selection.VarianceThreshold': {'threshold': [0.0001,\n",
       "   0.0005,\n",
       "   0.001,\n",
       "   0.005,\n",
       "   0.01,\n",
       "   0.05,\n",
       "   0.1,\n",
       "   0.2]},\n",
       " 'sklearn.feature_selection.RFE': {'step': array([0.05, 0.1 , 0.15, 0.2 , 0.25, 0.3 , 0.35, 0.4 , 0.45, 0.5 , 0.55,\n",
       "         0.6 , 0.65, 0.7 , 0.75, 0.8 , 0.85, 0.9 , 0.95, 1.  ]),\n",
       "  'estimator': {'sklearn.ensemble.ExtraTreesClassifier': {'n_estimators': [100],\n",
       "    'criterion': ['gini', 'entropy'],\n",
       "    'max_features': array([0.05, 0.1 , 0.15, 0.2 , 0.25, 0.3 , 0.35, 0.4 , 0.45, 0.5 , 0.55,\n",
       "           0.6 , 0.65, 0.7 , 0.75, 0.8 , 0.85, 0.9 , 0.95, 1.  ])}}},\n",
       " 'sklearn.feature_selection.SelectFromModel': {'threshold': array([0.  , 0.05, 0.1 , 0.15, 0.2 , 0.25, 0.3 , 0.35, 0.4 , 0.45, 0.5 ,\n",
       "         0.55, 0.6 , 0.65, 0.7 , 0.75, 0.8 , 0.85, 0.9 , 0.95, 1.  ]),\n",
       "  'estimator': {'sklearn.ensemble.ExtraTreesClassifier': {'n_estimators': [100],\n",
       "    'criterion': ['gini', 'entropy'],\n",
       "    'max_features': array([0.05, 0.1 , 0.15, 0.2 , 0.25, 0.3 , 0.35, 0.4 , 0.45, 0.5 , 0.55,\n",
       "           0.6 , 0.65, 0.7 , 0.75, 0.8 , 0.85, 0.9 , 0.95, 1.  ])}}}}"
      ]
     },
     "execution_count": 15,
     "metadata": {},
     "output_type": "execute_result"
    }
   ],
   "source": [
    "d = dict(classifier_config_dict)\n",
    "d.pop('sklearn.naive_bayes.GaussianNB')\n",
    "d.pop('sklearn.naive_bayes.BernoulliNB')\n",
    "d.pop('sklearn.naive_bayes.MultinomialNB')\n",
    "d.pop('sklearn.tree.DecisionTreeClassifier')\n",
    "d.pop('sklearn.ensemble.ExtraTreesClassifier')\n",
    "d.pop('sklearn.ensemble.GradientBoostingClassifier')\n",
    "d.pop('sklearn.ensemble.RandomForestClassifier')\n",
    "d.pop('sklearn.neighbors.KNeighborsClassifier')\n",
    "d.pop('sklearn.svm.LinearSVC')\n",
    "d.pop('sklearn.linear_model.SGDClassifier')\n",
    "d.pop('sklearn.linear_model.LogisticRegression')\n",
    "d"
   ]
  },
  {
   "cell_type": "code",
   "execution_count": null,
   "metadata": {},
   "outputs": [],
   "source": [
    "tpot = TPOTClassifier(generations=50, verbosity=2, n_jobs=16, random_state=119, config_dict=d)\n",
    "tpot.fit(X_train, y_train)\n",
    "\n",
    "print(tpot.score(X_test, y_test))\n",
    "tpot.export('tpot_pipelines/tpot_structured_pipeline.py')"
   ]
  }
 ],
 "metadata": {
  "kernelspec": {
   "display_name": "Python 3",
   "language": "python",
   "name": "python3"
  },
  "language_info": {
   "codemirror_mode": {
    "name": "ipython",
    "version": 3
   },
   "file_extension": ".py",
   "mimetype": "text/x-python",
   "name": "python",
   "nbconvert_exporter": "python",
   "pygments_lexer": "ipython3",
   "version": "3.6.9"
  }
 },
 "nbformat": 4,
 "nbformat_minor": 4
}
