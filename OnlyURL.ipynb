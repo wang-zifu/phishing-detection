{
 "cells": [
  {
   "cell_type": "code",
   "execution_count": null,
   "metadata": {},
   "outputs": [],
   "source": [
    "import re"
   ]
  },
  {
   "cell_type": "code",
   "execution_count": 2,
   "metadata": {},
   "outputs": [],
   "source": [
    "def domain_url_split(filepath):\n",
    "    domain_p = re.compile(r'^[^/]+?//[^/]+/?$', re.M)\n",
    "    links = open(filepath).read()\n",
    "    \n",
    "    domains = '\\n'.join(domain_p.findall(links))\n",
    "    domains, _ = re.subn('\\n{2,}', '\\n', domains)\n",
    "\n",
    "    urls, _ = domain_p.subn('\\n', links)\n",
    "    urls, _ = re.subn('\\n{2,}', '\\n', urls)\n",
    "\n",
    "    return domains, urls"
   ]
  },
  {
   "cell_type": "code",
   "execution_count": 3,
   "metadata": {},
   "outputs": [],
   "source": [
    "for filepath in ['url_legitimates.txt', 'url_phishings.txt']:\n",
    "    domains, urls = domain_url_split(filepath)\n",
    "    \n",
    "    name, ext = filepath.rsplit('.', 1)\n",
    "    open('%s-domain.%s' % (name, ext), 'w').write(domains)\n",
    "    open('%s-url.%s' % (name, ext), 'w').write(urls)"
   ]
  },
  {
   "cell_type": "code",
   "execution_count": null,
   "metadata": {},
   "outputs": [],
   "source": []
  }
 ],
 "metadata": {
  "kernelspec": {
   "display_name": "Python 3",
   "language": "python",
   "name": "python3"
  },
  "language_info": {
   "codemirror_mode": {
    "name": "ipython",
    "version": 3
   },
   "file_extension": ".py",
   "mimetype": "text/x-python",
   "name": "python",
   "nbconvert_exporter": "python",
   "pygments_lexer": "ipython3",
   "version": "3.7.6"
  }
 },
 "nbformat": 4,
 "nbformat_minor": 4
}
