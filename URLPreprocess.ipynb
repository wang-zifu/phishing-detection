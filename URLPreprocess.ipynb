{
 "cells": [
  {
   "cell_type": "code",
   "execution_count": 1,
   "metadata": {},
   "outputs": [],
   "source": [
    "import numpy as np\n",
    "import pandas as pd\n",
    "import yarl"
   ]
  },
  {
   "cell_type": "code",
   "execution_count": 2,
   "metadata": {},
   "outputs": [],
   "source": [
    "DATASET_DIR = '../_ml/dataset/'\n",
    "LEGITIMATES = ['20190312-github.com-ebubekirbbr-phishing_url_detection-cc_1',\n",
    "               '20190312-github.com-ebubekirbbr-phishing_url_detection-cc_2',\n",
    "               '20190312-github.com-ebubekirbbr-phishing_url_detection-cc_3']\n",
    "PHISHINGS = ['20190312-github.com-ebubekirbbr-phishing_url_detection-phishtank_1',\n",
    "             '20190312-github.com-ebubekirbbr-phishing_url_detection-phishtank_2',\n",
    "             '20190312-github.com-ebubekirbbr-phishing_url_detection-phishtank_3']\n",
    "TYPE = 'domain'"
   ]
  },
  {
   "cell_type": "code",
   "execution_count": 3,
   "metadata": {},
   "outputs": [
    {
     "data": {
      "text/plain": [
       "(49228, 149809)"
      ]
     },
     "execution_count": 3,
     "metadata": {},
     "output_type": "execute_result"
    }
   ],
   "source": [
    "url_legitimates = []\n",
    "for legitimate in LEGITIMATES:\n",
    "    filepath = '%s%s-%s.txt' % (DATASET_DIR, legitimate, TYPE)\n",
    "    url_legitimates += open(filepath).readlines()\n",
    "\n",
    "url_phishings = []\n",
    "for phishing in PHISHINGS:\n",
    "    filepath = '%s%s-%s.txt' % (DATASET_DIR, phishing, TYPE)\n",
    "    url_phishings += open(filepath).readlines()\n",
    "\n",
    "len(url_legitimates), len(url_phishings)"
   ]
  },
  {
   "cell_type": "code",
   "execution_count": 4,
   "metadata": {},
   "outputs": [
    {
     "data": {
      "text/plain": [
       "(49228, 149809)"
      ]
     },
     "execution_count": 4,
     "metadata": {},
     "output_type": "execute_result"
    }
   ],
   "source": [
    "url_legitimates = list(map(str.strip, url_legitimates))\n",
    "url_phishings = list(map(str.strip, url_phishings))\n",
    "\n",
    "len(url_legitimates), len(url_phishings)"
   ]
  },
  {
   "cell_type": "code",
   "execution_count": 5,
   "metadata": {},
   "outputs": [
    {
     "data": {
      "text/plain": [
       "49228"
      ]
     },
     "execution_count": 5,
     "metadata": {},
     "output_type": "execute_result"
    }
   ],
   "source": [
    "url_legitimates_2 = []\n",
    "\n",
    "for url in url_legitimates:\n",
    "    try:\n",
    "        yarl.URL(url)\n",
    "    except:\n",
    "        print(url)\n",
    "    else:\n",
    "        url_legitimates_2.append(url)\n",
    "\n",
    "len(url_legitimates_2)"
   ]
  },
  {
   "cell_type": "code",
   "execution_count": 6,
   "metadata": {},
   "outputs": [
    {
     "data": {
      "text/plain": [
       "1227621"
      ]
     },
     "execution_count": 6,
     "metadata": {},
     "output_type": "execute_result"
    }
   ],
   "source": [
    "open('domain_legitimates.txt', 'w').write('\\n'.join(url_legitimates_2))"
   ]
  },
  {
   "cell_type": "code",
   "execution_count": 7,
   "metadata": {},
   "outputs": [
    {
     "name": "stdout",
     "output_type": "stream",
     "text": [
      "http://jays.idv.tw:90*/\n"
     ]
    },
    {
     "data": {
      "text/plain": [
       "149808"
      ]
     },
     "execution_count": 7,
     "metadata": {},
     "output_type": "execute_result"
    }
   ],
   "source": [
    "url_phishings_2 = []\n",
    "        \n",
    "for url in url_phishings:\n",
    "    try:\n",
    "        yarl.URL(url)\n",
    "    except:\n",
    "        print(url)\n",
    "    else:\n",
    "        url_phishings_2.append(url)\n",
    "\n",
    "len(url_phishings_2)"
   ]
  },
  {
   "cell_type": "code",
   "execution_count": 8,
   "metadata": {},
   "outputs": [
    {
     "data": {
      "text/plain": [
       "5866649"
      ]
     },
     "execution_count": 8,
     "metadata": {},
     "output_type": "execute_result"
    }
   ],
   "source": [
    "open('domain_phishings.txt', 'w').write('\\n'.join(url_phishings_2))"
   ]
  },
  {
   "cell_type": "code",
   "execution_count": 12,
   "metadata": {},
   "outputs": [
    {
     "data": {
      "text/plain": [
       "149808"
      ]
     },
     "execution_count": 12,
     "metadata": {},
     "output_type": "execute_result"
    }
   ],
   "source": [
    "import re\n",
    "\n",
    "url_phishings_2 = list(map(str.strip, open('domain_phishings.txt').readlines()))\n",
    "p = re.compile(r'(.+?://[^/]+?)\\./(.+)')\n",
    "\n",
    "url_phishings_3 = []\n",
    "for url in url_phishings_2:\n",
    "    if p.match(url):\n",
    "        url = p.sub(r'\\1/\\2', url)\n",
    "    url_phishings_3.append(url)\n",
    "\n",
    "len(url_phishings_3)"
   ]
  },
  {
   "cell_type": "code",
   "execution_count": 13,
   "metadata": {},
   "outputs": [
    {
     "data": {
      "text/plain": [
       "49228"
      ]
     },
     "execution_count": 13,
     "metadata": {},
     "output_type": "execute_result"
    }
   ],
   "source": [
    "import re\n",
    "\n",
    "url_legitimates_2 = list(map(str.strip, open('domain_legitimates.txt').readlines()))\n",
    "p = re.compile(r'(.+?://[^/]+?)\\./(.+)')\n",
    "\n",
    "url_legitimates_3 = []\n",
    "for url in url_legitimates_2:\n",
    "    if p.match(url):\n",
    "        url = p.sub(r'\\1/\\2', url)\n",
    "    url_legitimates_3.append(url)\n",
    "\n",
    "len(url_legitimates_3)"
   ]
  },
  {
   "cell_type": "code",
   "execution_count": 14,
   "metadata": {},
   "outputs": [
    {
     "data": {
      "text/plain": [
       "5866649"
      ]
     },
     "execution_count": 14,
     "metadata": {},
     "output_type": "execute_result"
    }
   ],
   "source": [
    "open('domain_legitimates.txt', 'w').write('\\n'.join(url_legitimates_3))\n",
    "open('domain_phishings.txt', 'w').write('\\n'.join(url_phishings_3))"
   ]
  },
  {
   "cell_type": "code",
   "execution_count": null,
   "metadata": {},
   "outputs": [],
   "source": []
  }
 ],
 "metadata": {
  "kernelspec": {
   "display_name": "Python 3",
   "language": "python",
   "name": "python3"
  },
  "language_info": {
   "codemirror_mode": {
    "name": "ipython",
    "version": 3
   },
   "file_extension": ".py",
   "mimetype": "text/x-python",
   "name": "python",
   "nbconvert_exporter": "python",
   "pygments_lexer": "ipython3",
   "version": "3.6.9"
  }
 },
 "nbformat": 4,
 "nbformat_minor": 4
}
