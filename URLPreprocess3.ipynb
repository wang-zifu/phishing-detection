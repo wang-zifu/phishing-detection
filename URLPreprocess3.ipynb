{
 "cells": [
  {
   "cell_type": "code",
   "execution_count": 4,
   "metadata": {},
   "outputs": [],
   "source": [
    "import re\n",
    "from pathlib import Path\n",
    "\n",
    "import numpy as np\n",
    "import pandas as pd\n",
    "import pyprind\n",
    "import yarl"
   ]
  },
  {
   "cell_type": "code",
   "execution_count": 5,
   "metadata": {},
   "outputs": [],
   "source": [
    "data_path = Path('data')"
   ]
  },
  {
   "cell_type": "markdown",
   "metadata": {},
   "source": [
    "### Benign"
   ]
  },
  {
   "cell_type": "code",
   "execution_count": 6,
   "metadata": {},
   "outputs": [
    {
     "name": "stdout",
     "output_type": "stream",
     "text": [
      "data/2019-03-12-Ebbu/1_csv/benign.csv\n",
      "0          https://www.factset.com/services/portfolio-dat...\n",
      "1          https://www.factset.com/news/2018/9/18/factset...\n",
      "2          http://www.factset.com/insight/2016/08/resolve...\n",
      "3                                     http://www.factset.com\n",
      "4          https://www.factset.com/hubfs/resources%20sect...\n",
      "                                 ...                        \n",
      "2881943    https://www.insidesecure.com/products/silicon-...\n",
      "2881944    https://www.insidesecure.com/content/download/...\n",
      "2881945    https://www.insidesecure.com/company/offices/f...\n",
      "2881946    https://www.insidesecure.com/company/press-rel...\n",
      "2881947    https://www.insidesecure.com/company/press-rel...\n",
      "Name: url, Length: 2881948, dtype: object\n",
      "\n",
      "data/2016-09-21-ISCX-URL-2016/1_csv/benign.csv\n",
      "0        http://1337x.to/torrent/1048648/American-Snipe...\n",
      "1        http://1337x.to/torrent/1110018/Blackhat-2015-...\n",
      "2        http://1337x.to/torrent/1122940/Blackhat-2015-...\n",
      "3        http://1337x.to/torrent/1124395/Fast-and-Furio...\n",
      "4        http://1337x.to/torrent/1145504/Avengers-Age-o...\n",
      "                               ...                        \n",
      "35373    https://lastpass.com/signup2.php?ac=1&from_uri...\n",
      "35374    https://lastpass.com/signup2.php?ac=1&from_uri...\n",
      "35375    https://lastpass.com/signup2.php?ac=1&from_uri...\n",
      "35376    https://lastpass.com/signup2.php?ac=1&from_uri...\n",
      "35377    https://asana.com/guide/videos/%22//fast.wisti...\n",
      "Name: url, Length: 35378, dtype: object\n",
      "\n",
      "data/2017-03-17-DMOZ/1_csv/benign.csv\n",
      "0                                        http://www.awn.com/\n",
      "1                                http://animation.about.com/\n",
      "2                                  http://www.toonhound.com/\n",
      "3          http://www.digitalmediafx.com/Features/animati...\n",
      "4                            http://www.animated-divots.net/\n",
      "                                 ...                        \n",
      "3573021                               http://www.tebabat.cn/\n",
      "3573022                             http://www.xjtsnews.com/\n",
      "3573023                                  http://www.rfa.org/\n",
      "3573024                             http://www.uygurlar.org/\n",
      "3573025                           http://www.istiqlaltv.com/\n",
      "Name: url, Length: 3573026, dtype: object\n",
      "\n",
      "data/2017-11-27-Malicious_n_Non-Malicious/1_csv/benign.csv\n",
      "0                                                01453.com/\n",
      "1                     015fb31.netsolhost.com/bosstweed.html\n",
      "2                   02bee66.netsolhost.com/lincolnhomepage/\n",
      "3         02ec0a3.netsolhost.com/getperson.php?personID=...\n",
      "4                                               032255.com/\n",
      "                                ...                        \n",
      "344816    youthleaguesusa.com/potomacsoccer/2011/Tournam...\n",
      "344817                                       zip-codes.com/\n",
      "344818                      owens.edu/news-releases/?p=2052\n",
      "344819        1.safesecureweb.com/egale/index.asp?item=1173\n",
      "344820                 yurika.otakuthon.com/reg/main.pl/en/\n",
      "Name: url, Length: 344821, dtype: object\n",
      "\n",
      "data/2018-04-23-Ebbu2017/1_csv/benign.csv\n",
      "0        http://www.conceptdraw.com/How-To-Guide/Local-...\n",
      "1         https://www.edrawsoft.com/Local-Area-Network.php\n",
      "2        http://www.webopedia.com/TERM/L/local_area_net...\n",
      "3            https://www.acsac.org/secshelf/book001/16.pdf\n",
      "4              http://www.diffen.com/difference/LAN_vs_WAN\n",
      "                               ...                        \n",
      "36395    http://www.bingapis.com/images/search?q=OSI+Mo...\n",
      "36396    http://www.meltinfo.com/xls/osi-model-acronym-...\n",
      "36397    http://search.yahoo.com/tablet/s?p=7+layers+of...\n",
      "36398                  http://quiz2play.com/osi-model-quiz\n",
      "36399             http://www.webopedia.com/TERM/O/OSI.html\n",
      "Name: url, Length: 36400, dtype: object\n",
      "\n"
     ]
    }
   ],
   "source": [
    "urls = pd.Series()\n",
    "for csv_path in data_path.glob('*/1_csv/benign.csv'):\n",
    "    df = pd.read_csv(csv_path)\n",
    "    print(csv_path)\n",
    "    print(repr(df.url), end='\\n\\n')\n",
    "    urls = pd.concat([urls, df.url], ignore_index=True)"
   ]
  },
  {
   "cell_type": "code",
   "execution_count": 7,
   "metadata": {},
   "outputs": [
    {
     "data": {
      "text/plain": [
       "0                                          0.csueastbay.edu/\n",
       "1                                           0.dacafe.com/IP/\n",
       "2                     0.statcan.ca/l01/cst01/educ53a-eng.htm\n",
       "3                  0.statcan.gc.ca/l01/cst01/educ54a-eng.htm\n",
       "4                                            0123456789.biz/\n",
       "                                 ...                        \n",
       "6488901                                 zzjy.en.alibaba.com/\n",
       "6488902        zzmaster.best.vwh.net/SF/nolan_william_f.html\n",
       "6488903    zzounds.com/cat--Bass-Guitars-Amps-and-Effects...\n",
       "6488904                             zzyulong.en.alibaba.com/\n",
       "6488905    zzzyvasmusicroom.blogspot.com/2009/03/maureen-...\n",
       "Length: 6488906, dtype: object"
      ]
     },
     "execution_count": 7,
     "metadata": {},
     "output_type": "execute_result"
    }
   ],
   "source": [
    "urls.drop_duplicates(inplace=True)\n",
    "urls.sort_values(inplace=True, ignore_index=True)\n",
    "urls.reset_index(inplace=True, drop=True)\n",
    "urls"
   ]
  },
  {
   "cell_type": "code",
   "execution_count": 24,
   "metadata": {},
   "outputs": [
    {
     "ename": "KeyboardInterrupt",
     "evalue": "",
     "output_type": "error",
     "traceback": [
      "\u001b[0;31m\u001b[0m",
      "\u001b[0;31mKeyboardInterrupt\u001b[0mTraceback (most recent call last)",
      "\u001b[0;32m<ipython-input-24-312d7395c56e>\u001b[0m in \u001b[0;36m<module>\u001b[0;34m\u001b[0m\n\u001b[1;32m     45\u001b[0m  \u001b[0;34m'sherlock://www.xmldatabases.org/projects/GoogleSearch/Channel.xml'\u001b[0m\u001b[0;34m\u001b[0m\u001b[0;34m\u001b[0m\u001b[0m\n\u001b[1;32m     46\u001b[0m ]:\n\u001b[0;32m---> 47\u001b[0;31m     \u001b[0murls\u001b[0m \u001b[0;34m=\u001b[0m \u001b[0murls\u001b[0m\u001b[0;34m[\u001b[0m\u001b[0murls\u001b[0m \u001b[0;34m!=\u001b[0m \u001b[0mu\u001b[0m\u001b[0;34m]\u001b[0m\u001b[0;34m\u001b[0m\u001b[0;34m\u001b[0m\u001b[0m\n\u001b[0m",
      "\u001b[0;32m/usr/local/lib/python3.6/dist-packages/pandas/core/ops/common.py\u001b[0m in \u001b[0;36mnew_method\u001b[0;34m(self, other)\u001b[0m\n\u001b[1;32m     62\u001b[0m         \u001b[0mother\u001b[0m \u001b[0;34m=\u001b[0m \u001b[0mitem_from_zerodim\u001b[0m\u001b[0;34m(\u001b[0m\u001b[0mother\u001b[0m\u001b[0;34m)\u001b[0m\u001b[0;34m\u001b[0m\u001b[0;34m\u001b[0m\u001b[0m\n\u001b[1;32m     63\u001b[0m \u001b[0;34m\u001b[0m\u001b[0m\n\u001b[0;32m---> 64\u001b[0;31m         \u001b[0;32mreturn\u001b[0m \u001b[0mmethod\u001b[0m\u001b[0;34m(\u001b[0m\u001b[0mself\u001b[0m\u001b[0;34m,\u001b[0m \u001b[0mother\u001b[0m\u001b[0;34m)\u001b[0m\u001b[0;34m\u001b[0m\u001b[0;34m\u001b[0m\u001b[0m\n\u001b[0m\u001b[1;32m     65\u001b[0m \u001b[0;34m\u001b[0m\u001b[0m\n\u001b[1;32m     66\u001b[0m     \u001b[0;32mreturn\u001b[0m \u001b[0mnew_method\u001b[0m\u001b[0;34m\u001b[0m\u001b[0;34m\u001b[0m\u001b[0m\n",
      "\u001b[0;32m/usr/local/lib/python3.6/dist-packages/pandas/core/ops/__init__.py\u001b[0m in \u001b[0;36mwrapper\u001b[0;34m(self, other)\u001b[0m\n\u001b[1;32m    524\u001b[0m         \u001b[0mrvalues\u001b[0m \u001b[0;34m=\u001b[0m \u001b[0mextract_array\u001b[0m\u001b[0;34m(\u001b[0m\u001b[0mother\u001b[0m\u001b[0;34m,\u001b[0m \u001b[0mextract_numpy\u001b[0m\u001b[0;34m=\u001b[0m\u001b[0;32mTrue\u001b[0m\u001b[0;34m)\u001b[0m\u001b[0;34m\u001b[0m\u001b[0;34m\u001b[0m\u001b[0m\n\u001b[1;32m    525\u001b[0m \u001b[0;34m\u001b[0m\u001b[0m\n\u001b[0;32m--> 526\u001b[0;31m         \u001b[0mres_values\u001b[0m \u001b[0;34m=\u001b[0m \u001b[0mcomparison_op\u001b[0m\u001b[0;34m(\u001b[0m\u001b[0mlvalues\u001b[0m\u001b[0;34m,\u001b[0m \u001b[0mrvalues\u001b[0m\u001b[0;34m,\u001b[0m \u001b[0mop\u001b[0m\u001b[0;34m)\u001b[0m\u001b[0;34m\u001b[0m\u001b[0;34m\u001b[0m\u001b[0m\n\u001b[0m\u001b[1;32m    527\u001b[0m \u001b[0;34m\u001b[0m\u001b[0m\n\u001b[1;32m    528\u001b[0m         \u001b[0;32mreturn\u001b[0m \u001b[0m_construct_result\u001b[0m\u001b[0;34m(\u001b[0m\u001b[0mself\u001b[0m\u001b[0;34m,\u001b[0m \u001b[0mres_values\u001b[0m\u001b[0;34m,\u001b[0m \u001b[0mindex\u001b[0m\u001b[0;34m=\u001b[0m\u001b[0mself\u001b[0m\u001b[0;34m.\u001b[0m\u001b[0mindex\u001b[0m\u001b[0;34m,\u001b[0m \u001b[0mname\u001b[0m\u001b[0;34m=\u001b[0m\u001b[0mres_name\u001b[0m\u001b[0;34m)\u001b[0m\u001b[0;34m\u001b[0m\u001b[0;34m\u001b[0m\u001b[0m\n",
      "\u001b[0;32m/usr/local/lib/python3.6/dist-packages/pandas/core/ops/array_ops.py\u001b[0m in \u001b[0;36mcomparison_op\u001b[0;34m(left, right, op)\u001b[0m\n\u001b[1;32m    245\u001b[0m \u001b[0;34m\u001b[0m\u001b[0m\n\u001b[1;32m    246\u001b[0m     \u001b[0;32melif\u001b[0m \u001b[0mis_object_dtype\u001b[0m\u001b[0;34m(\u001b[0m\u001b[0mlvalues\u001b[0m\u001b[0;34m.\u001b[0m\u001b[0mdtype\u001b[0m\u001b[0;34m)\u001b[0m\u001b[0;34m:\u001b[0m\u001b[0;34m\u001b[0m\u001b[0;34m\u001b[0m\u001b[0m\n\u001b[0;32m--> 247\u001b[0;31m         \u001b[0mres_values\u001b[0m \u001b[0;34m=\u001b[0m \u001b[0mcomp_method_OBJECT_ARRAY\u001b[0m\u001b[0;34m(\u001b[0m\u001b[0mop\u001b[0m\u001b[0;34m,\u001b[0m \u001b[0mlvalues\u001b[0m\u001b[0;34m,\u001b[0m \u001b[0mrvalues\u001b[0m\u001b[0;34m)\u001b[0m\u001b[0;34m\u001b[0m\u001b[0;34m\u001b[0m\u001b[0m\n\u001b[0m\u001b[1;32m    248\u001b[0m \u001b[0;34m\u001b[0m\u001b[0m\n\u001b[1;32m    249\u001b[0m     \u001b[0;32melse\u001b[0m\u001b[0;34m:\u001b[0m\u001b[0;34m\u001b[0m\u001b[0;34m\u001b[0m\u001b[0m\n",
      "\u001b[0;32m/usr/local/lib/python3.6/dist-packages/pandas/core/ops/array_ops.py\u001b[0m in \u001b[0;36mcomp_method_OBJECT_ARRAY\u001b[0;34m(op, x, y)\u001b[0m\n\u001b[1;32m     55\u001b[0m         \u001b[0mresult\u001b[0m \u001b[0;34m=\u001b[0m \u001b[0mlibops\u001b[0m\u001b[0;34m.\u001b[0m\u001b[0mvec_compare\u001b[0m\u001b[0;34m(\u001b[0m\u001b[0mx\u001b[0m\u001b[0;34m.\u001b[0m\u001b[0mravel\u001b[0m\u001b[0;34m(\u001b[0m\u001b[0;34m)\u001b[0m\u001b[0;34m,\u001b[0m \u001b[0my\u001b[0m\u001b[0;34m,\u001b[0m \u001b[0mop\u001b[0m\u001b[0;34m)\u001b[0m\u001b[0;34m\u001b[0m\u001b[0;34m\u001b[0m\u001b[0m\n\u001b[1;32m     56\u001b[0m     \u001b[0;32melse\u001b[0m\u001b[0;34m:\u001b[0m\u001b[0;34m\u001b[0m\u001b[0;34m\u001b[0m\u001b[0m\n\u001b[0;32m---> 57\u001b[0;31m         \u001b[0mresult\u001b[0m \u001b[0;34m=\u001b[0m \u001b[0mlibops\u001b[0m\u001b[0;34m.\u001b[0m\u001b[0mscalar_compare\u001b[0m\u001b[0;34m(\u001b[0m\u001b[0mx\u001b[0m\u001b[0;34m.\u001b[0m\u001b[0mravel\u001b[0m\u001b[0;34m(\u001b[0m\u001b[0;34m)\u001b[0m\u001b[0;34m,\u001b[0m \u001b[0my\u001b[0m\u001b[0;34m,\u001b[0m \u001b[0mop\u001b[0m\u001b[0;34m)\u001b[0m\u001b[0;34m\u001b[0m\u001b[0;34m\u001b[0m\u001b[0m\n\u001b[0m\u001b[1;32m     58\u001b[0m     \u001b[0;32mreturn\u001b[0m \u001b[0mresult\u001b[0m\u001b[0;34m.\u001b[0m\u001b[0mreshape\u001b[0m\u001b[0;34m(\u001b[0m\u001b[0mx\u001b[0m\u001b[0;34m.\u001b[0m\u001b[0mshape\u001b[0m\u001b[0;34m)\u001b[0m\u001b[0;34m\u001b[0m\u001b[0;34m\u001b[0m\u001b[0m\n\u001b[1;32m     59\u001b[0m \u001b[0;34m\u001b[0m\u001b[0m\n",
      "\u001b[0;31mKeyboardInterrupt\u001b[0m: "
     ]
    }
   ],
   "source": [
    "for u in [\n",
    " 'gopher://gdead.berkeley.edu/',\n",
    " 'gopher://gdead.berkeley.edu/11/set-lists/',\n",
    " 'gopher://gopher.floodgap.com/',\n",
    " 'gopher://gopher.floodgap.com/1/buck',\n",
    " 'gopher://gopher.quux.org/1',\n",
    " 'gopher://gopher.quux.org/1/Archives/usenet-a-news',\n",
    " 'gopher://gopher.r-36.net/',\n",
    " 'gopher://gopher.std.com/1',\n",
    " 'gopher://moo.ca/',\n",
    " 'gopher://port70.net/',\n",
    " 'gopher://quix.us/',\n",
    " 'gopher://quux.org/',\n",
    " 'gopher://sdf.lonestar.org/',\n",
    " 'gopher://sipb.mit.edu/',\n",
    " 'gopher://vert.synchro.net/']:\n",
    "    urls = urls[urls != u]"
   ]
  },
  {
   "cell_type": "code",
   "execution_count": 27,
   "metadata": {},
   "outputs": [
    {
     "name": "stdout",
     "output_type": "stream",
     "text": [
      "hr/wwwhr/business/electronic/companies/index.en.html\n",
      "http://Royal%20City%20Ambassadors/\n",
      "http://Royal%20City%20Ambassadors/\n",
      "http://\\\\www.eldiarioalerta.com/\n",
      "http://\\http/www.census.gov/quickfacts/table/PST045216/21155,21153,00\n",
      "http://\\http/www.census.gov/quickfacts/table/PST045216/21155,21153,00\n",
      "http://https/ballotpedia.org/Missouri's_6th_congressional_district_elections,_2014\n",
      "http://soges-tech/\n",
      "http://www.%20xn--wirtshaus-mittelmhle-5ec.%20de/\n",
      "http://www.s%c3%bctterlinstube.de/\n",
      "http://xn--%20-6ea7f98xda2arjg0cif9c4i/\n",
      "http://xn--%20-6ea7f98xda2arjg0cif9c4i/\n",
      "sherlock://abovecalifornia.com/sherlock/LVL/SherlockChannel.xml\n",
      "sherlock://abovecalifornia.com/sherlock/NSN/SherlockChannel.xml\n",
      "sherlock://bman.gotdns.com/Astrology/Astrology.xml\n",
      "sherlock://bman.gotdns.com/BassTabs/BassTabs.xml\n",
      "sherlock://bman.gotdns.com/Lyrics/Lyrics.xml\n",
      "sherlock://bman.gotdns.com/Tabs/Tabs.xml\n",
      "sherlock://bman.gotdns.com/Traffic/Traffic.xml\n",
      "sherlock://bman.gotdns.com/macUpdate/macUpdate.xml\n",
      "sherlock://homepage.mac.com/coty/Sherlock/FedexChannel/SherlockChannel.xml\n",
      "sherlock://homepage.mac.com/denboer/WorldNews.xml\n",
      "sherlock://homepage.mac.com/larryl/compass/SherlockChannel.xml\n",
      "sherlock://homepage.ntlworld.com/b.hilken/SherlockChannels/UKBooks/UKBooks.xml\n",
      "sherlock://sherlock.artfind.co.nz/SherlockChannel.xml\n",
      "sherlock://sherlock.clan-mac.com/channels/macosxhints/SherlockChannel.xml\n",
      "sherlock://si.info.apple.com/sherlock3s/channels/pathFinder.xml\n",
      "sherlock://si.info.apple.com/sherlock3s/channels/yellowPages.xml\n",
      "sherlock://www.abovecalifornia.com/sherlock/SherlockChannel.xml\n",
      "sherlock://www.abovecalifornia.com/sherlock/earthquake/SherlockChannel.xml\n",
      "sherlock://www.dotmac.info/sherlock/SherlockChannel.xml\n",
      "sherlock://www.fitl.f2s.com/sherlock_channels/apod/Apod.xml\n",
      "sherlock://www.fitl.f2s.com/sherlock_channels/londonjamcams/JamCams.xml\n",
      "sherlock://www.orque.com/sherlock/gutenberg/SherlockChannel.xml\n",
      "sherlock://www.streetwise.com.au/sherlock/StoreSearch.xml\n",
      "sherlock://www.thauvin.net/erik/download/SherlockRSS/SherlockRSS.xml\n",
      "sherlock://www.thomasdingler.de/sherlock/TVChannel/channel.xml\n",
      "sherlock://www.thomasdingler.de/sherlock/heiseChannel/SherlockChannel.xml\n",
      "sherlock://www.trufsoft.com/Calillona/Channel/Calillona.xml\n",
      "sherlock://www.versiontracker.com/sherlock/VersionTrackerChannel.xml\n",
      "sherlock://www.xmldatabases.org/projects/GoogleSearch/Channel.xml\n"
     ]
    }
   ],
   "source": [
    "for u in ['hr/wwwhr/business/electronic/companies/index.en.html',\n",
    " 'http://Royal%20City%20Ambassadors/',\n",
    " 'http://Royal%20City%20Ambassadors/',\n",
    " 'http://\\\\\\\\www.eldiarioalerta.com/',\n",
    " 'http://\\\\http/www.census.gov/quickfacts/table/PST045216/21155,21153,00',\n",
    " 'http://\\\\http/www.census.gov/quickfacts/table/PST045216/21155,21153,00',\n",
    " \"http://https/ballotpedia.org/Missouri's_6th_congressional_district_elections,_2014\",\n",
    " 'http://soges-tech/',\n",
    " 'http://www.%20xn--wirtshaus-mittelmhle-5ec.%20de/',\n",
    " 'http://www.s%c3%bctterlinstube.de/',\n",
    " 'http://xn--%20-6ea7f98xda2arjg0cif9c4i/',\n",
    " 'http://xn--%20-6ea7f98xda2arjg0cif9c4i/',\n",
    " 'sherlock://abovecalifornia.com/sherlock/LVL/SherlockChannel.xml',\n",
    " 'sherlock://abovecalifornia.com/sherlock/NSN/SherlockChannel.xml',\n",
    " 'sherlock://bman.gotdns.com/Astrology/Astrology.xml',\n",
    " 'sherlock://bman.gotdns.com/BassTabs/BassTabs.xml',\n",
    " 'sherlock://bman.gotdns.com/Lyrics/Lyrics.xml',\n",
    " 'sherlock://bman.gotdns.com/Tabs/Tabs.xml',\n",
    " 'sherlock://bman.gotdns.com/Traffic/Traffic.xml',\n",
    " 'sherlock://bman.gotdns.com/macUpdate/macUpdate.xml',\n",
    " 'sherlock://homepage.mac.com/coty/Sherlock/FedexChannel/SherlockChannel.xml',\n",
    " 'sherlock://homepage.mac.com/denboer/WorldNews.xml',\n",
    " 'sherlock://homepage.mac.com/larryl/compass/SherlockChannel.xml',\n",
    " 'sherlock://homepage.ntlworld.com/b.hilken/SherlockChannels/UKBooks/UKBooks.xml',\n",
    " 'sherlock://sherlock.artfind.co.nz/SherlockChannel.xml',\n",
    " 'sherlock://sherlock.clan-mac.com/channels/macosxhints/SherlockChannel.xml',\n",
    " 'sherlock://si.info.apple.com/sherlock3s/channels/pathFinder.xml',\n",
    " 'sherlock://si.info.apple.com/sherlock3s/channels/yellowPages.xml',\n",
    " 'sherlock://www.abovecalifornia.com/sherlock/SherlockChannel.xml',\n",
    " 'sherlock://www.abovecalifornia.com/sherlock/earthquake/SherlockChannel.xml',\n",
    " 'sherlock://www.dotmac.info/sherlock/SherlockChannel.xml',\n",
    " 'sherlock://www.fitl.f2s.com/sherlock_channels/apod/Apod.xml',\n",
    " 'sherlock://www.fitl.f2s.com/sherlock_channels/londonjamcams/JamCams.xml',\n",
    " 'sherlock://www.orque.com/sherlock/gutenberg/SherlockChannel.xml',\n",
    " 'sherlock://www.streetwise.com.au/sherlock/StoreSearch.xml',\n",
    " 'sherlock://www.thauvin.net/erik/download/SherlockRSS/SherlockRSS.xml',\n",
    " 'sherlock://www.thomasdingler.de/sherlock/TVChannel/channel.xml',\n",
    " 'sherlock://www.thomasdingler.de/sherlock/heiseChannel/SherlockChannel.xml',\n",
    " 'sherlock://www.trufsoft.com/Calillona/Channel/Calillona.xml',\n",
    " 'sherlock://www.versiontracker.com/sherlock/VersionTrackerChannel.xml',\n",
    " 'sherlock://www.xmldatabases.org/projects/GoogleSearch/Channel.xml']:\n",
    "    urls = urls[urls != u]"
   ]
  },
  {
   "cell_type": "code",
   "execution_count": 25,
   "metadata": {},
   "outputs": [
    {
     "name": "stderr",
     "output_type": "stream",
     "text": [
      "0% [#                                                           ] 100% | ETA: 00:03:52"
     ]
    },
    {
     "name": "stdout",
     "output_type": "stream",
     "text": [
      "dot: hr/wwwhr/business/electronic/companies/index.en.html\n",
      "mat: http://Royal%20City%20Ambassadors/\n",
      "dot: http://Royal%20City%20Ambassadors/\n",
      "mat: http://\\\\www.eldiarioalerta.com/\n",
      "mat: http://\\http/www.census.gov/quickfacts/table/PST045216/21155,21153,00\n",
      "dot: http://\\http/www.census.gov/quickfacts/table/PST045216/21155,21153,00\n"
     ]
    },
    {
     "name": "stderr",
     "output_type": "stream",
     "text": [
      "0% [#####                                                       ] 100% | ETA: 00:03:32"
     ]
    },
    {
     "name": "stdout",
     "output_type": "stream",
     "text": [
      "dot: http://https/ballotpedia.org/Missouri's_6th_congressional_district_elections,_2014\n"
     ]
    },
    {
     "name": "stderr",
     "output_type": "stream",
     "text": [
      "0% [########                                                    ] 100% | ETA: 00:03:19"
     ]
    },
    {
     "name": "stdout",
     "output_type": "stream",
     "text": [
      "dot: http://soges-tech/\n"
     ]
    },
    {
     "name": "stderr",
     "output_type": "stream",
     "text": [
      "0% [#########                                                   ] 100% | ETA: 00:03:15"
     ]
    },
    {
     "name": "stdout",
     "output_type": "stream",
     "text": [
      "mat: http://www.%20xn--wirtshaus-mittelmhle-5ec.%20de/\n"
     ]
    },
    {
     "name": "stderr",
     "output_type": "stream",
     "text": [
      "0% [################################                            ] 100% | ETA: 00:01:47"
     ]
    },
    {
     "name": "stdout",
     "output_type": "stream",
     "text": [
      "mat: http://www.s%c3%bctterlinstube.de/\n"
     ]
    },
    {
     "name": "stderr",
     "output_type": "stream",
     "text": [
      "0% [#######################################                     ] 100% | ETA: 00:01:20"
     ]
    },
    {
     "name": "stdout",
     "output_type": "stream",
     "text": [
      "mat: http://xn--%20-6ea7f98xda2arjg0cif9c4i/\n",
      "dot: http://xn--%20-6ea7f98xda2arjg0cif9c4i/\n"
     ]
    },
    {
     "name": "stderr",
     "output_type": "stream",
     "text": [
      "0% [########################################################### ] 100% | ETA: 00:00:03"
     ]
    },
    {
     "name": "stdout",
     "output_type": "stream",
     "text": [
      "sch: sherlock://abovecalifornia.com/sherlock/LVL/SherlockChannel.xml\n",
      "dot: sherlock://abovecalifornia.com/sherlock/LVL/SherlockChannel.xml\n",
      "sch: sherlock://abovecalifornia.com/sherlock/NSN/SherlockChannel.xml\n",
      "dot: sherlock://abovecalifornia.com/sherlock/NSN/SherlockChannel.xml\n",
      "sch: sherlock://bman.gotdns.com/Astrology/Astrology.xml\n",
      "dot: sherlock://bman.gotdns.com/Astrology/Astrology.xml\n",
      "sch: sherlock://bman.gotdns.com/BassTabs/BassTabs.xml\n",
      "dot: sherlock://bman.gotdns.com/BassTabs/BassTabs.xml\n",
      "sch: sherlock://bman.gotdns.com/Lyrics/Lyrics.xml\n",
      "dot: sherlock://bman.gotdns.com/Lyrics/Lyrics.xml\n",
      "sch: sherlock://bman.gotdns.com/Tabs/Tabs.xml\n",
      "dot: sherlock://bman.gotdns.com/Tabs/Tabs.xml\n",
      "sch: sherlock://bman.gotdns.com/Traffic/Traffic.xml\n",
      "dot: sherlock://bman.gotdns.com/Traffic/Traffic.xml\n",
      "sch: sherlock://bman.gotdns.com/macUpdate/macUpdate.xml\n",
      "dot: sherlock://bman.gotdns.com/macUpdate/macUpdate.xml\n",
      "sch: sherlock://homepage.mac.com/coty/Sherlock/FedexChannel/SherlockChannel.xml\n",
      "dot: sherlock://homepage.mac.com/coty/Sherlock/FedexChannel/SherlockChannel.xml\n",
      "sch: sherlock://homepage.mac.com/denboer/WorldNews.xml\n",
      "dot: sherlock://homepage.mac.com/denboer/WorldNews.xml\n",
      "sch: sherlock://homepage.mac.com/larryl/compass/SherlockChannel.xml\n",
      "dot: sherlock://homepage.mac.com/larryl/compass/SherlockChannel.xml\n",
      "sch: sherlock://homepage.ntlworld.com/b.hilken/SherlockChannels/UKBooks/UKBooks.xml\n",
      "dot: sherlock://homepage.ntlworld.com/b.hilken/SherlockChannels/UKBooks/UKBooks.xml\n",
      "sch: sherlock://sherlock.artfind.co.nz/SherlockChannel.xml\n",
      "dot: sherlock://sherlock.artfind.co.nz/SherlockChannel.xml\n",
      "sch: sherlock://sherlock.clan-mac.com/channels/macosxhints/SherlockChannel.xml\n",
      "dot: sherlock://sherlock.clan-mac.com/channels/macosxhints/SherlockChannel.xml\n",
      "sch: sherlock://si.info.apple.com/sherlock3s/channels/pathFinder.xml\n",
      "dot: sherlock://si.info.apple.com/sherlock3s/channels/pathFinder.xml\n",
      "sch: sherlock://si.info.apple.com/sherlock3s/channels/yellowPages.xml\n",
      "dot: sherlock://si.info.apple.com/sherlock3s/channels/yellowPages.xml\n",
      "sch: sherlock://www.abovecalifornia.com/sherlock/SherlockChannel.xml\n",
      "dot: sherlock://www.abovecalifornia.com/sherlock/SherlockChannel.xml\n",
      "sch: sherlock://www.abovecalifornia.com/sherlock/earthquake/SherlockChannel.xml\n",
      "dot: sherlock://www.abovecalifornia.com/sherlock/earthquake/SherlockChannel.xml\n",
      "sch: sherlock://www.dotmac.info/sherlock/SherlockChannel.xml\n",
      "dot: sherlock://www.dotmac.info/sherlock/SherlockChannel.xml\n",
      "sch: sherlock://www.fitl.f2s.com/sherlock_channels/apod/Apod.xml\n",
      "dot: sherlock://www.fitl.f2s.com/sherlock_channels/apod/Apod.xml\n",
      "sch: sherlock://www.fitl.f2s.com/sherlock_channels/londonjamcams/JamCams.xml\n",
      "dot: sherlock://www.fitl.f2s.com/sherlock_channels/londonjamcams/JamCams.xml\n",
      "sch: sherlock://www.orque.com/sherlock/gutenberg/SherlockChannel.xml\n",
      "dot: sherlock://www.orque.com/sherlock/gutenberg/SherlockChannel.xml\n",
      "sch: sherlock://www.streetwise.com.au/sherlock/StoreSearch.xml\n",
      "dot: sherlock://www.streetwise.com.au/sherlock/StoreSearch.xml\n",
      "sch: sherlock://www.thauvin.net/erik/download/SherlockRSS/SherlockRSS.xml\n",
      "dot: sherlock://www.thauvin.net/erik/download/SherlockRSS/SherlockRSS.xml\n",
      "sch: sherlock://www.thomasdingler.de/sherlock/TVChannel/channel.xml\n",
      "dot: sherlock://www.thomasdingler.de/sherlock/TVChannel/channel.xml\n",
      "sch: sherlock://www.thomasdingler.de/sherlock/heiseChannel/SherlockChannel.xml\n",
      "dot: sherlock://www.thomasdingler.de/sherlock/heiseChannel/SherlockChannel.xml\n",
      "sch: sherlock://www.trufsoft.com/Calillona/Channel/Calillona.xml\n",
      "dot: sherlock://www.trufsoft.com/Calillona/Channel/Calillona.xml\n",
      "sch: sherlock://www.versiontracker.com/sherlock/VersionTrackerChannel.xml\n",
      "dot: sherlock://www.versiontracker.com/sherlock/VersionTrackerChannel.xml\n",
      "sch: sherlock://www.xmldatabases.org/projects/GoogleSearch/Channel.xml\n",
      "dot: sherlock://www.xmldatabases.org/projects/GoogleSearch/Channel.xml\n"
     ]
    },
    {
     "name": "stderr",
     "output_type": "stream",
     "text": [
      "0% [############################################################] 100% | ETA: 00:00:00\n",
      "Total time elapsed: 00:03:57\n"
     ]
    }
   ],
   "source": [
    "ts = []\n",
    "p = re.compile(r'^[.\\w-]+$')\n",
    "bar = pyprind.ProgBar(len(urls), width=60)\n",
    "\n",
    "for i, url in urls.iteritems():\n",
    "    bar.update()\n",
    "    url_orig = url\n",
    "\n",
    "    if not (url.startswith('http://') or url.startswith('https://') or url.startswith('ftp://')):\n",
    "        if '://' in url:\n",
    "            print('sch:', url)\n",
    "        url = 'http://%s' % url.strip()\n",
    "\n",
    "    y = yarl.URL(url)\n",
    "    if not y.is_absolute():\n",
    "        ts.append(url_orig)\n",
    "        print('abs:', url_orig)\n",
    "\n",
    "    if not p.match(y.raw_host):\n",
    "        ts.append(url_orig)\n",
    "        print('mat:', url_orig)\n",
    "\n",
    "    if '.' not in y.raw_host:\n",
    "        ts.append(url_orig)\n",
    "        print('dot:', url_orig)\n",
    "\n",
    "    if not y.path and not y.params and not y.query and not y.fragment:\n",
    "        ts.append(url_orig)\n",
    "        print('pat:', url_orig)"
   ]
  },
  {
   "cell_type": "code",
   "execution_count": 28,
   "metadata": {},
   "outputs": [],
   "source": [
    "df = pd.DataFrame(urls, columns=['url'])\n",
    "df.to_csv('data/merged/benign.csv', index=False)"
   ]
  },
  {
   "cell_type": "markdown",
   "metadata": {},
   "source": [
    "### Phish"
   ]
  },
  {
   "cell_type": "code",
   "execution_count": 31,
   "metadata": {},
   "outputs": [
    {
     "name": "stderr",
     "output_type": "stream",
     "text": [
      "/usr/local/lib/python3.6/dist-packages/ipykernel_launcher.py:1: DeprecationWarning: The default dtype for empty Series will be 'object' instead of 'float64' in a future version. Specify a dtype explicitly to silence this warning.\n",
      "  \"\"\"Entry point for launching an IPython kernel.\n"
     ]
    },
    {
     "name": "stdout",
     "output_type": "stream",
     "text": [
      "data/2019-03-12-Ebbu/1_csv/phishing.csv\n",
      "0          http://cornerstone-baptist-church.com/images/_...\n",
      "1          http://apolomultimedia.com/nhs/cx/bancofalabel...\n",
      "2          http://50.97.105.177/~asfaf639/cielo-fidelidad...\n",
      "3          http://cronatech.com/clientdetailcss/google/in...\n",
      "4          http://hotforex.com.vn/wp-admin/user/google/in...\n",
      "                                 ...                        \n",
      "2320756            http://allbuyu.com/po/qsaporder/index.php\n",
      "2320757    http://www.prismaweb.us/wp-includes/SimplePie/...\n",
      "2320758    http://www.shelllubsdistportal.com/.https/cont...\n",
      "2320759    http://brinomedia.se/%20./8735e21ccdb61855c618...\n",
      "2320760    http://www.bubifood.hu/media/com_jnews/ogbchdr...\n",
      "Name: url, Length: 2320761, dtype: object\n",
      "\n",
      "data/2016-09-21-ISCX-URL-2016/1_csv/phishing.csv\n",
      "0       http://v2.email-marketing.adminsimple.com/trac...\n",
      "1       http://bid.openx.net/json?amp;amp;amp;amp;cid;...\n",
      "2       http://webmail2.centurytel.net/hwebmail/servic...\n",
      "3       http://www.google.com.ng/imgres?imgurl=http://...\n",
      "4       http://webmail2.centurytel.net/hwebmail/servic...\n",
      "                              ...                        \n",
      "9960                http://highedgesolar.com/nw/includes/\n",
      "9961                http://jimfangimporters.yolasite.com/\n",
      "9962                http://liuheng.chengxuren.com/Images/\n",
      "9963                http://mcnaotempreco.net/site/portal/\n",
      "9964                http://missionaryfilms.org/index.html\n",
      "Name: url, Length: 9965, dtype: object\n",
      "\n",
      "data/2018-04-23-Ebbu2017/1_csv/phishing.csv\n",
      "0                                        apple-iforget.com\n",
      "1                                        safe-id-login.com\n",
      "2        manage.netflix.com.usermanagement.key.1973573....\n",
      "3        manage.netflix.com.usermanagement.key.1973574....\n",
      "4                                       helpplusinfo01.com\n",
      "                               ...                        \n",
      "37170                     http://www.grupolyl.com/slap/GD/\n",
      "37171         http://bcgroup-sa.com/nilalalaa/GD/index.php\n",
      "37172    http://mainepta.org/eme/gm/excel/excel/excel.p...\n",
      "37173    http://support.escola-olivera.org/GOOGLENEWW/G...\n",
      "37174    http://support.escola-olivera.org/GOOGLENEWW/G...\n",
      "Name: url, Length: 37175, dtype: object\n",
      "\n"
     ]
    }
   ],
   "source": [
    "urls = pd.Series()\n",
    "for csv_path in Path('data').glob('*/1_csv/phishing.csv'):\n",
    "    df = pd.read_csv(csv_path)\n",
    "    print(csv_path)\n",
    "    print(repr(df.url), end='\\n\\n')\n",
    "    urls = pd.concat([urls, df.url], ignore_index=True)"
   ]
  },
  {
   "cell_type": "code",
   "execution_count": 32,
   "metadata": {},
   "outputs": [
    {
     "data": {
      "text/plain": [
       "0                       13bmosecure.com\n",
       "1                       34zy2.sljtm.com\n",
       "2            accountverification.online\n",
       "3          apaypal.co/Secure/PP/Paypal/\n",
       "4                  app-findmyiphone.com\n",
       "                       ...             \n",
       "2306933             verifiedaccounts.us\n",
       "2306934                    verifrb2.net\n",
       "2306935        verify-bankofamerica.com\n",
       "2306936              wap-ios-icloud.com\n",
       "2306937            wap-ios10-icloud.com\n",
       "Length: 2306938, dtype: object"
      ]
     },
     "execution_count": 32,
     "metadata": {},
     "output_type": "execute_result"
    }
   ],
   "source": [
    "urls.drop_duplicates(inplace=True)\n",
    "urls.sort_values(inplace=True, ignore_index=True)\n",
    "urls.reset_index(inplace=True, drop=True)\n",
    "urls"
   ]
  },
  {
   "cell_type": "code",
   "execution_count": null,
   "metadata": {},
   "outputs": [],
   "source": [
    "for u in []:\n",
    "    urls = urls[urls != u]"
   ]
  },
  {
   "cell_type": "code",
   "execution_count": 39,
   "metadata": {},
   "outputs": [],
   "source": [
    "urls = urls.apply(lambda url: url.replace('http://http://',\n",
    "                                          'http://'))\n",
    "urls.sort_values(inplace=True, ignore_index=True)\n",
    "urls.reset_index(inplace=True, drop=True)"
   ]
  },
  {
   "cell_type": "code",
   "execution_count": 44,
   "metadata": {},
   "outputs": [
    {
     "name": "stderr",
     "output_type": "stream",
     "text": [
      "0% [############################################################] 100% | ETA: 00:00:00\n",
      "Total time elapsed: 00:01:30\n"
     ]
    }
   ],
   "source": [
    "ts = []\n",
    "p = re.compile(r'^[.\\w-]+$')\n",
    "bar = pyprind.ProgBar(len(urls), width=60)\n",
    "\n",
    "urls2 = []\n",
    "\n",
    "for i, url in urls.iteritems():\n",
    "    bar.update()\n",
    "    url_orig = url\n",
    "\n",
    "    if not (url.startswith('http://') or url.startswith('https://') or url.startswith('ftp://')):\n",
    "        if '://' in url:\n",
    "            print('sch:', url)\n",
    "        url = 'http://%s' % url.strip()\n",
    "\n",
    "    try:\n",
    "        y = yarl.URL(url)\n",
    "    except ValueError:\n",
    "        continue\n",
    "        \n",
    "    if not y.is_absolute():\n",
    "        ts.append(url_orig)\n",
    "        continue\n",
    "\n",
    "    if not p.match(y.raw_host):\n",
    "        ts.append(url_orig)\n",
    "        continue\n",
    "\n",
    "    if '.' not in y.raw_host:\n",
    "        ts.append(url_orig)\n",
    "        continue\n",
    "\n",
    "    if not y.path and not y.params and not y.query and not y.fragment:\n",
    "        ts.append(url_orig)\n",
    "        continue\n",
    "    \n",
    "    urls2.append(url)"
   ]
  },
  {
   "cell_type": "code",
   "execution_count": 45,
   "metadata": {},
   "outputs": [],
   "source": [
    "df = pd.DataFrame(urls2, columns=['url'])\n",
    "df.to_csv('data/merged/phishing.csv', index=False)"
   ]
  },
  {
   "cell_type": "markdown",
   "metadata": {},
   "source": [
    "### Malware"
   ]
  },
  {
   "cell_type": "code",
   "execution_count": 46,
   "metadata": {},
   "outputs": [
    {
     "name": "stderr",
     "output_type": "stream",
     "text": [
      "/usr/local/lib/python3.6/dist-packages/ipykernel_launcher.py:1: DeprecationWarning: The default dtype for empty Series will be 'object' instead of 'float64' in a future version. Specify a dtype explicitly to silence this warning.\n",
      "  \"\"\"Entry point for launching an IPython kernel.\n"
     ]
    },
    {
     "name": "stdout",
     "output_type": "stream",
     "text": [
      "data/2020-03-10-URLhaus/1_csv/malware.csv\n",
      "0                         https://pastebin.com/raw/kbZ76udp\n",
      "1                         https://pastebin.com/raw/4hE4khVS\n",
      "2         https://sercon.com.mx/goldeven/ybuild_encrypte...\n",
      "3         https://sercon.com.mx/eaglo/build_encrypted_D0...\n",
      "4                https://sercon.com.mx/seive/Confutesf7.exe\n",
      "                                ...                        \n",
      "312892    http://gerrydear.id.au/INFO/PEGF72862VFJCQN/Ma...\n",
      "312893                        http://opora-company.ru/O5Go/\n",
      "312894                   http://sportists.com/Paid-Invoice/\n",
      "312895    http://hellohello-pension.com/Summit-Companies...\n",
      "312896    http://beautyevent.ru/Invoice-for-j/b-03/05/2018/\n",
      "Name: url, Length: 312897, dtype: object\n",
      "\n",
      "data/2016-09-21-ISCX-URL-2016/1_csv/malware.csv\n",
      "0        http://gzzax.livechatvalue.com/chat/chatClient...\n",
      "1        http://gzzax.livechatvalue.com/chat/chatClient...\n",
      "2        http://gzzax.livechatvalue.com/chat/chatClient...\n",
      "3        http://gzzax.livechatvalue.com/chat/chatClient...\n",
      "4        http://mtsx.com.cn/UploadFiles/2011-08/admin/%...\n",
      "                               ...                        \n",
      "11561    http://www.plastischechirurgie.net/gesicht/fac...\n",
      "11562    http://www.plastischechirurgie.net/haartranspl...\n",
      "11563    http://www.plastischechirurgie.net/korper/gyna...\n",
      "11564    http://dl.get1993desk.com/n/50517366/RealPlaye...\n",
      "11565    http://fb.com.accounts.login.userid.492739.fbs...\n",
      "Name: url, Length: 11566, dtype: object\n",
      "\n"
     ]
    }
   ],
   "source": [
    "urls = pd.Series()\n",
    "for csv_path in Path('data/').glob('*/1_csv/malware.csv'):\n",
    "    df = pd.read_csv(csv_path)\n",
    "    print(csv_path)\n",
    "    print(repr(df.url), end='\\n\\n')\n",
    "    urls = pd.concat([urls, df.url], ignore_index=True)"
   ]
  },
  {
   "cell_type": "code",
   "execution_count": 47,
   "metadata": {},
   "outputs": [
    {
     "data": {
      "text/plain": [
       "0                  210.37.11.238/jm32/includes/site/bot.exe\n",
       "1               210.37.11.238/jm32/includes/site/config.bin\n",
       "2                 210.37.11.238/jm32/includes/site/gate.php\n",
       "3                   3addictions.com.au/Attach/kings/bot.exe\n",
       "4                   3addictions.com.au/Attach/kings/cfg.bin\n",
       "                                ...                        \n",
       "315572        www.vigny.fr/modules/mod_footer/tmpl/gate.php\n",
       "315573        yapanyapi.com/katolog/thumbs/panel/config.jpg\n",
       "315574          yapanyapi.com/katolog/thumbs/panel/gate.php\n",
       "315575    yasamaugrasi.com/wp-includes/images/media/conf...\n",
       "315576    yasamaugrasi.com/wp-includes/images/media/sock...\n",
       "Length: 315577, dtype: object"
      ]
     },
     "execution_count": 47,
     "metadata": {},
     "output_type": "execute_result"
    }
   ],
   "source": [
    "urls.drop_duplicates(inplace=True)\n",
    "urls.sort_values(inplace=True, ignore_index=True)\n",
    "urls.reset_index(inplace=True, drop=True)\n",
    "urls"
   ]
  },
  {
   "cell_type": "code",
   "execution_count": 49,
   "metadata": {},
   "outputs": [
    {
     "name": "stderr",
     "output_type": "stream",
     "text": [
      "0% [############################################################] 100% | ETA: 00:00:00\n",
      "Total time elapsed: 00:00:12\n"
     ]
    }
   ],
   "source": [
    "ts = []\n",
    "p = re.compile(r'^[.\\w-]+$')\n",
    "bar = pyprind.ProgBar(len(urls), width=60)\n",
    "\n",
    "urls2 = []\n",
    "\n",
    "for i, url in urls.iteritems():\n",
    "    bar.update()\n",
    "    url_orig = url\n",
    "\n",
    "    if not (url.startswith('http://') or url.startswith('https://') or url.startswith('ftp://')):\n",
    "        if '://' in url:\n",
    "            print('sch:', url)\n",
    "        url = 'http://%s' % url.strip()\n",
    "\n",
    "    try:\n",
    "        y = yarl.URL(url)\n",
    "    except ValueError:\n",
    "        continue\n",
    "        \n",
    "    if not y.is_absolute():\n",
    "        ts.append(url_orig)\n",
    "        continue\n",
    "\n",
    "    if not p.match(y.raw_host):\n",
    "        ts.append(url_orig)\n",
    "        continue\n",
    "\n",
    "    if '.' not in y.raw_host:\n",
    "        ts.append(url_orig)\n",
    "        continue\n",
    "\n",
    "    if not y.path and not y.params and not y.query and not y.fragment:\n",
    "        ts.append(url_orig)\n",
    "        continue\n",
    "    \n",
    "    urls2.append(url)"
   ]
  },
  {
   "cell_type": "code",
   "execution_count": 51,
   "metadata": {},
   "outputs": [],
   "source": [
    "df = pd.DataFrame(urls, columns=['url'])\n",
    "df.to_csv('data/merged/malware.csv', index=False)"
   ]
  },
  {
   "cell_type": "markdown",
   "metadata": {},
   "source": [
    "### Attacked"
   ]
  },
  {
   "cell_type": "code",
   "execution_count": 11,
   "metadata": {},
   "outputs": [],
   "source": [
    "import re\n",
    "from pathlib import Path\n",
    "\n",
    "import numpy as np\n",
    "import pandas as pd\n",
    "import pyprind\n",
    "import yarl"
   ]
  },
  {
   "cell_type": "code",
   "execution_count": 4,
   "metadata": {},
   "outputs": [
    {
     "name": "stdout",
     "output_type": "stream",
     "text": [
      "data/2016-09-21-ISCX-URL-2016/1_csv/attacked.csv\n",
      "0              http://www.sinduscongoias.com.br/index.html\n",
      "1        http://www.sinduscongoias.com.br/index.php/ins...\n",
      "2        http://www.sinduscongoias.com.br/index.php/ins...\n",
      "3        http://www.sinduscongoias.com.br/index.php/ins...\n",
      "4        http://www.sinduscongoias.com.br/index.php/ins...\n",
      "                               ...                        \n",
      "96452    http://www.laurenzano.com.ar/index.php?option=...\n",
      "96453    http://www.laurenzano.com.ar/templates/laurenz...\n",
      "96454    http://www.laurenzano.com.ar/templates/laurenz...\n",
      "96455                   http://www.laurenzano.com.ar/x.txt\n",
      "96456            http://www.emotionalassets.com/sejeal.jpg\n",
      "Name: url, Length: 96457, dtype: object\n",
      "\n"
     ]
    }
   ],
   "source": [
    "urls = pd.Series(dtype=object)\n",
    "for csv_path in Path('data/').glob('*/1_csv/attacked.csv'):\n",
    "    df = pd.read_csv(csv_path)\n",
    "    print(csv_path)\n",
    "    print(repr(df.url), end='\\n\\n')\n",
    "    urls = pd.concat([urls, df.url], ignore_index=True)"
   ]
  },
  {
   "cell_type": "code",
   "execution_count": 6,
   "metadata": {},
   "outputs": [
    {
     "data": {
      "text/plain": [
       "0                               http://12com.net/505.txt\n",
       "1         http://12com.net/a/aomenbocai/2012/0818/1.html\n",
       "2         http://12com.net/a/aomenbocai/2012/0818/3.html\n",
       "3        http://12com.net/a/aomenbocai/2012/0822/79.html\n",
       "4        http://12com.net/a/aomenbocai/2012/1201/96.html\n",
       "                              ...                       \n",
       "95303             http://zshsq.com/view/class/index.html\n",
       "95304       http://zshsq.com/view/html/index.html?1.html\n",
       "95305       http://zshsq.com/view/html/index.html?2.html\n",
       "95306       http://zshsq.com/view/html/index.html?3.html\n",
       "95307       http://zshsq.com/view/html/index.html?4.html\n",
       "Length: 95308, dtype: object"
      ]
     },
     "execution_count": 6,
     "metadata": {},
     "output_type": "execute_result"
    }
   ],
   "source": [
    "urls.drop_duplicates(inplace=True)\n",
    "urls.sort_values(inplace=True, ignore_index=True)\n",
    "urls.reset_index(inplace=True, drop=True)\n",
    "urls"
   ]
  },
  {
   "cell_type": "code",
   "execution_count": 14,
   "metadata": {},
   "outputs": [
    {
     "name": "stderr",
     "output_type": "stream",
     "text": [
      "0% [############################################################] 100% | ETA: 00:00:00\n",
      "Total time elapsed: 00:00:03\n"
     ]
    }
   ],
   "source": [
    "ts = []\n",
    "urls2 = []\n",
    "\n",
    "p = re.compile(r'^[.\\w-]+$')\n",
    "bar = pyprind.ProgBar(len(urls), width=60)\n",
    "\n",
    "for i, url in urls.iteritems():\n",
    "    bar.update()\n",
    "    \n",
    "    if not (url.startswith('http://') or url.startswith('https://') or url.startswith('ftp://')):\n",
    "        if '://' in url:\n",
    "            print('!!!!!!!!!!!!!!!!!!!!', url)\n",
    "        url = 'http://%s' % url.strip()\n",
    "    \n",
    "    y = yarl.URL(url)\n",
    "    if not y.is_absolute():\n",
    "        print(url)\n",
    "        break\n",
    "\n",
    "    if not p.match(y.raw_host):\n",
    "        ts.append(url)\n",
    "        print(y)\n",
    "    if '.' not in y.raw_host:\n",
    "        ts.append(url)\n",
    "        print(y)\n",
    "    if not y.path and not y.params and not y.query and not y.fragment:\n",
    "        print(y)"
   ]
  },
  {
   "cell_type": "code",
   "execution_count": 23,
   "metadata": {},
   "outputs": [],
   "source": [
    "df = pd.DataFrame(urls, columns=['url'])\n",
    "df.to_csv('data/merged/attacked.csv', index=False)"
   ]
  },
  {
   "cell_type": "code",
   "execution_count": 22,
   "metadata": {},
   "outputs": [
    {
     "data": {
      "text/html": [
       "<div>\n",
       "<style scoped>\n",
       "    .dataframe tbody tr th:only-of-type {\n",
       "        vertical-align: middle;\n",
       "    }\n",
       "\n",
       "    .dataframe tbody tr th {\n",
       "        vertical-align: top;\n",
       "    }\n",
       "\n",
       "    .dataframe thead th {\n",
       "        text-align: right;\n",
       "    }\n",
       "</style>\n",
       "<table border=\"1\" class=\"dataframe\">\n",
       "  <thead>\n",
       "    <tr style=\"text-align: right;\">\n",
       "      <th></th>\n",
       "      <th>url</th>\n",
       "    </tr>\n",
       "  </thead>\n",
       "  <tbody>\n",
       "    <tr>\n",
       "      <th>0</th>\n",
       "      <td>http://12com.net/505.txt</td>\n",
       "    </tr>\n",
       "    <tr>\n",
       "      <th>1</th>\n",
       "      <td>http://12com.net/a/aomenbocai/2012/0818/1.html</td>\n",
       "    </tr>\n",
       "    <tr>\n",
       "      <th>2</th>\n",
       "      <td>http://12com.net/a/aomenbocai/2012/0818/3.html</td>\n",
       "    </tr>\n",
       "    <tr>\n",
       "      <th>3</th>\n",
       "      <td>http://12com.net/a/aomenbocai/2012/0822/79.html</td>\n",
       "    </tr>\n",
       "    <tr>\n",
       "      <th>4</th>\n",
       "      <td>http://12com.net/a/aomenbocai/2012/1201/96.html</td>\n",
       "    </tr>\n",
       "    <tr>\n",
       "      <th>...</th>\n",
       "      <td>...</td>\n",
       "    </tr>\n",
       "    <tr>\n",
       "      <th>95303</th>\n",
       "      <td>http://zshsq.com/view/class/index.html</td>\n",
       "    </tr>\n",
       "    <tr>\n",
       "      <th>95304</th>\n",
       "      <td>http://zshsq.com/view/html/index.html?1.html</td>\n",
       "    </tr>\n",
       "    <tr>\n",
       "      <th>95305</th>\n",
       "      <td>http://zshsq.com/view/html/index.html?2.html</td>\n",
       "    </tr>\n",
       "    <tr>\n",
       "      <th>95306</th>\n",
       "      <td>http://zshsq.com/view/html/index.html?3.html</td>\n",
       "    </tr>\n",
       "    <tr>\n",
       "      <th>95307</th>\n",
       "      <td>http://zshsq.com/view/html/index.html?4.html</td>\n",
       "    </tr>\n",
       "  </tbody>\n",
       "</table>\n",
       "<p>95308 rows × 1 columns</p>\n",
       "</div>"
      ],
      "text/plain": [
       "                                                   url\n",
       "0                             http://12com.net/505.txt\n",
       "1       http://12com.net/a/aomenbocai/2012/0818/1.html\n",
       "2       http://12com.net/a/aomenbocai/2012/0818/3.html\n",
       "3      http://12com.net/a/aomenbocai/2012/0822/79.html\n",
       "4      http://12com.net/a/aomenbocai/2012/1201/96.html\n",
       "...                                                ...\n",
       "95303           http://zshsq.com/view/class/index.html\n",
       "95304     http://zshsq.com/view/html/index.html?1.html\n",
       "95305     http://zshsq.com/view/html/index.html?2.html\n",
       "95306     http://zshsq.com/view/html/index.html?3.html\n",
       "95307     http://zshsq.com/view/html/index.html?4.html\n",
       "\n",
       "[95308 rows x 1 columns]"
      ]
     },
     "execution_count": 22,
     "metadata": {},
     "output_type": "execute_result"
    }
   ],
   "source": [
    "df"
   ]
  },
  {
   "cell_type": "markdown",
   "metadata": {},
   "source": [
    "### SPAM"
   ]
  },
  {
   "cell_type": "code",
   "execution_count": 1,
   "metadata": {},
   "outputs": [],
   "source": [
    "import re\n",
    "from pathlib import Path\n",
    "\n",
    "import numpy as np\n",
    "import pandas as pd\n",
    "import pyprind\n",
    "import yarl"
   ]
  },
  {
   "cell_type": "code",
   "execution_count": 7,
   "metadata": {},
   "outputs": [
    {
     "name": "stdout",
     "output_type": "stream",
     "text": [
      "data/2016-09-21-ISCX-URL-2016/1_csv/spam.csv\n",
      "0        http://astore.amazon.co.uk/allezvinsfrenchr/de...\n",
      "1        http://archive.salisburyjournal.co.uk/2007/3/6...\n",
      "2           http://appbasic.jettons.co.uk/links/index.html\n",
      "3        http://archive.yorkpress.co.uk/2003/11/6/25684...\n",
      "4        http://acard4u.co.uk/product_reviews.php?cPath...\n",
      "                               ...                        \n",
      "11995      http://archive.salisburyjournal.co.uk/2001/3/7/\n",
      "11996    http://astore.amazon.co.uk/allezvinsfrenchr/de...\n",
      "11997    http://archive.thisischeshire.co.uk/2000/1/14/...\n",
      "11998    http://applerugs.co.uk/rugs/product_info.php?p...\n",
      "11999    http://allgirltogaparty.co.uk/gallery2/main.ph...\n",
      "Name: url, Length: 12000, dtype: object\n",
      "\n"
     ]
    }
   ],
   "source": [
    "urls = pd.Series(dtype=object)\n",
    "for csv_path in Path('data/').glob('*/1_csv/spam.csv'):\n",
    "    df = pd.read_csv(csv_path)\n",
    "    print(csv_path)\n",
    "    print(repr(df.url), end='\\n\\n')\n",
    "    urls = pd.concat([urls, df.url], ignore_index=True)"
   ]
  },
  {
   "cell_type": "code",
   "execution_count": 8,
   "metadata": {},
   "outputs": [
    {
     "data": {
      "text/plain": [
       "0        http://1-hydroponics.co.uk/environmental-contr...\n",
       "1        http://1-hydroponics.co.uk/grow-lights/air-coo...\n",
       "2        http://1-hydroponics.co.uk/grow-lights/budget-...\n",
       "3        http://1-hydroponics.co.uk/grow-media/spreader...\n",
       "4        http://1-hydroponics.co.uk/miscellaneous/green...\n",
       "                               ...                        \n",
       "11916    http://audilinks.co.uk/info/showphotos.asp?Typ...\n",
       "11917    http://audilinks.co.uk/info/showphotos.asp?Typ...\n",
       "11918    http://audilinks.co.uk/info/showphotos.asp?Typ...\n",
       "11919    http://audilinks.co.uk/info/showphotos.asp?Typ...\n",
       "11920    http://audilinks.co.uk/info/showphotos.asp?Typ...\n",
       "Length: 11921, dtype: object"
      ]
     },
     "execution_count": 8,
     "metadata": {},
     "output_type": "execute_result"
    }
   ],
   "source": [
    "urls.drop_duplicates(inplace=True)\n",
    "urls.sort_values(inplace=True, ignore_index=True)\n",
    "urls.reset_index(inplace=True, drop=True)\n",
    "urls"
   ]
  },
  {
   "cell_type": "code",
   "execution_count": 9,
   "metadata": {},
   "outputs": [
    {
     "name": "stderr",
     "output_type": "stream",
     "text": [
      "0% [############################################################] 100% | ETA: 00:00:00\n",
      "Total time elapsed: 00:00:00\n"
     ]
    }
   ],
   "source": [
    "ts = []\n",
    "urls2 = []\n",
    "\n",
    "p = re.compile(r'^[.\\w-]+$')\n",
    "bar = pyprind.ProgBar(len(urls), width=60)\n",
    "\n",
    "for i, url in urls.iteritems():\n",
    "    bar.update()\n",
    "    \n",
    "    if not (url.startswith('http://') or url.startswith('https://') or url.startswith('ftp://')):\n",
    "        if '://' in url:\n",
    "            print('!!!!!!!!!!!!!!!!!!!!', url)\n",
    "        url = 'http://%s' % url.strip()\n",
    "    \n",
    "    y = yarl.URL(url)\n",
    "    if not y.is_absolute():\n",
    "        print(url)\n",
    "        break\n",
    "\n",
    "    if not p.match(y.raw_host):\n",
    "        ts.append(url)\n",
    "        print(y)\n",
    "    if '.' not in y.raw_host:\n",
    "        ts.append(url)\n",
    "        print(y)\n",
    "    if not y.path and not y.params and not y.query and not y.fragment:\n",
    "        print(y)"
   ]
  },
  {
   "cell_type": "code",
   "execution_count": 10,
   "metadata": {},
   "outputs": [],
   "source": [
    "df = pd.DataFrame(urls, columns=['url'])\n",
    "df.to_csv('data/merged/spam.csv', index=False)"
   ]
  },
  {
   "cell_type": "code",
   "execution_count": null,
   "metadata": {},
   "outputs": [],
   "source": []
  }
 ],
 "metadata": {
  "kernelspec": {
   "display_name": "Python 3",
   "language": "python",
   "name": "python3"
  },
  "language_info": {
   "codemirror_mode": {
    "name": "ipython",
    "version": 3
   },
   "file_extension": ".py",
   "mimetype": "text/x-python",
   "name": "python",
   "nbconvert_exporter": "python",
   "pygments_lexer": "ipython3",
   "version": "3.6.9"
  }
 },
 "nbformat": 4,
 "nbformat_minor": 4
}
