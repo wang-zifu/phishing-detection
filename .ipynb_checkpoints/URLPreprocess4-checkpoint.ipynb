{
 "cells": [
  {
   "cell_type": "code",
   "execution_count": 86,
   "metadata": {},
   "outputs": [],
   "source": [
    "from pathlib import Path\n",
    "\n",
    "import numpy as np\n",
    "import pandas as pd\n",
    "import pyprind\n",
    "from yarl import URL"
   ]
  },
  {
   "cell_type": "code",
   "execution_count": 130,
   "metadata": {},
   "outputs": [],
   "source": [
    "urls = tuple(pd.read_csv('data/merged/malware.csv')['url'].to_list())"
   ]
  },
  {
   "cell_type": "code",
   "execution_count": 131,
   "metadata": {},
   "outputs": [
    {
     "name": "stderr",
     "output_type": "stream",
     "text": [
      "0% [####################################################################################################] 100% | ETA: 00:00:00\n",
      "Total time elapsed: 00:00:13\n"
     ]
    }
   ],
   "source": [
    "urls2 = []\n",
    "append = urls2.append\n",
    "\n",
    "for url in pyprind.prog_bar(urls, width=100):\n",
    "    try:\n",
    "        url = URL(url)\n",
    "    except ValueError:\n",
    "        print(url)\n",
    "        append(url)\n",
    "        continue\n",
    "    url = url.with_path(url.path)\n",
    "    append(str(url))"
   ]
  },
  {
   "cell_type": "code",
   "execution_count": 132,
   "metadata": {},
   "outputs": [],
   "source": [
    "urls2.sort()\n",
    "urls2 = pd.Series(urls2)\n",
    "urls2.drop_duplicates(inplace=True)\n",
    "\n",
    "df = pd.DataFrame()\n",
    "df['url'] = urls2"
   ]
  },
  {
   "cell_type": "code",
   "execution_count": 133,
   "metadata": {},
   "outputs": [],
   "source": [
    "df.to_csv('data/merged/malware.csv', index=False)"
   ]
  },
  {
   "cell_type": "code",
   "execution_count": null,
   "metadata": {},
   "outputs": [],
   "source": []
  }
 ],
 "metadata": {
  "kernelspec": {
   "display_name": "Python 3",
   "language": "python",
   "name": "python3"
  },
  "language_info": {
   "codemirror_mode": {
    "name": "ipython",
    "version": 3
   },
   "file_extension": ".py",
   "mimetype": "text/x-python",
   "name": "python",
   "nbconvert_exporter": "python",
   "pygments_lexer": "ipython3",
   "version": "3.6.9"
  }
 },
 "nbformat": 4,
 "nbformat_minor": 4
}
