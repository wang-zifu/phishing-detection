{
 "cells": [
  {
   "cell_type": "code",
   "execution_count": 1,
   "metadata": {},
   "outputs": [],
   "source": [
    "from pathlib import Path\n",
    "\n",
    "import numpy as np\n",
    "import pandas as pd"
   ]
  },
  {
   "cell_type": "code",
   "execution_count": 2,
   "metadata": {},
   "outputs": [],
   "source": [
    "data_path = Path('data')"
   ]
  },
  {
   "cell_type": "code",
   "execution_count": 3,
   "metadata": {},
   "outputs": [
    {
     "name": "stdout",
     "output_type": "stream",
     "text": [
      "data/2019-03-12-Ebbu/1_csv/benign.csv\n",
      "0          https://www.factset.com/services/portfolio-dat...\n",
      "1          https://www.factset.com/news/2018/9/18/factset...\n",
      "2          http://www.factset.com/insight/2016/08/resolve...\n",
      "3                                     http://www.factset.com\n",
      "4          https://www.factset.com/hubfs/resources%20sect...\n",
      "                                 ...                        \n",
      "2881943    https://www.insidesecure.com/products/silicon-...\n",
      "2881944    https://www.insidesecure.com/content/download/...\n",
      "2881945    https://www.insidesecure.com/company/offices/f...\n",
      "2881946    https://www.insidesecure.com/company/press-rel...\n",
      "2881947    https://www.insidesecure.com/company/press-rel...\n",
      "Name: url, Length: 2881948, dtype: object\n",
      "\n",
      "data/2016-09-21-ISCX-URL-2016/1_csv/benign.csv\n",
      "0        http://1337x.to/torrent/1048648/American-Snipe...\n",
      "1        http://1337x.to/torrent/1110018/Blackhat-2015-...\n",
      "2        http://1337x.to/torrent/1122940/Blackhat-2015-...\n",
      "3        http://1337x.to/torrent/1124395/Fast-and-Furio...\n",
      "4        http://1337x.to/torrent/1145504/Avengers-Age-o...\n",
      "                               ...                        \n",
      "35373    https://lastpass.com/signup2.php?ac=1&from_uri...\n",
      "35374    https://lastpass.com/signup2.php?ac=1&from_uri...\n",
      "35375    https://lastpass.com/signup2.php?ac=1&from_uri...\n",
      "35376    https://lastpass.com/signup2.php?ac=1&from_uri...\n",
      "35377    https://asana.com/guide/videos/%22//fast.wisti...\n",
      "Name: url, Length: 35378, dtype: object\n",
      "\n",
      "data/2017-03-17-DMOZ/1_csv/benign.csv\n",
      "0                                        http://www.awn.com/\n",
      "1                                http://animation.about.com/\n",
      "2                                  http://www.toonhound.com/\n",
      "3          http://www.digitalmediafx.com/Features/animati...\n",
      "4                            http://www.animated-divots.net/\n",
      "                                 ...                        \n",
      "3573021                               http://www.tebabat.cn/\n",
      "3573022                             http://www.xjtsnews.com/\n",
      "3573023                                  http://www.rfa.org/\n",
      "3573024                             http://www.uygurlar.org/\n",
      "3573025                           http://www.istiqlaltv.com/\n",
      "Name: url, Length: 3573026, dtype: object\n",
      "\n",
      "data/2017-11-27-Malicious_n_Non-Malicious/1_csv/benign.csv\n",
      "0                                                01453.com/\n",
      "1                     015fb31.netsolhost.com/bosstweed.html\n",
      "2                   02bee66.netsolhost.com/lincolnhomepage/\n",
      "3         02ec0a3.netsolhost.com/getperson.php?personID=...\n",
      "4                                               032255.com/\n",
      "                                ...                        \n",
      "344816    youthleaguesusa.com/potomacsoccer/2011/Tournam...\n",
      "344817                                       zip-codes.com/\n",
      "344818                      owens.edu/news-releases/?p=2052\n",
      "344819        1.safesecureweb.com/egale/index.asp?item=1173\n",
      "344820                 yurika.otakuthon.com/reg/main.pl/en/\n",
      "Name: url, Length: 344821, dtype: object\n",
      "\n",
      "data/2018-04-23-Ebbu2017/1_csv/benign.csv\n",
      "0        http://www.conceptdraw.com/How-To-Guide/Local-...\n",
      "1         https://www.edrawsoft.com/Local-Area-Network.php\n",
      "2        http://www.webopedia.com/TERM/L/local_area_net...\n",
      "3            https://www.acsac.org/secshelf/book001/16.pdf\n",
      "4              http://www.diffen.com/difference/LAN_vs_WAN\n",
      "                               ...                        \n",
      "36395    http://www.bingapis.com/images/search?q=OSI+Mo...\n",
      "36396    http://www.meltinfo.com/xls/osi-model-acronym-...\n",
      "36397    http://search.yahoo.com/tablet/s?p=7+layers+of...\n",
      "36398                  http://quiz2play.com/osi-model-quiz\n",
      "36399             http://www.webopedia.com/TERM/O/OSI.html\n",
      "Name: url, Length: 36400, dtype: object\n",
      "\n"
     ]
    }
   ],
   "source": [
    "urls = pd.Series(dtype=object)\n",
    "for csv_path in data_path.glob('*/1_csv/benign.csv'):\n",
    "    df = pd.read_csv(csv_path)\n",
    "    print(csv_path)\n",
    "    print(repr(df.url), end='\\n\\n')\n",
    "    urls = pd.concat([urls, df.url], ignore_index=True)"
   ]
  },
  {
   "cell_type": "code",
   "execution_count": 9,
   "metadata": {},
   "outputs": [
    {
     "data": {
      "text/plain": [
       "0          https://www.factset.com/services/portfolio-dat...\n",
       "1          https://www.factset.com/news/2018/9/18/factset...\n",
       "2          http://www.factset.com/insight/2016/08/resolve...\n",
       "3                                     http://www.factset.com\n",
       "4          https://www.factset.com/hubfs/resources%20sect...\n",
       "                                 ...                        \n",
       "6488901    http://www.bingapis.com/images/search?q=OSI+Mo...\n",
       "6488902    http://www.meltinfo.com/xls/osi-model-acronym-...\n",
       "6488903    http://search.yahoo.com/tablet/s?p=7+layers+of...\n",
       "6488904                  http://quiz2play.com/osi-model-quiz\n",
       "6488905             http://www.webopedia.com/TERM/O/OSI.html\n",
       "Length: 6488906, dtype: object"
      ]
     },
     "execution_count": 9,
     "metadata": {},
     "output_type": "execute_result"
    }
   ],
   "source": [
    "urls.drop_duplicates(inplace=True)\n",
    "urls.reset_index(inplace=True, drop=True)\n",
    "urls"
   ]
  },
  {
   "cell_type": "code",
   "execution_count": 31,
   "metadata": {},
   "outputs": [
    {
     "name": "stdout",
     "output_type": "stream",
     "text": [
      "Collecting pyprind\n",
      "  Downloading PyPrind-2.11.2-py3-none-any.whl (8.6 kB)\n",
      "Installing collected packages: pyprind\n",
      "Successfully installed pyprind-2.11.2\n"
     ]
    }
   ],
   "source": [
    "!pip install -U pyprind"
   ]
  },
  {
   "cell_type": "code",
   "execution_count": 33,
   "metadata": {},
   "outputs": [],
   "source": [
    "import re\n",
    "from urllib.parse import urlparse\n",
    "\n",
    "import pyprind"
   ]
  },
  {
   "cell_type": "code",
   "execution_count": 12,
   "metadata": {},
   "outputs": [],
   "source": [
    "urls2 = urls.sort_values(ignore_index=False)"
   ]
  },
  {
   "cell_type": "code",
   "execution_count": 61,
   "metadata": {},
   "outputs": [
    {
     "data": {
      "text/plain": [
       "6488862"
      ]
     },
     "execution_count": 61,
     "metadata": {},
     "output_type": "execute_result"
    }
   ],
   "source": [
    "n_urls = len(urls2)\n",
    "n_urls"
   ]
  },
  {
   "cell_type": "code",
   "execution_count": 60,
   "metadata": {},
   "outputs": [],
   "source": [
    "for t in ts:\n",
    "    urls2 = urls2[urls2 != t]"
   ]
  },
  {
   "cell_type": "code",
   "execution_count": 83,
   "metadata": {},
   "outputs": [],
   "source": [
    "urls2 = urls2[urls2 != 'http://xn--6ea7f98xda2arjg0cif9c4i/']\n",
    "urls2.reset_index(inplace=True, drop=True)"
   ]
  },
  {
   "cell_type": "code",
   "execution_count": 81,
   "metadata": {},
   "outputs": [],
   "source": [
    "urls2 = urls2.apply(lambda url: url.replace('http://www.%20xn--wirtshaus-mittelmhle-5ec.%20de/', 'http://www.xn--wirtshaus-mittelmhle-5ec.de/')).sort_values(ignore_index=False)\n",
    "urls2.reset_index(inplace=True, drop=True)"
   ]
  },
  {
   "cell_type": "code",
   "execution_count": 62,
   "metadata": {},
   "outputs": [],
   "source": [
    "urls2 = urls2.apply(lambda url: 'http://%s' % url if '://' not in url else url).sort_values(ignore_index=False)\n",
    "urls2.reset_index(inplace=True, drop=True)"
   ]
  },
  {
   "cell_type": "code",
   "execution_count": 86,
   "metadata": {},
   "outputs": [
    {
     "data": {
      "text/plain": [
       "0          ftp://acrux.astro.indiana.edu/pub/images/tract...\n",
       "1                       ftp://adm.isp.at/ADM/ADMsmb-v0.2.tgz\n",
       "2                       ftp://aix.boulder.ibm.com/aix/fixes/\n",
       "3               ftp://aix.boulder.ibm.com/aix/tools/fixdist/\n",
       "4                        ftp://arnold.c64.org/pub/magazines/\n",
       "                                 ...                        \n",
       "6487561    https://zyro.com/examples/?page=7&cpp=50&order...\n",
       "6487562    https://zyro.com/examples/?page=7&cpp=50&order...\n",
       "6487563                             https://zyro.com/try-it/\n",
       "6487564                            https://сглобяемикъщи.bg/\n",
       "6487565                                       https://ц.укр/\n",
       "Length: 6487566, dtype: object"
      ]
     },
     "execution_count": 86,
     "metadata": {},
     "output_type": "execute_result"
    }
   ],
   "source": [
    "urls2.drop_duplicates(inplace=True)\n",
    "urls2.reset_index(inplace=True, drop=True)\n",
    "urls2"
   ]
  },
  {
   "cell_type": "code",
   "execution_count": 70,
   "metadata": {},
   "outputs": [],
   "source": []
  },
  {
   "cell_type": "code",
   "execution_count": 74,
   "metadata": {},
   "outputs": [
    {
     "name": "stdout",
     "output_type": "stream",
     "text": [
      "ParseResult(scheme='http', netloc='Royal%20City%20Ambassadors', path='/', params='', query='', fragment='')\n",
      "ParseResult(scheme='http', netloc='\\\\\\\\www.eldiarioalerta.com', path='/', params='', query='', fragment='')\n",
      "ParseResult(scheme='http', netloc='\\\\http', path='/www.census.gov/quickfacts/table/PST045216/21155,21153,00', params='', query='', fragment='')\n"
     ]
    },
    {
     "name": "stderr",
     "output_type": "stream",
     "text": [
      "0% [###########                                                 ] 100% | ETA: 00:01:06"
     ]
    },
    {
     "name": "stdout",
     "output_type": "stream",
     "text": [
      "ParseResult(scheme='http', netloc='www.%20xn--wirtshaus-mittelmhle-5ec.%20de', path='/', params='', query='', fragment='')\n"
     ]
    },
    {
     "name": "stderr",
     "output_type": "stream",
     "text": [
      "0% [##################################                          ] 100% | ETA: 00:00:35"
     ]
    },
    {
     "name": "stdout",
     "output_type": "stream",
     "text": [
      "ParseResult(scheme='http', netloc='www.s%c3%bctterlinstube.de', path='/', params='', query='', fragment='')\n"
     ]
    },
    {
     "name": "stderr",
     "output_type": "stream",
     "text": [
      "0% [#########################################                   ] 100% | ETA: 00:00:26"
     ]
    },
    {
     "name": "stdout",
     "output_type": "stream",
     "text": [
      "ParseResult(scheme='http', netloc='xn--%20-6ea7f98xda2arjg0cif9c4i', path='/', params='', query='', fragment='')\n"
     ]
    },
    {
     "name": "stderr",
     "output_type": "stream",
     "text": [
      "0% [############################################################] 100% | ETA: 00:00:00\n",
      "Total time elapsed: 00:01:24\n"
     ]
    }
   ],
   "source": [
    "ts = []\n",
    "p = re.compile(r'^[.\\w-]+$')\n",
    "\n",
    "bar = pyprind.ProgBar(n_urls, width=60)\n",
    "for i, url in urls2.iteritems():\n",
    "    bar.update()\n",
    "    \n",
    "    y = urlparse(url)\n",
    "    if not p.match(y.hostname):\n",
    "        ts.append(url)\n",
    "        print(y)\n",
    "    if '.' not in y.hostname:\n",
    "        ts.append(url)\n",
    "        print(y)"
   ]
  },
  {
   "cell_type": "code",
   "execution_count": 36,
   "metadata": {},
   "outputs": [],
   "source": [
    "'gopher://gdead.berkeley.edu/'\n",
    "y = urlparse('sherlock://abovecalifornia.com/sherlock/LVL/SherlockChannel.xml')"
   ]
  },
  {
   "cell_type": "code",
   "execution_count": 76,
   "metadata": {},
   "outputs": [
    {
     "data": {
      "text/plain": [
       "['http://Royal%20City%20Ambassadors/',\n",
       " 'http://\\\\\\\\www.eldiarioalerta.com/',\n",
       " 'http://\\\\http/www.census.gov/quickfacts/table/PST045216/21155,21153,00',\n",
       " 'http://www.%20xn--wirtshaus-mittelmhle-5ec.%20de/',\n",
       " 'http://www.s%c3%bctterlinstube.de/',\n",
       " 'http://xn--%20-6ea7f98xda2arjg0cif9c4i/']"
      ]
     },
     "execution_count": 76,
     "metadata": {},
     "output_type": "execute_result"
    }
   ],
   "source": [
    "['http://Royal%20City%20Ambassadors/',\n",
    " 'http://\\\\\\\\www.eldiarioalerta.com/',\n",
    " 'http://\\\\http/www.census.gov/quickfacts/table/PST045216/21155,21153,00',\n",
    " 'http://www.%20xn--wirtshaus-mittelmhle-5ec.%20de/',\n",
    " 'http://www.s%c3%bctterlinstube.de/',\n",
    " 'http://xn--6ea7f98xda2arjg0cif9c4i/']"
   ]
  },
  {
   "cell_type": "code",
   "execution_count": 89,
   "metadata": {},
   "outputs": [],
   "source": [
    "df = pd.DataFrame()\n",
    "df['url'] = urls2"
   ]
  },
  {
   "cell_type": "code",
   "execution_count": 91,
   "metadata": {},
   "outputs": [],
   "source": [
    "df.to_csv('data/merged/benign_6487565.csv', index=False)"
   ]
  },
  {
   "cell_type": "markdown",
   "metadata": {},
   "source": [
    "### Phish"
   ]
  },
  {
   "cell_type": "code",
   "execution_count": 154,
   "metadata": {},
   "outputs": [],
   "source": [
    "from pathlib import Path\n",
    "\n",
    "import numpy as np\n",
    "import pandas as pd"
   ]
  },
  {
   "cell_type": "code",
   "execution_count": 164,
   "metadata": {},
   "outputs": [
    {
     "name": "stdout",
     "output_type": "stream",
     "text": [
      "data/2019-03-12-Ebbu/1_csv/phishing.csv\n",
      "0          http://cornerstone-baptist-church.com/images/_...\n",
      "1          http://apolomultimedia.com/nhs/cx/bancofalabel...\n",
      "2          http://50.97.105.177/~asfaf639/cielo-fidelidad...\n",
      "3          http://cronatech.com/clientdetailcss/google/in...\n",
      "4          http://hotforex.com.vn/wp-admin/user/google/in...\n",
      "                                 ...                        \n",
      "2320756            http://allbuyu.com/po/qsaporder/index.php\n",
      "2320757    http://www.prismaweb.us/wp-includes/SimplePie/...\n",
      "2320758    http://www.shelllubsdistportal.com/.https/cont...\n",
      "2320759    http://brinomedia.se/%20./8735e21ccdb61855c618...\n",
      "2320760    http://www.bubifood.hu/media/com_jnews/ogbchdr...\n",
      "Name: url, Length: 2320761, dtype: object\n",
      "\n",
      "data/2016-09-21-ISCX-URL-2016/1_csv/phishing.csv\n",
      "0       http://v2.email-marketing.adminsimple.com/trac...\n",
      "1       http://bid.openx.net/json?amp;amp;amp;amp;cid;...\n",
      "2       http://webmail2.centurytel.net/hwebmail/servic...\n",
      "3       http://www.google.com.ng/imgres?imgurl=http://...\n",
      "4       http://webmail2.centurytel.net/hwebmail/servic...\n",
      "                              ...                        \n",
      "9960                http://highedgesolar.com/nw/includes/\n",
      "9961                http://jimfangimporters.yolasite.com/\n",
      "9962                http://liuheng.chengxuren.com/Images/\n",
      "9963                http://mcnaotempreco.net/site/portal/\n",
      "9964                http://missionaryfilms.org/index.html\n",
      "Name: url, Length: 9965, dtype: object\n",
      "\n",
      "data/2018-04-23-Ebbu2017/1_csv/phishing.csv\n",
      "0                                        apple-iforget.com\n",
      "1                                        safe-id-login.com\n",
      "2        manage.netflix.com.usermanagement.key.1973573....\n",
      "3        manage.netflix.com.usermanagement.key.1973574....\n",
      "4                                       helpplusinfo01.com\n",
      "                               ...                        \n",
      "37170                     http://www.grupolyl.com/slap/GD/\n",
      "37171         http://bcgroup-sa.com/nilalalaa/GD/index.php\n",
      "37172    http://mainepta.org/eme/gm/excel/excel/excel.p...\n",
      "37173    http://support.escola-olivera.org/GOOGLENEWW/G...\n",
      "37174    http://support.escola-olivera.org/GOOGLENEWW/G...\n",
      "Name: url, Length: 37175, dtype: object\n",
      "\n"
     ]
    }
   ],
   "source": [
    "urls = pd.Series(dtype=object)\n",
    "for csv_path in Path('data').glob('*/1_csv/phishing.csv'):\n",
    "    df = pd.read_csv(csv_path)\n",
    "    print(csv_path)\n",
    "    print(repr(df.url), end='\\n\\n')\n",
    "    urls = pd.concat([urls, df.url], ignore_index=True)"
   ]
  },
  {
   "cell_type": "code",
   "execution_count": 165,
   "metadata": {},
   "outputs": [
    {
     "data": {
      "text/plain": [
       "0          http://cornerstone-baptist-church.com/images/_...\n",
       "1          http://apolomultimedia.com/nhs/cx/bancofalabel...\n",
       "2          http://50.97.105.177/~asfaf639/cielo-fidelidad...\n",
       "3          http://cronatech.com/clientdetailcss/google/in...\n",
       "4          http://hotforex.com.vn/wp-admin/user/google/in...\n",
       "                                 ...                        \n",
       "2367896                     http://www.grupolyl.com/slap/GD/\n",
       "2367897         http://bcgroup-sa.com/nilalalaa/GD/index.php\n",
       "2367898    http://mainepta.org/eme/gm/excel/excel/excel.p...\n",
       "2367899    http://support.escola-olivera.org/GOOGLENEWW/G...\n",
       "2367900    http://support.escola-olivera.org/GOOGLENEWW/G...\n",
       "Length: 2367901, dtype: object"
      ]
     },
     "execution_count": 165,
     "metadata": {},
     "output_type": "execute_result"
    }
   ],
   "source": [
    "urls"
   ]
  },
  {
   "cell_type": "code",
   "execution_count": 166,
   "metadata": {},
   "outputs": [
    {
     "data": {
      "text/plain": [
       "0                       13bmosecure.com\n",
       "1                       34zy2.sljtm.com\n",
       "2            accountverification.online\n",
       "3          apaypal.co/Secure/PP/Paypal/\n",
       "4                  app-findmyiphone.com\n",
       "                       ...             \n",
       "2306933             verifiedaccounts.us\n",
       "2306934                    verifrb2.net\n",
       "2306935        verify-bankofamerica.com\n",
       "2306936              wap-ios-icloud.com\n",
       "2306937            wap-ios10-icloud.com\n",
       "Length: 2306938, dtype: object"
      ]
     },
     "execution_count": 166,
     "metadata": {},
     "output_type": "execute_result"
    }
   ],
   "source": [
    "urls.drop_duplicates(inplace=True)\n",
    "urls.sort_values(inplace=True, ignore_index=True)\n",
    "urls.reset_index(inplace=True, drop=True)\n",
    "urls"
   ]
  },
  {
   "cell_type": "code",
   "execution_count": 161,
   "metadata": {},
   "outputs": [],
   "source": [
    "urls = urls[urls != '/authrequiredn_W11QitemZ180099995083QQcategoryZ14233QQraZ235QcmdZViewI']\n",
    "urls.reset_index(inplace=True, drop=True)"
   ]
  },
  {
   "cell_type": "code",
   "execution_count": 121,
   "metadata": {},
   "outputs": [],
   "source": [
    "urls = urls.apply(lambda url: url.replace('hTTp://online.citibank.com.US',\n",
    "                                          'http://online.citibank.com.US'))\n",
    "urls.sort_values(inplace=True, ignore_index=True)\n",
    "urls.reset_index(inplace=True, drop=True)"
   ]
  },
  {
   "cell_type": "code",
   "execution_count": 167,
   "metadata": {},
   "outputs": [
    {
     "name": "stderr",
     "output_type": "stream",
     "text": [
      "0% [############################################################] 100% | ETA: 00:00:00\n",
      "Total time elapsed: 00:00:32\n"
     ]
    }
   ],
   "source": [
    "ts = []\n",
    "urls2 = []\n",
    "\n",
    "p = re.compile(r'^[.\\w-]+$')\n",
    "bar = pyprind.ProgBar(len(urls), width=60)\n",
    "\n",
    "for i, url in urls.iteritems():\n",
    "    bar.update()\n",
    "    \n",
    "    if '://' not in url:\n",
    "        url = 'http://%s' % url\n",
    "    \n",
    "    y = urlparse(url)\n",
    "    if not p.match(y.hostname):\n",
    "        ts.append(url)\n",
    "        print(y)\n",
    "    if '.' not in y.hostname:\n",
    "        ts.append(url)\n",
    "        print(y)"
   ]
  },
  {
   "cell_type": "code",
   "execution_count": 168,
   "metadata": {},
   "outputs": [],
   "source": [
    "for t in ts:\n",
    "    print(t)"
   ]
  },
  {
   "cell_type": "code",
   "execution_count": 169,
   "metadata": {},
   "outputs": [],
   "source": [
    "urls.to_csv('data/merged/phishing.csv', index=False)"
   ]
  },
  {
   "cell_type": "markdown",
   "metadata": {},
   "source": [
    "### Malware"
   ]
  },
  {
   "cell_type": "code",
   "execution_count": 234,
   "metadata": {},
   "outputs": [],
   "source": [
    "from pathlib import Path\n",
    "\n",
    "import numpy as np\n",
    "import pandas as pd\n",
    "import yarl"
   ]
  },
  {
   "cell_type": "code",
   "execution_count": 224,
   "metadata": {},
   "outputs": [
    {
     "name": "stdout",
     "output_type": "stream",
     "text": [
      "data/2020-03-10-URLhaus/1_csv/malware.csv\n",
      "0                         https://pastebin.com/raw/kbZ76udp\n",
      "1                         https://pastebin.com/raw/4hE4khVS\n",
      "2         https://sercon.com.mx/goldeven/ybuild_encrypte...\n",
      "3         https://sercon.com.mx/eaglo/build_encrypted_D0...\n",
      "4                https://sercon.com.mx/seive/Confutesf7.exe\n",
      "                                ...                        \n",
      "312892    http://gerrydear.id.au/INFO/PEGF72862VFJCQN/Ma...\n",
      "312893                        http://opora-company.ru/O5Go/\n",
      "312894                   http://sportists.com/Paid-Invoice/\n",
      "312895    http://hellohello-pension.com/Summit-Companies...\n",
      "312896    http://beautyevent.ru/Invoice-for-j/b-03/05/2018/\n",
      "Name: url, Length: 312897, dtype: object\n",
      "\n",
      "data/2016-09-21-ISCX-URL-2016/1_csv/malware.csv\n",
      "0        http://gzzax.livechatvalue.com/chat/chatClient...\n",
      "1        http://gzzax.livechatvalue.com/chat/chatClient...\n",
      "2        http://gzzax.livechatvalue.com/chat/chatClient...\n",
      "3        http://gzzax.livechatvalue.com/chat/chatClient...\n",
      "4        http://mtsx.com.cn/UploadFiles/2011-08/admin/%...\n",
      "                               ...                        \n",
      "11561    http://www.plastischechirurgie.net/gesicht/fac...\n",
      "11562    http://www.plastischechirurgie.net/haartranspl...\n",
      "11563    http://www.plastischechirurgie.net/korper/gyna...\n",
      "11564    http://dl.get1993desk.com/n/50517366/RealPlaye...\n",
      "11565    http://fb.com.accounts.login.userid.492739.fbs...\n",
      "Name: url, Length: 11566, dtype: object\n",
      "\n"
     ]
    }
   ],
   "source": [
    "urls = pd.Series(dtype=object)\n",
    "for csv_path in Path('data/').glob('*/1_csv/malware.csv'):\n",
    "    df = pd.read_csv(csv_path)\n",
    "    print(csv_path)\n",
    "    print(repr(df.url), end='\\n\\n')\n",
    "    urls = pd.concat([urls, df.url], ignore_index=True)"
   ]
  },
  {
   "cell_type": "code",
   "execution_count": 225,
   "metadata": {},
   "outputs": [
    {
     "data": {
      "text/plain": [
       "0                         https://pastebin.com/raw/kbZ76udp\n",
       "1                         https://pastebin.com/raw/4hE4khVS\n",
       "2         https://sercon.com.mx/goldeven/ybuild_encrypte...\n",
       "3         https://sercon.com.mx/eaglo/build_encrypted_D0...\n",
       "4                https://sercon.com.mx/seive/Confutesf7.exe\n",
       "                                ...                        \n",
       "324458    http://www.plastischechirurgie.net/gesicht/fac...\n",
       "324459    http://www.plastischechirurgie.net/haartranspl...\n",
       "324460    http://www.plastischechirurgie.net/korper/gyna...\n",
       "324461    http://dl.get1993desk.com/n/50517366/RealPlaye...\n",
       "324462    http://fb.com.accounts.login.userid.492739.fbs...\n",
       "Length: 324463, dtype: object"
      ]
     },
     "execution_count": 225,
     "metadata": {},
     "output_type": "execute_result"
    }
   ],
   "source": [
    "urls"
   ]
  },
  {
   "cell_type": "code",
   "execution_count": 226,
   "metadata": {},
   "outputs": [
    {
     "data": {
      "text/plain": [
       "0                  210.37.11.238/jm32/includes/site/bot.exe\n",
       "1               210.37.11.238/jm32/includes/site/config.bin\n",
       "2                 210.37.11.238/jm32/includes/site/gate.php\n",
       "3                   3addictions.com.au/Attach/kings/bot.exe\n",
       "4                   3addictions.com.au/Attach/kings/cfg.bin\n",
       "                                ...                        \n",
       "315572        www.vigny.fr/modules/mod_footer/tmpl/gate.php\n",
       "315573        yapanyapi.com/katolog/thumbs/panel/config.jpg\n",
       "315574          yapanyapi.com/katolog/thumbs/panel/gate.php\n",
       "315575    yasamaugrasi.com/wp-includes/images/media/conf...\n",
       "315576    yasamaugrasi.com/wp-includes/images/media/sock...\n",
       "Length: 315577, dtype: object"
      ]
     },
     "execution_count": 226,
     "metadata": {},
     "output_type": "execute_result"
    }
   ],
   "source": [
    "urls.drop_duplicates(inplace=True)\n",
    "urls.sort_values(inplace=True, ignore_index=True)\n",
    "urls.reset_index(inplace=True, drop=True)\n",
    "urls"
   ]
  },
  {
   "cell_type": "code",
   "execution_count": 238,
   "metadata": {},
   "outputs": [
    {
     "ename": "AttributeError",
     "evalue": "'URL' object has no attribute 'hostname'",
     "output_type": "error",
     "traceback": [
      "\u001b[0;31m\u001b[0m",
      "\u001b[0;31mAttributeError\u001b[0mTraceback (most recent call last)",
      "\u001b[0;32m<ipython-input-238-900448692047>\u001b[0m in \u001b[0;36m<module>\u001b[0;34m\u001b[0m\n\u001b[1;32m     19\u001b[0m         \u001b[0;32mbreak\u001b[0m\u001b[0;34m\u001b[0m\u001b[0;34m\u001b[0m\u001b[0m\n\u001b[1;32m     20\u001b[0m \u001b[0;34m\u001b[0m\u001b[0m\n\u001b[0;32m---> 21\u001b[0;31m     \u001b[0;32mif\u001b[0m \u001b[0;32mnot\u001b[0m \u001b[0mp\u001b[0m\u001b[0;34m.\u001b[0m\u001b[0mmatch\u001b[0m\u001b[0;34m(\u001b[0m\u001b[0my\u001b[0m\u001b[0;34m.\u001b[0m\u001b[0mhostname\u001b[0m\u001b[0;34m)\u001b[0m\u001b[0;34m:\u001b[0m\u001b[0;34m\u001b[0m\u001b[0;34m\u001b[0m\u001b[0m\n\u001b[0m\u001b[1;32m     22\u001b[0m         \u001b[0mts\u001b[0m\u001b[0;34m.\u001b[0m\u001b[0mappend\u001b[0m\u001b[0;34m(\u001b[0m\u001b[0murl\u001b[0m\u001b[0;34m)\u001b[0m\u001b[0;34m\u001b[0m\u001b[0;34m\u001b[0m\u001b[0m\n\u001b[1;32m     23\u001b[0m         \u001b[0mprint\u001b[0m\u001b[0;34m(\u001b[0m\u001b[0my\u001b[0m\u001b[0;34m)\u001b[0m\u001b[0;34m\u001b[0m\u001b[0;34m\u001b[0m\u001b[0m\n",
      "\u001b[0;31mAttributeError\u001b[0m: 'URL' object has no attribute 'hostname'"
     ]
    }
   ],
   "source": [
    "ts = []\n",
    "urls2 = []\n",
    "\n",
    "p = re.compile(r'^[.\\w-]+$')\n",
    "bar = pyprind.ProgBar(len(urls), width=60)\n",
    "\n",
    "for i, url in urls.iteritems():\n",
    "    bar.update()\n",
    "    \n",
    "    if not (url.startswith('http://') or url.startswith('https://') or url.startswith('ftp://')):\n",
    "        if '://' in url:\n",
    "            pass\n",
    "            #print('!!!!!!!!!!!!!!!!!!!!', url)\n",
    "        url = 'http://%s' % url.strip()\n",
    "    \n",
    "    y = yarl.URL(url)\n",
    "    if not y.is_absolute():\n",
    "        print(url)\n",
    "        break\n",
    "\n",
    "    if not p.match(y.):\n",
    "        ts.append(url)\n",
    "        print(y)\n",
    "    if '.' not in y.hostname:\n",
    "        ts.append(url)\n",
    "        print(y)\n",
    "    if not y.path and not y.params and not y.query and not y.fragment:\n",
    "        print(y)"
   ]
  },
  {
   "cell_type": "code",
   "execution_count": 228,
   "metadata": {},
   "outputs": [
    {
     "data": {
      "text/plain": [
       "[]"
      ]
     },
     "execution_count": 228,
     "metadata": {},
     "output_type": "execute_result"
    }
   ],
   "source": [
    "urls.to_csv('')"
   ]
  },
  {
   "cell_type": "code",
   "execution_count": 242,
   "metadata": {},
   "outputs": [],
   "source": [
    "urls.to_csv('data/merged/malware.csv', index=False)"
   ]
  },
  {
   "cell_type": "code",
   "execution_count": 241,
   "metadata": {},
   "outputs": [
    {
     "data": {
      "text/plain": [
       "'bot.exe'"
      ]
     },
     "execution_count": 241,
     "metadata": {},
     "output_type": "execute_result"
    }
   ],
   "source": []
  },
  {
   "cell_type": "code",
   "execution_count": null,
   "metadata": {},
   "outputs": [],
   "source": []
  }
 ],
 "metadata": {
  "kernelspec": {
   "display_name": "Python 3",
   "language": "python",
   "name": "python3"
  },
  "language_info": {
   "codemirror_mode": {
    "name": "ipython",
    "version": 3
   },
   "file_extension": ".py",
   "mimetype": "text/x-python",
   "name": "python",
   "nbconvert_exporter": "python",
   "pygments_lexer": "ipython3",
   "version": "3.6.9"
  }
 },
 "nbformat": 4,
 "nbformat_minor": 4
}
