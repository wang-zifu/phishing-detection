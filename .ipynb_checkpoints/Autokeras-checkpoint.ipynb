{
 "cells": [
  {
   "cell_type": "code",
   "execution_count": null,
   "metadata": {},
   "outputs": [],
   "source": [
    "import numpy as np\n",
    "import pandas as pd\n",
    "\n",
    "import autokeras as ak\n",
    "from sklearn.model_selection import train_test_split"
   ]
  },
  {
   "cell_type": "code",
   "execution_count": null,
   "metadata": {},
   "outputs": [],
   "source": [
    "X_train = pd.read_csv('dataset/url_legitimates.csv').dropna()[:40000]\n",
    "y_train = pd.Series(np.zeros((len(X_train),)), dtype=np.int)\n",
    "\n",
    "X_train = pd.concat([X_train, pd.read_csv('dataset/domain_legitimates.csv').dropna()[:40000]]).reset_index(drop=True)\n",
    "y_train = pd.concat([y_train, pd.Series(np.zeros((len(X_train) - len(y_train),)), dtype=np.int)], ignore_index=True)\n",
    "\n",
    "X_train = pd.concat([X_train, pd.read_csv('dataset/url_phishings.csv').dropna()[:40000]]).reset_index(drop=True)\n",
    "y_train = pd.concat([y_train, pd.Series(np.ones((len(X_train) - len(y_train),)), dtype=np.int)], ignore_index=True)\n",
    "\n",
    "X_train = pd.concat([X_train, pd.read_csv('dataset/domain_phishings.csv').dropna()[:40000]]).reset_index(drop=True)\n",
    "y_train = pd.concat([y_train, pd.Series(np.ones((len(X_train) - len(y_train),)), dtype=np.int)], ignore_index=True)"
   ]
  },
  {
   "cell_type": "code",
   "execution_count": null,
   "metadata": {},
   "outputs": [],
   "source": [
    "bool_cols = ['domain_is_ip', 'path_percent20_in', 'path_single_char_dir_in', 'path_upper_dir_in']\n",
    "for col in bool_cols:\n",
    "    X_train[col] = X_train[col].astype(np.int)"
   ]
  },
  {
   "cell_type": "code",
   "execution_count": null,
   "metadata": {},
   "outputs": [],
   "source": [
    "X_train, X_test, y_train, y_test = train_test_split(X_train.to_numpy(), y_train.to_numpy())"
   ]
  },
  {
   "cell_type": "code",
   "execution_count": null,
   "metadata": {},
   "outputs": [],
   "source": [
    "def text_to_int_sequence_classification(X_train, X_test, y_train, y_test):\n",
    "    input_node = ak.TextInput()\n",
    "    output_node = ak.TextToIntSequence()(input_node)\n",
    "    output_node = ak.Embedding(max_features=20001)(output_node)\n",
    "    output_node = ak.ConvBlock(separable=True)(output_node)\n",
    "    output_node = ak.SpatialReduction()(output_node)\n",
    "    output_node = ak.DenseBlock()(output_node)\n",
    "    output_node = ak.ClassificationHead()(output_node)\n",
    "    return ak.AutoModel(inputs=input_node, outputs=output_node)\n",
    "\n",
    "def text_to_ngram_vector_classicfication(X_train, X_test, y_train, y_test):\n",
    "    input_node = ak.TextInput()\n",
    "    output_node = ak.TextToNgramVector()(input_node)\n",
    "    #output_node = ak.ConvBlock(separable=True)(output_node)\n",
    "    output_node = ak.DenseBlock()(output_node)\n",
    "    output_node = ak.ClassificationHead()(output_node)\n",
    "    return ak.AutoModel(inputs=input_node, outputs=output_node)"
   ]
  },
  {
   "cell_type": "code",
   "execution_count": null,
   "metadata": {},
   "outputs": [
    {
     "name": "stdout",
     "output_type": "stream",
     "text": [
      "Train for 3000 steps, validate for 750 steps\n",
      "Epoch 1/1000\n",
      "3000/3000 - 36s - loss: 0.6317 - accuracy: 0.9560 - val_loss: 0.0976 - val_accuracy: 0.9875\n",
      "Epoch 2/1000\n",
      "3000/3000 - 34s - loss: 0.1177 - accuracy: 0.9834 - val_loss: 0.1050 - val_accuracy: 0.9877\n",
      "Epoch 3/1000\n",
      "3000/3000 - 33s - loss: 0.0647 - accuracy: 0.9881 - val_loss: 0.0955 - val_accuracy: 0.9880\n",
      "Epoch 4/1000\n",
      "3000/3000 - 33s - loss: 0.0533 - accuracy: 0.9893 - val_loss: 0.0405 - val_accuracy: 0.9922\n",
      "Epoch 5/1000\n",
      "3000/3000 - 32s - loss: 0.0284 - accuracy: 0.9931 - val_loss: 0.0168 - val_accuracy: 0.9957\n",
      "Epoch 6/1000\n",
      "3000/3000 - 29s - loss: 0.0197 - accuracy: 0.9954 - val_loss: 0.0057 - val_accuracy: 0.9983\n",
      "Epoch 7/1000\n",
      "3000/3000 - 28s - loss: 0.0162 - accuracy: 0.9961 - val_loss: 0.0106 - val_accuracy: 0.9977\n",
      "Epoch 8/1000\n",
      "3000/3000 - 28s - loss: 0.0113 - accuracy: 0.9972 - val_loss: 0.0087 - val_accuracy: 0.9985\n",
      "Epoch 9/1000\n",
      "3000/3000 - 28s - loss: 0.0093 - accuracy: 0.9978 - val_loss: 0.0046 - val_accuracy: 0.9987\n",
      "Epoch 10/1000\n",
      "3000/3000 - 31s - loss: 0.0104 - accuracy: 0.9975 - val_loss: 0.0058 - val_accuracy: 0.9983\n",
      "Epoch 11/1000\n",
      "3000/3000 - 28s - loss: 0.0105 - accuracy: 0.9978 - val_loss: 0.0037 - val_accuracy: 0.9990\n",
      "Epoch 12/1000\n",
      "3000/3000 - 28s - loss: 0.0058 - accuracy: 0.9987 - val_loss: 0.0063 - val_accuracy: 0.9984\n",
      "Epoch 13/1000\n",
      "3000/3000 - 34s - loss: 0.0055 - accuracy: 0.9988 - val_loss: 0.0073 - val_accuracy: 0.9986\n",
      "Epoch 14/1000\n",
      "3000/3000 - 34s - loss: 0.0058 - accuracy: 0.9987 - val_loss: 0.0057 - val_accuracy: 0.9987\n",
      "Epoch 15/1000\n",
      "3000/3000 - 35s - loss: 0.0052 - accuracy: 0.9988 - val_loss: 0.0017 - val_accuracy: 0.9996\n",
      "Epoch 16/1000\n",
      "3000/3000 - 33s - loss: 0.0044 - accuracy: 0.9990 - val_loss: 0.0017 - val_accuracy: 0.9995\n",
      "Epoch 17/1000\n",
      "3000/3000 - 30s - loss: 0.0049 - accuracy: 0.9989 - val_loss: 0.0054 - val_accuracy: 0.9989\n",
      "Epoch 18/1000\n",
      "3000/3000 - 29s - loss: 0.0048 - accuracy: 0.9989 - val_loss: 0.0027 - val_accuracy: 0.9991\n",
      "Epoch 19/1000\n",
      "3000/3000 - 27s - loss: 0.0052 - accuracy: 0.9990 - val_loss: 0.0016 - val_accuracy: 0.9995\n",
      "Epoch 20/1000\n",
      "3000/3000 - 30s - loss: 0.0048 - accuracy: 0.9989 - val_loss: 0.0017 - val_accuracy: 0.9995\n",
      "Epoch 21/1000\n",
      "3000/3000 - 34s - loss: 0.0041 - accuracy: 0.9990 - val_loss: 0.0096 - val_accuracy: 0.9977\n",
      "Epoch 22/1000\n",
      "3000/3000 - 34s - loss: 0.0035 - accuracy: 0.9992 - val_loss: 0.0055 - val_accuracy: 0.9989\n",
      "Epoch 23/1000\n",
      "3000/3000 - 38s - loss: 0.0036 - accuracy: 0.9992 - val_loss: 0.0052 - val_accuracy: 0.9993\n",
      "Epoch 24/1000\n",
      "3000/3000 - 37s - loss: 0.0031 - accuracy: 0.9993 - val_loss: 0.0014 - val_accuracy: 0.9997\n",
      "Epoch 25/1000\n",
      "3000/3000 - 33s - loss: 0.0039 - accuracy: 0.9992 - val_loss: 0.0097 - val_accuracy: 0.9986\n",
      "Epoch 26/1000\n",
      "3000/3000 - 35s - loss: 0.0066 - accuracy: 0.9987 - val_loss: 0.0015 - val_accuracy: 0.9997\n",
      "Epoch 27/1000\n",
      "3000/3000 - 35s - loss: 0.0038 - accuracy: 0.9992 - val_loss: 0.0025 - val_accuracy: 0.9995\n",
      "Epoch 28/1000\n",
      "3000/3000 - 35s - loss: 0.0042 - accuracy: 0.9992 - val_loss: 0.0016 - val_accuracy: 0.9997\n",
      "Epoch 29/1000\n",
      "3000/3000 - 33s - loss: 0.0033 - accuracy: 0.9994 - val_loss: 0.0014 - val_accuracy: 0.9997\n",
      "Epoch 30/1000\n",
      "3000/3000 - 30s - loss: 0.0037 - accuracy: 0.9991 - val_loss: 0.0019 - val_accuracy: 0.9996\n",
      "Epoch 31/1000\n",
      "3000/3000 - 26s - loss: 0.0034 - accuracy: 0.9993 - val_loss: 0.0017 - val_accuracy: 0.9997\n",
      "Epoch 32/1000\n",
      "3000/3000 - 26s - loss: 0.0032 - accuracy: 0.9993 - val_loss: 0.0014 - val_accuracy: 0.9998\n",
      "Epoch 33/1000\n",
      "3000/3000 - 25s - loss: 0.0042 - accuracy: 0.9992 - val_loss: 0.0015 - val_accuracy: 0.9998\n",
      "Epoch 34/1000\n",
      "3000/3000 - 31s - loss: 0.0042 - accuracy: 0.9991 - val_loss: 0.0056 - val_accuracy: 0.9988\n",
      "Epoch 35/1000\n",
      "3000/3000 - 34s - loss: 0.0028 - accuracy: 0.9994 - val_loss: 0.0020 - val_accuracy: 0.9995\n",
      "Epoch 36/1000\n",
      "3000/3000 - 34s - loss: 0.0039 - accuracy: 0.9991 - val_loss: 0.0034 - val_accuracy: 0.9993\n",
      "Epoch 37/1000\n",
      "3000/3000 - 37s - loss: 0.0042 - accuracy: 0.9992 - val_loss: 0.0018 - val_accuracy: 0.9996\n",
      "Epoch 38/1000\n",
      "3000/3000 - 37s - loss: 0.0038 - accuracy: 0.9992 - val_loss: 0.0021 - val_accuracy: 0.9996\n",
      "Epoch 39/1000\n",
      "3000/3000 - 38s - loss: 0.0040 - accuracy: 0.9992 - val_loss: 0.0014 - val_accuracy: 0.9997\n"
     ]
    },
    {
     "data": {
      "text/html": [
       "<span style=\"color:#4527A0\"><h1 style=\"font-size:18px\">Trial complete</h1></span>"
      ],
      "text/plain": [
       "<IPython.core.display.HTML object>"
      ]
     },
     "metadata": {},
     "output_type": "display_data"
    },
    {
     "data": {
      "text/html": [
       "<span style=\"color:#4527A0\"><h1 style=\"font-size:18px\">Trial summary</h1></span>"
      ],
      "text/plain": [
       "<IPython.core.display.HTML object>"
      ]
     },
     "metadata": {},
     "output_type": "display_data"
    },
    {
     "data": {
      "text/html": [
       "<span style=\"color:cyan\"> |-Trial ID: fa149c8c40245ab3192e615eb0a2b186</span>"
      ],
      "text/plain": [
       "<IPython.core.display.HTML object>"
      ]
     },
     "metadata": {},
     "output_type": "display_data"
    },
    {
     "data": {
      "text/html": [
       "<span style=\"color:cyan\"> |-Score: 0.999750018119812</span>"
      ],
      "text/plain": [
       "<IPython.core.display.HTML object>"
      ]
     },
     "metadata": {},
     "output_type": "display_data"
    },
    {
     "data": {
      "text/html": [
       "<span style=\"color:cyan\"> |-Best step: 0</span>"
      ],
      "text/plain": [
       "<IPython.core.display.HTML object>"
      ]
     },
     "metadata": {},
     "output_type": "display_data"
    },
    {
     "data": {
      "text/html": [
       "<span style=\"color:#7E57C2\"><h2 style=\"font-size:16px\">Hyperparameters:</h2></span>"
      ],
      "text/plain": [
       "<IPython.core.display.HTML object>"
      ]
     },
     "metadata": {},
     "output_type": "display_data"
    },
    {
     "data": {
      "text/html": [
       "<span style=\"color:cyan\"> |-classification_head_2/dropout_rate: 0</span>"
      ],
      "text/plain": [
       "<IPython.core.display.HTML object>"
      ]
     },
     "metadata": {},
     "output_type": "display_data"
    },
    {
     "data": {
      "text/html": [
       "<span style=\"color:blue\"> |-optimizer: adam</span>"
      ],
      "text/plain": [
       "<IPython.core.display.HTML object>"
      ]
     },
     "metadata": {},
     "output_type": "display_data"
    },
    {
     "data": {
      "text/html": [
       "<span style=\"color:cyan\"> |-structured_data_block_1/dense_block_1/dropout_rate: 0</span>"
      ],
      "text/plain": [
       "<IPython.core.display.HTML object>"
      ]
     },
     "metadata": {},
     "output_type": "display_data"
    },
    {
     "data": {
      "text/html": [
       "<span style=\"color:blue\"> |-structured_data_block_1/dense_block_1/num_layers: 2</span>"
      ],
      "text/plain": [
       "<IPython.core.display.HTML object>"
      ]
     },
     "metadata": {},
     "output_type": "display_data"
    },
    {
     "data": {
      "text/html": [
       "<span style=\"color:cyan\"> |-structured_data_block_1/dense_block_1/units_0: 32</span>"
      ],
      "text/plain": [
       "<IPython.core.display.HTML object>"
      ]
     },
     "metadata": {},
     "output_type": "display_data"
    },
    {
     "data": {
      "text/html": [
       "<span style=\"color:blue\"> |-structured_data_block_1/dense_block_1/units_1: 32</span>"
      ],
      "text/plain": [
       "<IPython.core.display.HTML object>"
      ]
     },
     "metadata": {},
     "output_type": "display_data"
    },
    {
     "data": {
      "text/html": [
       "<span style=\"color:cyan\"> |-structured_data_block_1/dense_block_1/use_batchnorm: False</span>"
      ],
      "text/plain": [
       "<IPython.core.display.HTML object>"
      ]
     },
     "metadata": {},
     "output_type": "display_data"
    },
    {
     "name": "stdout",
     "output_type": "stream",
     "text": [
      "Train for 3000 steps, validate for 750 steps\n",
      "Epoch 1/1000\n",
      "3000/3000 - 41s - loss: 0.0339 - accuracy: 0.9896 - val_loss: 0.0156 - val_accuracy: 0.9962\n",
      "Epoch 2/1000\n",
      "3000/3000 - 39s - loss: 0.0097 - accuracy: 0.9974 - val_loss: 0.0114 - val_accuracy: 0.9974\n",
      "Epoch 3/1000\n",
      "3000/3000 - 39s - loss: 0.0056 - accuracy: 0.9985 - val_loss: 0.0023 - val_accuracy: 0.9995\n",
      "Epoch 4/1000\n",
      "3000/3000 - 38s - loss: 0.0042 - accuracy: 0.9989 - val_loss: 0.0026 - val_accuracy: 0.9994\n",
      "Epoch 5/1000\n",
      "3000/3000 - 39s - loss: 0.0030 - accuracy: 0.9993 - val_loss: 0.0030 - val_accuracy: 0.9992\n",
      "Epoch 6/1000\n",
      "3000/3000 - 37s - loss: 0.0024 - accuracy: 0.9993 - val_loss: 0.0039 - val_accuracy: 0.9986\n",
      "Epoch 7/1000\n",
      "3000/3000 - 34s - loss: 0.0026 - accuracy: 0.9993 - val_loss: 0.9481 - val_accuracy: 0.7937\n",
      "Epoch 8/1000\n",
      "3000/3000 - 33s - loss: 0.0017 - accuracy: 0.9996 - val_loss: 6.0457e-04 - val_accuracy: 0.9998\n",
      "Epoch 9/1000\n",
      "3000/3000 - 31s - loss: 0.0020 - accuracy: 0.9994 - val_loss: 7.8619e-04 - val_accuracy: 0.9998\n",
      "Epoch 10/1000\n",
      "3000/3000 - 31s - loss: 0.0013 - accuracy: 0.9997 - val_loss: 9.0967e-04 - val_accuracy: 0.9997\n",
      "Epoch 11/1000\n",
      "3000/3000 - 30s - loss: 0.0010 - accuracy: 0.9997 - val_loss: 0.0154 - val_accuracy: 0.9936\n",
      "Epoch 12/1000\n",
      "3000/3000 - 36s - loss: 0.0010 - accuracy: 0.9997 - val_loss: 7.7876e-04 - val_accuracy: 0.9997\n",
      "Epoch 13/1000\n",
      "3000/3000 - 36s - loss: 6.8204e-04 - accuracy: 0.9999 - val_loss: 0.0023 - val_accuracy: 0.9996\n",
      "Epoch 14/1000\n",
      "3000/3000 - 35s - loss: 7.9952e-04 - accuracy: 0.9997 - val_loss: 0.0010 - val_accuracy: 0.9998\n",
      "Epoch 15/1000\n",
      "3000/3000 - 36s - loss: 9.2998e-04 - accuracy: 0.9998 - val_loss: 6.5932e-04 - val_accuracy: 0.9998\n",
      "Epoch 16/1000\n",
      "3000/3000 - 36s - loss: 3.9866e-04 - accuracy: 0.9999 - val_loss: 5.3324e-04 - val_accuracy: 0.9998\n",
      "Epoch 17/1000\n",
      "3000/3000 - 37s - loss: 6.7196e-04 - accuracy: 0.9998 - val_loss: 6.1121e-04 - val_accuracy: 0.9999\n",
      "Epoch 18/1000\n",
      "3000/3000 - 37s - loss: 8.3634e-04 - accuracy: 0.9998 - val_loss: 5.7076e-04 - val_accuracy: 0.9998\n",
      "Epoch 19/1000\n",
      "3000/3000 - 36s - loss: 4.7811e-05 - accuracy: 1.0000 - val_loss: 8.7410e-04 - val_accuracy: 0.9998\n",
      "Epoch 20/1000\n",
      "3000/3000 - 38s - loss: 0.0011 - accuracy: 0.9998 - val_loss: 9.1771e-04 - val_accuracy: 0.9998\n",
      "Epoch 21/1000\n",
      "3000/3000 - 34s - loss: 1.8747e-04 - accuracy: 1.0000 - val_loss: 9.2034e-04 - val_accuracy: 0.9998\n",
      "Epoch 22/1000\n",
      "3000/3000 - 32s - loss: 7.3844e-04 - accuracy: 0.9998 - val_loss: 4.8052e-04 - val_accuracy: 0.9998\n",
      "Epoch 23/1000\n",
      "3000/3000 - 29s - loss: 5.0302e-04 - accuracy: 0.9999 - val_loss: 5.2275e-04 - val_accuracy: 0.9998\n",
      "Epoch 24/1000\n",
      "3000/3000 - 42s - loss: 6.6026e-05 - accuracy: 1.0000 - val_loss: 6.0304e-04 - val_accuracy: 0.9998\n",
      "Epoch 25/1000\n",
      "3000/3000 - 38s - loss: 2.0615e-06 - accuracy: 1.0000 - val_loss: 6.9313e-04 - val_accuracy: 0.9998\n",
      "Epoch 26/1000\n",
      "3000/3000 - 39s - loss: 3.7095e-07 - accuracy: 1.0000 - val_loss: 7.9704e-04 - val_accuracy: 0.9998\n",
      "Epoch 27/1000\n",
      "3000/3000 - 38s - loss: 1.5937e-07 - accuracy: 1.0000 - val_loss: 0.0014 - val_accuracy: 0.9998\n",
      "Epoch 28/1000\n",
      "3000/3000 - 38s - loss: 0.0013 - accuracy: 0.9998 - val_loss: 6.1591e-04 - val_accuracy: 0.9998\n",
      "Epoch 29/1000\n",
      "3000/3000 - 38s - loss: 4.6027e-04 - accuracy: 0.9999 - val_loss: 0.0013 - val_accuracy: 0.9998\n",
      "Epoch 30/1000\n",
      "3000/3000 - 40s - loss: 2.9011e-04 - accuracy: 0.9999 - val_loss: 0.0026 - val_accuracy: 0.9997\n",
      "Epoch 31/1000\n",
      "3000/3000 - 38s - loss: 0.0011 - accuracy: 0.9998 - val_loss: 0.0012 - val_accuracy: 0.9998\n",
      "Epoch 32/1000\n",
      "3000/3000 - 36s - loss: 3.5986e-06 - accuracy: 1.0000 - val_loss: 0.0016 - val_accuracy: 0.9998\n"
     ]
    },
    {
     "data": {
      "text/html": [
       "<span style=\"color:#4527A0\"><h1 style=\"font-size:18px\">Trial complete</h1></span>"
      ],
      "text/plain": [
       "<IPython.core.display.HTML object>"
      ]
     },
     "metadata": {},
     "output_type": "display_data"
    },
    {
     "data": {
      "text/html": [
       "<span style=\"color:#4527A0\"><h1 style=\"font-size:18px\">Trial summary</h1></span>"
      ],
      "text/plain": [
       "<IPython.core.display.HTML object>"
      ]
     },
     "metadata": {},
     "output_type": "display_data"
    },
    {
     "data": {
      "text/html": [
       "<span style=\"color:cyan\"> |-Trial ID: 6523d81422f51c6e22c8a1242506ff2f</span>"
      ],
      "text/plain": [
       "<IPython.core.display.HTML object>"
      ]
     },
     "metadata": {},
     "output_type": "display_data"
    },
    {
     "data": {
      "text/html": [
       "<span style=\"color:cyan\"> |-Score: 0.999875009059906</span>"
      ],
      "text/plain": [
       "<IPython.core.display.HTML object>"
      ]
     },
     "metadata": {},
     "output_type": "display_data"
    },
    {
     "data": {
      "text/html": [
       "<span style=\"color:cyan\"> |-Best step: 0</span>"
      ],
      "text/plain": [
       "<IPython.core.display.HTML object>"
      ]
     },
     "metadata": {},
     "output_type": "display_data"
    },
    {
     "data": {
      "text/html": [
       "<span style=\"color:#7E57C2\"><h2 style=\"font-size:16px\">Hyperparameters:</h2></span>"
      ],
      "text/plain": [
       "<IPython.core.display.HTML object>"
      ]
     },
     "metadata": {},
     "output_type": "display_data"
    },
    {
     "data": {
      "text/html": [
       "<span style=\"color:cyan\"> |-classification_head_2/dropout_rate: 0</span>"
      ],
      "text/plain": [
       "<IPython.core.display.HTML object>"
      ]
     },
     "metadata": {},
     "output_type": "display_data"
    },
    {
     "data": {
      "text/html": [
       "<span style=\"color:blue\"> |-optimizer: adam</span>"
      ],
      "text/plain": [
       "<IPython.core.display.HTML object>"
      ]
     },
     "metadata": {},
     "output_type": "display_data"
    },
    {
     "data": {
      "text/html": [
       "<span style=\"color:cyan\"> |-structured_data_block_1/dense_block_1/dropout_rate: 0.0</span>"
      ],
      "text/plain": [
       "<IPython.core.display.HTML object>"
      ]
     },
     "metadata": {},
     "output_type": "display_data"
    },
    {
     "data": {
      "text/html": [
       "<span style=\"color:blue\"> |-structured_data_block_1/dense_block_1/num_layers: 2</span>"
      ],
      "text/plain": [
       "<IPython.core.display.HTML object>"
      ]
     },
     "metadata": {},
     "output_type": "display_data"
    },
    {
     "data": {
      "text/html": [
       "<span style=\"color:cyan\"> |-structured_data_block_1/dense_block_1/units_0: 128</span>"
      ],
      "text/plain": [
       "<IPython.core.display.HTML object>"
      ]
     },
     "metadata": {},
     "output_type": "display_data"
    },
    {
     "data": {
      "text/html": [
       "<span style=\"color:blue\"> |-structured_data_block_1/dense_block_1/units_1: 1024</span>"
      ],
      "text/plain": [
       "<IPython.core.display.HTML object>"
      ]
     },
     "metadata": {},
     "output_type": "display_data"
    },
    {
     "data": {
      "text/html": [
       "<span style=\"color:cyan\"> |-structured_data_block_1/dense_block_1/use_batchnorm: True</span>"
      ],
      "text/plain": [
       "<IPython.core.display.HTML object>"
      ]
     },
     "metadata": {},
     "output_type": "display_data"
    },
    {
     "name": "stdout",
     "output_type": "stream",
     "text": [
      "Train for 3000 steps, validate for 750 steps\n",
      "Epoch 1/1000\n",
      "3000/3000 - 33s - loss: 0.0364 - accuracy: 0.9890 - val_loss: 0.1620 - val_accuracy: 0.9248\n",
      "Epoch 2/1000\n",
      "3000/3000 - 37s - loss: 0.0142 - accuracy: 0.9962 - val_loss: 0.0036 - val_accuracy: 0.9991\n",
      "Epoch 3/1000\n",
      "3000/3000 - 42s - loss: 0.0091 - accuracy: 0.9976 - val_loss: 0.6223 - val_accuracy: 0.8008\n",
      "Epoch 4/1000\n",
      "3000/3000 - 40s - loss: 0.0073 - accuracy: 0.9982 - val_loss: 0.0023 - val_accuracy: 0.9997\n",
      "Epoch 5/1000\n",
      "3000/3000 - 39s - loss: 0.0058 - accuracy: 0.9986 - val_loss: 0.0023 - val_accuracy: 0.9993\n",
      "Epoch 6/1000\n",
      "3000/3000 - 42s - loss: 0.0043 - accuracy: 0.9990 - val_loss: 0.0013 - val_accuracy: 0.9996\n",
      "Epoch 7/1000\n",
      "3000/3000 - 38s - loss: 0.0032 - accuracy: 0.9991 - val_loss: 0.0010 - val_accuracy: 0.9997\n",
      "Epoch 8/1000\n",
      "3000/3000 - 37s - loss: 0.0029 - accuracy: 0.9992 - val_loss: 0.0013 - val_accuracy: 0.9995\n",
      "Epoch 9/1000\n",
      "3000/3000 - 42s - loss: 0.0024 - accuracy: 0.9993 - val_loss: 0.0029 - val_accuracy: 0.9993\n",
      "Epoch 10/1000\n",
      "3000/3000 - 33s - loss: 0.0021 - accuracy: 0.9994 - val_loss: 7.8818e-04 - val_accuracy: 0.9997\n",
      "Epoch 11/1000\n",
      "3000/3000 - 29s - loss: 0.0016 - accuracy: 0.9995 - val_loss: 9.1275e-04 - val_accuracy: 0.9997\n",
      "Epoch 12/1000\n",
      "3000/3000 - 31s - loss: 0.0018 - accuracy: 0.9995 - val_loss: 0.0013 - val_accuracy: 0.9997\n",
      "Epoch 13/1000\n",
      "3000/3000 - 30s - loss: 0.0018 - accuracy: 0.9995 - val_loss: 0.0018 - val_accuracy: 0.9995\n",
      "Epoch 14/1000\n",
      "3000/3000 - 29s - loss: 0.0014 - accuracy: 0.9995 - val_loss: 0.0014 - val_accuracy: 0.9996\n",
      "Epoch 15/1000\n",
      "3000/3000 - 35s - loss: 8.3644e-04 - accuracy: 0.9997 - val_loss: 8.2602e-04 - val_accuracy: 0.9998\n",
      "Epoch 16/1000\n",
      "3000/3000 - 38s - loss: 0.0012 - accuracy: 0.9997 - val_loss: 0.0016 - val_accuracy: 0.9994\n",
      "Epoch 17/1000\n",
      "3000/3000 - 38s - loss: 8.3492e-04 - accuracy: 0.9998 - val_loss: 0.0018 - val_accuracy: 0.9996\n",
      "Epoch 18/1000\n",
      "3000/3000 - 38s - loss: 9.1342e-04 - accuracy: 0.9998 - val_loss: 5.7974e-04 - val_accuracy: 0.9998\n",
      "Epoch 19/1000\n",
      "3000/3000 - 33s - loss: 0.0012 - accuracy: 0.9997 - val_loss: 0.0011 - val_accuracy: 0.9998\n",
      "Epoch 20/1000\n",
      "3000/3000 - 31s - loss: 4.4257e-04 - accuracy: 0.9999 - val_loss: 0.0012 - val_accuracy: 0.9998\n",
      "Epoch 21/1000\n",
      "3000/3000 - 30s - loss: 0.0012 - accuracy: 0.9996 - val_loss: 8.4388e-04 - val_accuracy: 0.9997\n",
      "Epoch 22/1000\n",
      "3000/3000 - 29s - loss: 4.1974e-04 - accuracy: 0.9999 - val_loss: 0.0012 - val_accuracy: 0.9998\n",
      "Epoch 23/1000\n",
      "3000/3000 - 29s - loss: 7.6062e-04 - accuracy: 0.9997 - val_loss: 9.8604e-04 - val_accuracy: 0.9997\n",
      "Epoch 24/1000\n",
      "3000/3000 - 33s - loss: 8.1745e-04 - accuracy: 0.9998 - val_loss: 0.0014 - val_accuracy: 0.9997\n",
      "Epoch 25/1000\n",
      "3000/3000 - 43s - loss: 6.6849e-04 - accuracy: 0.9998 - val_loss: 9.7572e-04 - val_accuracy: 0.9998\n",
      "Epoch 26/1000\n",
      "3000/3000 - 40s - loss: 4.3659e-04 - accuracy: 0.9999 - val_loss: 0.0024 - val_accuracy: 0.9995\n",
      "Epoch 27/1000\n",
      "3000/3000 - 43s - loss: 5.5661e-04 - accuracy: 0.9998 - val_loss: 9.6579e-04 - val_accuracy: 0.9997\n",
      "Epoch 28/1000\n",
      "3000/3000 - 39s - loss: 5.9383e-04 - accuracy: 0.9999 - val_loss: 9.7925e-04 - val_accuracy: 0.9998\n"
     ]
    },
    {
     "data": {
      "text/html": [
       "<span style=\"color:#4527A0\"><h1 style=\"font-size:18px\">Trial complete</h1></span>"
      ],
      "text/plain": [
       "<IPython.core.display.HTML object>"
      ]
     },
     "metadata": {},
     "output_type": "display_data"
    },
    {
     "data": {
      "text/html": [
       "<span style=\"color:#4527A0\"><h1 style=\"font-size:18px\">Trial summary</h1></span>"
      ],
      "text/plain": [
       "<IPython.core.display.HTML object>"
      ]
     },
     "metadata": {},
     "output_type": "display_data"
    },
    {
     "data": {
      "text/html": [
       "<span style=\"color:cyan\"> |-Trial ID: d77c01b002298d927cef3397b7f7ca5f</span>"
      ],
      "text/plain": [
       "<IPython.core.display.HTML object>"
      ]
     },
     "metadata": {},
     "output_type": "display_data"
    },
    {
     "data": {
      "text/html": [
       "<span style=\"color:cyan\"> |-Score: 0.999833345413208</span>"
      ],
      "text/plain": [
       "<IPython.core.display.HTML object>"
      ]
     },
     "metadata": {},
     "output_type": "display_data"
    },
    {
     "data": {
      "text/html": [
       "<span style=\"color:cyan\"> |-Best step: 0</span>"
      ],
      "text/plain": [
       "<IPython.core.display.HTML object>"
      ]
     },
     "metadata": {},
     "output_type": "display_data"
    },
    {
     "data": {
      "text/html": [
       "<span style=\"color:#7E57C2\"><h2 style=\"font-size:16px\">Hyperparameters:</h2></span>"
      ],
      "text/plain": [
       "<IPython.core.display.HTML object>"
      ]
     },
     "metadata": {},
     "output_type": "display_data"
    },
    {
     "data": {
      "text/html": [
       "<span style=\"color:cyan\"> |-classification_head_2/dropout_rate: 0</span>"
      ],
      "text/plain": [
       "<IPython.core.display.HTML object>"
      ]
     },
     "metadata": {},
     "output_type": "display_data"
    },
    {
     "data": {
      "text/html": [
       "<span style=\"color:blue\"> |-optimizer: adam</span>"
      ],
      "text/plain": [
       "<IPython.core.display.HTML object>"
      ]
     },
     "metadata": {},
     "output_type": "display_data"
    },
    {
     "data": {
      "text/html": [
       "<span style=\"color:cyan\"> |-structured_data_block_1/dense_block_1/dropout_rate: 0.25</span>"
      ],
      "text/plain": [
       "<IPython.core.display.HTML object>"
      ]
     },
     "metadata": {},
     "output_type": "display_data"
    },
    {
     "data": {
      "text/html": [
       "<span style=\"color:blue\"> |-structured_data_block_1/dense_block_1/num_layers: 2</span>"
      ],
      "text/plain": [
       "<IPython.core.display.HTML object>"
      ]
     },
     "metadata": {},
     "output_type": "display_data"
    },
    {
     "data": {
      "text/html": [
       "<span style=\"color:cyan\"> |-structured_data_block_1/dense_block_1/units_0: 1024</span>"
      ],
      "text/plain": [
       "<IPython.core.display.HTML object>"
      ]
     },
     "metadata": {},
     "output_type": "display_data"
    },
    {
     "data": {
      "text/html": [
       "<span style=\"color:blue\"> |-structured_data_block_1/dense_block_1/units_1: 1024</span>"
      ],
      "text/plain": [
       "<IPython.core.display.HTML object>"
      ]
     },
     "metadata": {},
     "output_type": "display_data"
    },
    {
     "data": {
      "text/html": [
       "<span style=\"color:cyan\"> |-structured_data_block_1/dense_block_1/use_batchnorm: True</span>"
      ],
      "text/plain": [
       "<IPython.core.display.HTML object>"
      ]
     },
     "metadata": {},
     "output_type": "display_data"
    },
    {
     "name": "stdout",
     "output_type": "stream",
     "text": [
      "Train for 3000 steps, validate for 750 steps\n",
      "Epoch 1/1000\n",
      "3000/3000 - 44s - loss: 0.0317 - accuracy: 0.9914 - val_loss: 0.0068 - val_accuracy: 0.9988\n",
      "Epoch 2/1000\n",
      "3000/3000 - 40s - loss: 0.0098 - accuracy: 0.9975 - val_loss: 0.0072 - val_accuracy: 0.9986\n",
      "Epoch 3/1000\n",
      "3000/3000 - 42s - loss: 0.0058 - accuracy: 0.9986 - val_loss: 0.0119 - val_accuracy: 0.9965\n",
      "Epoch 4/1000\n",
      "3000/3000 - 40s - loss: 0.0035 - accuracy: 0.9990 - val_loss: 0.0018 - val_accuracy: 0.9994\n",
      "Epoch 5/1000\n",
      "3000/3000 - 35s - loss: 0.0021 - accuracy: 0.9994 - val_loss: 0.0010 - val_accuracy: 0.9997\n",
      "Epoch 6/1000\n"
     ]
    }
   ],
   "source": [
    "clf = ak.StructuredDataClassifier()\n",
    "clf.fit(X_train, y_train, verbose=2)\n",
    "\n",
    "clf.evaluate(X_test, y_test)"
   ]
  },
  {
   "cell_type": "code",
   "execution_count": null,
   "metadata": {},
   "outputs": [],
   "source": []
  }
 ],
 "metadata": {
  "kernelspec": {
   "display_name": "Python 3",
   "language": "python",
   "name": "python3"
  },
  "language_info": {
   "codemirror_mode": {
    "name": "ipython",
    "version": 3
   },
   "file_extension": ".py",
   "mimetype": "text/x-python",
   "name": "python",
   "nbconvert_exporter": "python",
   "pygments_lexer": "ipython3",
   "version": "3.7.6"
  }
 },
 "nbformat": 4,
 "nbformat_minor": 4
}
