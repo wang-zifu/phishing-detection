{
 "cells": [
  {
   "cell_type": "code",
   "execution_count": null,
   "metadata": {},
   "outputs": [],
   "source": [
    "import numpy as np\n",
    "import pandas as pd"
   ]
  },
  {
   "cell_type": "code",
   "execution_count": 2,
   "metadata": {},
   "outputs": [],
   "source": [
    "def get_row(i,url, label):\n",
    "    url = url.strip()\n",
    "    if '\"' in url:\n",
    "        url = url.replace('\"', '\"\"')\n",
    "    if '\"' in url or ',' in url:\n",
    "        url = '\"%s\"' % url\n",
    "    return '%d,%s,%s\\n' % (i, url, 'legitimate')"
   ]
  },
  {
   "cell_type": "markdown",
   "metadata": {},
   "source": [
    "### URL29800 + DOMAIN98000"
   ]
  },
  {
   "cell_type": "code",
   "execution_count": 2,
   "metadata": {},
   "outputs": [],
   "source": [
    "N_URL = 149000\n",
    "N_DOMAIN = 49000\n",
    "N_URL_DOMAIN = N_URL + N_DOMAIN"
   ]
  },
  {
   "cell_type": "code",
   "execution_count": null,
   "metadata": {},
   "outputs": [],
   "source": [
    "urls = [x.strip() for x in\n",
    "        open('dataset/url_legitimates.txt').readlines()[:N_URL] + open('dataset/domain_legitimates.txt').readlines()[:N_URL] +\n",
    "        open('dataset/url_phishings.txt').readlines()[:N_DOMAIN] + open('dataset/domain_phishings.txt').readlines()[:N_DOMAIN]]\n",
    "urls = pd.Series(urls, dtype=str)\n",
    "urls"
   ]
  },
  {
   "cell_type": "code",
   "execution_count": null,
   "metadata": {},
   "outputs": [],
   "source": [
    "labels = ['legitimate'] * N_URL_DOMAIN + ['phishing'] * N_URL_DOMAIN\n",
    "labels = pd.Series(labels, dtype='category')\n",
    "labels"
   ]
  },
  {
   "cell_type": "code",
   "execution_count": 5,
   "metadata": {},
   "outputs": [
    {
     "data": {
      "text/html": [
       "<div>\n",
       "<style scoped>\n",
       "    .dataframe tbody tr th:only-of-type {\n",
       "        vertical-align: middle;\n",
       "    }\n",
       "\n",
       "    .dataframe tbody tr th {\n",
       "        vertical-align: top;\n",
       "    }\n",
       "\n",
       "    .dataframe thead th {\n",
       "        text-align: right;\n",
       "    }\n",
       "</style>\n",
       "<table border=\"1\" class=\"dataframe\">\n",
       "  <thead>\n",
       "    <tr style=\"text-align: right;\">\n",
       "      <th></th>\n",
       "      <th>text</th>\n",
       "      <th>label</th>\n",
       "    </tr>\n",
       "  </thead>\n",
       "  <tbody>\n",
       "    <tr>\n",
       "      <th>0</th>\n",
       "      <td>https://www.factset.com/services/portfolio-dat...</td>\n",
       "      <td>legitimate</td>\n",
       "    </tr>\n",
       "    <tr>\n",
       "      <th>1</th>\n",
       "      <td>https://www.factset.com/news/2018/9/18/factset...</td>\n",
       "      <td>legitimate</td>\n",
       "    </tr>\n",
       "    <tr>\n",
       "      <th>2</th>\n",
       "      <td>http://www.factset.com/insight/2016/08/resolve...</td>\n",
       "      <td>legitimate</td>\n",
       "    </tr>\n",
       "    <tr>\n",
       "      <th>3</th>\n",
       "      <td>https://www.factset.com/hubfs/resources%20sect...</td>\n",
       "      <td>legitimate</td>\n",
       "    </tr>\n",
       "    <tr>\n",
       "      <th>4</th>\n",
       "      <td>http://www.factset.com/careers/join-our-team/e...</td>\n",
       "      <td>legitimate</td>\n",
       "    </tr>\n",
       "    <tr>\n",
       "      <th>...</th>\n",
       "      <td>...</td>\n",
       "      <td>...</td>\n",
       "    </tr>\n",
       "    <tr>\n",
       "      <th>296223</th>\n",
       "      <td>http://application-jagex.totalh.com/</td>\n",
       "      <td>phishing</td>\n",
       "    </tr>\n",
       "    <tr>\n",
       "      <th>296224</th>\n",
       "      <td>http://servicesrunescapelogin.megabyet.net/</td>\n",
       "      <td>phishing</td>\n",
       "    </tr>\n",
       "    <tr>\n",
       "      <th>296225</th>\n",
       "      <td>http://us.blizzard.com.login.en.forum-password...</td>\n",
       "      <td>phishing</td>\n",
       "    </tr>\n",
       "    <tr>\n",
       "      <th>296226</th>\n",
       "      <td>http://b2bu3.t35.com</td>\n",
       "      <td>phishing</td>\n",
       "    </tr>\n",
       "    <tr>\n",
       "      <th>296227</th>\n",
       "      <td>http://www.services-runescape-free-level-135-0...</td>\n",
       "      <td>phishing</td>\n",
       "    </tr>\n",
       "  </tbody>\n",
       "</table>\n",
       "<p>296228 rows × 2 columns</p>\n",
       "</div>"
      ],
      "text/plain": [
       "                                                     text       label\n",
       "0       https://www.factset.com/services/portfolio-dat...  legitimate\n",
       "1       https://www.factset.com/news/2018/9/18/factset...  legitimate\n",
       "2       http://www.factset.com/insight/2016/08/resolve...  legitimate\n",
       "3       https://www.factset.com/hubfs/resources%20sect...  legitimate\n",
       "4       http://www.factset.com/careers/join-our-team/e...  legitimate\n",
       "...                                                   ...         ...\n",
       "296223               http://application-jagex.totalh.com/    phishing\n",
       "296224        http://servicesrunescapelogin.megabyet.net/    phishing\n",
       "296225  http://us.blizzard.com.login.en.forum-password...    phishing\n",
       "296226                               http://b2bu3.t35.com    phishing\n",
       "296227  http://www.services-runescape-free-level-135-0...    phishing\n",
       "\n",
       "[296228 rows x 2 columns]"
      ]
     },
     "execution_count": 5,
     "metadata": {},
     "output_type": "execute_result"
    }
   ],
   "source": [
    "df = pd.DataFrame()\n",
    "df['text'] = urls\n",
    "df['label'] = labels\n",
    "df"
   ]
  },
  {
   "cell_type": "code",
   "execution_count": 6,
   "metadata": {},
   "outputs": [],
   "source": [
    "df.to_csv('dataset/url_%d_domain_%d.csv' % (N_URL * 2, N_DOMAIN * 2))"
   ]
  },
  {
   "cell_type": "markdown",
   "metadata": {},
   "source": [
    "## URL Only"
   ]
  },
  {
   "cell_type": "code",
   "execution_count": 2,
   "metadata": {},
   "outputs": [],
   "source": [
    "N_URL = 2170000"
   ]
  },
  {
   "cell_type": "code",
   "execution_count": 11,
   "metadata": {},
   "outputs": [],
   "source": [
    "with open('dataset/url_%d.csv' % (N_URL * 2), 'w') as f:\n",
    "    names = 'index,text,label\\n'\n",
    "    f.write(names)\n",
    "    \n",
    "    for i, url in enumerate(open('dataset/url_legitimates.txt').readlines()[:N_URL]):\n",
    "        url = url.strip()\n",
    "        if '\"' in url:\n",
    "            url = url.replace('\"', '\"\"')\n",
    "        if '\"' in url or ',' in url:\n",
    "            url = '\"%s\"' % url\n",
    "        rows = '%d,%s,%s\\n' % (i, url, 'legitimate')\n",
    "        f.write(rows)\n",
    "    \n",
    "    for i, url in enumerate(open('dataset/url_phishings.txt').readlines()[:N_URL], start=N_URL):\n",
    "        url = url.strip()\n",
    "        if '\"' in url:\n",
    "            url = url.replace('\"', '\"\"')\n",
    "        if '\"' in url or ',' in url:\n",
    "            url = '\"%s\"' % url\n",
    "        rows = '%d,%s,%s\\n' % (i, url, 'phishing')\n",
    "        f.write(rows)"
   ]
  },
  {
   "cell_type": "markdown",
   "metadata": {},
   "source": [
    "## URL4340000 + Domain(legitimate49000, phishing149000)"
   ]
  },
  {
   "cell_type": "code",
   "execution_count": 5,
   "metadata": {},
   "outputs": [],
   "source": [
    "N_URL = 2170000\n",
    "N_DOMAIN_L = 49000\n",
    "N_DOMAIN_P = 149000\n",
    "N_DOMAIN_TOTAL = N_DOMAIN_L + N_DOMAIN_P\n",
    "N_URL_DOMAIN = N_URL + N_DOMAIN_TOTAL"
   ]
  },
  {
   "cell_type": "code",
   "execution_count": 7,
   "metadata": {},
   "outputs": [],
   "source": [
    "with open('dataset/url_%d_domain_%d.csv' % (N_URL * 2, N_DOMAIN_TOTAL), 'w') as f:\n",
    "    names = 'index,text,label\\n'\n",
    "    f.write(names)\n",
    "    \n",
    "    for i, url in enumerate(open('dataset/url_legitimates.txt').readlines()[:N_URL]):\n",
    "        row = get_row(i, url, 'legitimate')\n",
    "        f.write(row)\n",
    "    \n",
    "    for i, url in enumerate(open('dataset/domain_legitimates.txt').readlines()[:N_DOMAIN_L], start=N_URL):\n",
    "        row = get_row(i, url, 'legitimate')\n",
    "        f.write(row)\n",
    "    \n",
    "    for i, url in enumerate(open('dataset/url_phishings.txt').readlines()[:N_URL], start=N_URL + N_DOMAIN_L):\n",
    "        row = get_row(i, url, 'phishing')\n",
    "        f.write(row)\n",
    "    \n",
    "    for i, url in enumerate(open('dataset/domain_phishings.txt').readlines()[:N_DOMAIN_P], start=N_URL + N_DOMAIN_TOTAL):\n",
    "        row = get_row(i, url, 'phishing')\n",
    "        f.write(row)"
   ]
  },
  {
   "cell_type": "markdown",
   "metadata": {},
   "source": [
    "## Split Train Test"
   ]
  },
  {
   "cell_type": "code",
   "execution_count": 4,
   "metadata": {},
   "outputs": [],
   "source": [
    "from sklearn.model_selection import train_test_split"
   ]
  },
  {
   "cell_type": "code",
   "execution_count": 3,
   "metadata": {},
   "outputs": [
    {
     "name": "stderr",
     "output_type": "stream",
     "text": [
      "c:\\python37\\lib\\site-packages\\numpy\\lib\\arraysetops.py:569: FutureWarning: elementwise comparison failed; returning scalar instead, but in the future will perform elementwise comparison\n",
      "  mask |= (ar1 == a)\n"
     ]
    }
   ],
   "source": [
    "X_train = pd.read_csv('dataset/url_4340000_domain_198000.csv', index_col=0, dtype={'text': str, 'label': 'category'})"
   ]
  },
  {
   "cell_type": "code",
   "execution_count": 5,
   "metadata": {},
   "outputs": [],
   "source": [
    "X_train, X_test = train_test_split(X_train)"
   ]
  },
  {
   "cell_type": "code",
   "execution_count": 10,
   "metadata": {},
   "outputs": [],
   "source": [
    "X_test.to_csv('dataset/val_url_domain_1134500.csv')"
   ]
  },
  {
   "cell_type": "code",
   "execution_count": 11,
   "metadata": {},
   "outputs": [],
   "source": [
    "X_train.to_csv('dataset/train_url_domain_3403500.csv')"
   ]
  },
  {
   "cell_type": "code",
   "execution_count": null,
   "metadata": {},
   "outputs": [],
   "source": []
  }
 ],
 "metadata": {
  "kernelspec": {
   "display_name": "Python 3",
   "language": "python",
   "name": "python3"
  },
  "language_info": {
   "codemirror_mode": {
    "name": "ipython",
    "version": 3
   },
   "file_extension": ".py",
   "mimetype": "text/x-python",
   "name": "python",
   "nbconvert_exporter": "python",
   "pygments_lexer": "ipython3",
   "version": "3.7.6"
  }
 },
 "nbformat": 4,
 "nbformat_minor": 4
}
